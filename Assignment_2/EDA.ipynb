{
 "cells": [
  {
   "cell_type": "code",
   "execution_count": 1,
   "id": "5748e72e-e4d0-48dc-86a0-096f57af176f",
   "metadata": {},
   "outputs": [],
   "source": [
    "import os\n",
    "import glob\n",
    "import pandas as pd\n",
    "import matplotlib.pyplot as plt\n",
    "import numpy as np\n",
    "import random\n",
    "from datetime import datetime, timedelta\n",
    "from dateutil.relativedelta import relativedelta\n",
    "import pprint\n",
    "import pyspark\n",
    "import pyspark.sql.functions as F\n",
    "\n",
    "from pyspark.sql.functions import col\n",
    "from pyspark.sql.types import StringType, IntegerType, FloatType, DateType\n",
    "\n",
    "from utils.data_processing_bronze_table import process_bronze_tables\n",
    "from utils.data_processing_silver_table import process_silver_tables\n",
    "from utils.data_processing_gold_table import process_gold_tables"
   ]
  },
  {
   "cell_type": "code",
   "execution_count": 2,
   "id": "efa1c4a8-69c6-4067-8124-19adf9adb25d",
   "metadata": {},
   "outputs": [
    {
     "name": "stderr",
     "output_type": "stream",
     "text": [
      "Setting default log level to \"WARN\".\n",
      "To adjust logging level use sc.setLogLevel(newLevel). For SparkR, use setLogLevel(newLevel).\n",
      "25/10/28 19:37:16 WARN NativeCodeLoader: Unable to load native-hadoop library for your platform... using builtin-java classes where applicable\n"
     ]
    }
   ],
   "source": [
    "# Initialize SparkSession\n",
    "spark = pyspark.sql.SparkSession.builder \\\n",
    "    .appName(\"dev\") \\\n",
    "    .master(\"local[*]\") \\\n",
    "    .getOrCreate()\n",
    "\n",
    "# Set log level to ERROR to hide warnings\n",
    "spark.sparkContext.setLogLevel(\"ERROR\")"
   ]
  },
  {
   "cell_type": "markdown",
   "id": "42696fc0-a135-4de5-88aa-0bbe82611a99",
   "metadata": {
    "jp-MarkdownHeadingCollapsed": true
   },
   "source": [
    "### EDA"
   ]
  },
  {
   "cell_type": "code",
   "execution_count": 3,
   "id": "d8e23817-16a7-418b-b432-996566e20629",
   "metadata": {},
   "outputs": [],
   "source": [
    "clickstream_df = pd.read_csv(\"data/feature_clickstream.csv\")"
   ]
  },
  {
   "cell_type": "code",
   "execution_count": 16,
   "id": "6bcb45dc-d387-4eae-9461-613b401f885a",
   "metadata": {},
   "outputs": [
    {
     "name": "stdout",
     "output_type": "stream",
     "text": [
      "Earliest snapshot date: 2023-01-01 00:00:00\n",
      "Latest snapshot date: 2024-12-01 00:00:00\n"
     ]
    }
   ],
   "source": [
    "clickstream_df['snapshot_date'] = pd.to_datetime(clickstream_df['snapshot_date'], errors='coerce')\n",
    "\n",
    "# view min and max\n",
    "min_date = clickstream_df['snapshot_date'].min()\n",
    "max_date = clickstream_df['snapshot_date'].max()\n",
    "\n",
    "print(\"Earliest snapshot date:\", min_date)\n",
    "print(\"Latest snapshot date:\", max_date)"
   ]
  },
  {
   "cell_type": "code",
   "execution_count": 4,
   "id": "17007604-03d2-4d8e-97b5-c5c2c8ead8f5",
   "metadata": {},
   "outputs": [],
   "source": [
    "attributes_df = pd.read_csv(\"data/features_attributes.csv\")"
   ]
  },
  {
   "cell_type": "code",
   "execution_count": 5,
   "id": "a666707b-ab42-4830-9fd1-1f56b3781ca5",
   "metadata": {},
   "outputs": [],
   "source": [
    "financials_df = pd.read_csv(\"data/features_financials.csv\")"
   ]
  },
  {
   "cell_type": "code",
   "execution_count": 14,
   "id": "d4610383-26cd-4cf6-bf64-f3aa0ca649f5",
   "metadata": {},
   "outputs": [
    {
     "name": "stdout",
     "output_type": "stream",
     "text": [
      "Earliest snapshot date: 2023-01-01 00:00:00\n",
      "Latest snapshot date: 2025-01-01 00:00:00\n"
     ]
    }
   ],
   "source": [
    "financials_df['snapshot_date'] = pd.to_datetime(financials_df['snapshot_date'], errors='coerce')\n",
    "\n",
    "# view min and max\n",
    "min_date = financials_df['snapshot_date'].min()\n",
    "max_date = financials_df['snapshot_date'].max()\n",
    "\n",
    "print(\"Earliest snapshot date:\", min_date)\n",
    "print(\"Latest snapshot date:\", max_date)"
   ]
  },
  {
   "cell_type": "code",
   "execution_count": 26,
   "id": "54142179-b1f3-4b18-b84c-9a95c949382b",
   "metadata": {},
   "outputs": [],
   "source": [
    "loans_df = pd.read_csv(\"data/lms_loan_daily.csv\")"
   ]
  },
  {
   "cell_type": "code",
   "execution_count": 27,
   "id": "d9c91da6-94cb-40b6-8df5-5ab81e6805cb",
   "metadata": {},
   "outputs": [
    {
     "name": "stdout",
     "output_type": "stream",
     "text": [
      "Earliest loan start date: 2023-01-01 00:00:00\n",
      "Latest loan start date: 2025-01-01 00:00:00\n"
     ]
    }
   ],
   "source": [
    "loans_df['loan_start_date'] = pd.to_datetime(loans_df['loan_start_date'], errors='coerce')\n",
    "\n",
    "# view min and max\n",
    "min_date = loans_df['loan_start_date'].min()\n",
    "max_date = loans_df['loan_start_date'].max()\n",
    "\n",
    "print(\"Earliest loan start date:\", min_date)\n",
    "print(\"Latest loan start date:\", max_date)"
   ]
  },
  {
   "cell_type": "code",
   "execution_count": 28,
   "id": "1a4feae1-5307-45c8-a6a8-daa1aaeb3696",
   "metadata": {},
   "outputs": [
    {
     "data": {
      "text/html": [
       "<div>\n",
       "<style scoped>\n",
       "    .dataframe tbody tr th:only-of-type {\n",
       "        vertical-align: middle;\n",
       "    }\n",
       "\n",
       "    .dataframe tbody tr th {\n",
       "        vertical-align: top;\n",
       "    }\n",
       "\n",
       "    .dataframe thead th {\n",
       "        text-align: right;\n",
       "    }\n",
       "</style>\n",
       "<table border=\"1\" class=\"dataframe\">\n",
       "  <thead>\n",
       "    <tr style=\"text-align: right;\">\n",
       "      <th></th>\n",
       "      <th>loan_id</th>\n",
       "      <th>Customer_ID</th>\n",
       "      <th>loan_start_date</th>\n",
       "      <th>tenure</th>\n",
       "      <th>installment_num</th>\n",
       "      <th>loan_amt</th>\n",
       "      <th>due_amt</th>\n",
       "      <th>paid_amt</th>\n",
       "      <th>overdue_amt</th>\n",
       "      <th>balance</th>\n",
       "      <th>snapshot_date</th>\n",
       "    </tr>\n",
       "  </thead>\n",
       "  <tbody>\n",
       "    <tr>\n",
       "      <th>0</th>\n",
       "      <td>CUS_0x1000_2023_05_01</td>\n",
       "      <td>CUS_0x1000</td>\n",
       "      <td>2023-05-01</td>\n",
       "      <td>10</td>\n",
       "      <td>0</td>\n",
       "      <td>10000</td>\n",
       "      <td>0.0</td>\n",
       "      <td>0.0</td>\n",
       "      <td>0.0</td>\n",
       "      <td>10000.0</td>\n",
       "      <td>2023-05-01</td>\n",
       "    </tr>\n",
       "    <tr>\n",
       "      <th>1</th>\n",
       "      <td>CUS_0x1000_2023_05_01</td>\n",
       "      <td>CUS_0x1000</td>\n",
       "      <td>2023-05-01</td>\n",
       "      <td>10</td>\n",
       "      <td>1</td>\n",
       "      <td>10000</td>\n",
       "      <td>1000.0</td>\n",
       "      <td>1000.0</td>\n",
       "      <td>0.0</td>\n",
       "      <td>9000.0</td>\n",
       "      <td>2023-06-01</td>\n",
       "    </tr>\n",
       "    <tr>\n",
       "      <th>2</th>\n",
       "      <td>CUS_0x1000_2023_05_01</td>\n",
       "      <td>CUS_0x1000</td>\n",
       "      <td>2023-05-01</td>\n",
       "      <td>10</td>\n",
       "      <td>2</td>\n",
       "      <td>10000</td>\n",
       "      <td>1000.0</td>\n",
       "      <td>1000.0</td>\n",
       "      <td>0.0</td>\n",
       "      <td>8000.0</td>\n",
       "      <td>2023-07-01</td>\n",
       "    </tr>\n",
       "    <tr>\n",
       "      <th>3</th>\n",
       "      <td>CUS_0x1000_2023_05_01</td>\n",
       "      <td>CUS_0x1000</td>\n",
       "      <td>2023-05-01</td>\n",
       "      <td>10</td>\n",
       "      <td>3</td>\n",
       "      <td>10000</td>\n",
       "      <td>1000.0</td>\n",
       "      <td>0.0</td>\n",
       "      <td>1000.0</td>\n",
       "      <td>8000.0</td>\n",
       "      <td>2023-08-01</td>\n",
       "    </tr>\n",
       "    <tr>\n",
       "      <th>4</th>\n",
       "      <td>CUS_0x1000_2023_05_01</td>\n",
       "      <td>CUS_0x1000</td>\n",
       "      <td>2023-05-01</td>\n",
       "      <td>10</td>\n",
       "      <td>4</td>\n",
       "      <td>10000</td>\n",
       "      <td>1000.0</td>\n",
       "      <td>2000.0</td>\n",
       "      <td>0.0</td>\n",
       "      <td>6000.0</td>\n",
       "      <td>2023-09-01</td>\n",
       "    </tr>\n",
       "    <tr>\n",
       "      <th>...</th>\n",
       "      <td>...</td>\n",
       "      <td>...</td>\n",
       "      <td>...</td>\n",
       "      <td>...</td>\n",
       "      <td>...</td>\n",
       "      <td>...</td>\n",
       "      <td>...</td>\n",
       "      <td>...</td>\n",
       "      <td>...</td>\n",
       "      <td>...</td>\n",
       "      <td>...</td>\n",
       "    </tr>\n",
       "    <tr>\n",
       "      <th>137495</th>\n",
       "      <td>CUS_0xffd_2024_03_01</td>\n",
       "      <td>CUS_0xffd</td>\n",
       "      <td>2024-03-01</td>\n",
       "      <td>10</td>\n",
       "      <td>6</td>\n",
       "      <td>10000</td>\n",
       "      <td>1000.0</td>\n",
       "      <td>1000.0</td>\n",
       "      <td>0.0</td>\n",
       "      <td>4000.0</td>\n",
       "      <td>2024-09-01</td>\n",
       "    </tr>\n",
       "    <tr>\n",
       "      <th>137496</th>\n",
       "      <td>CUS_0xffd_2024_03_01</td>\n",
       "      <td>CUS_0xffd</td>\n",
       "      <td>2024-03-01</td>\n",
       "      <td>10</td>\n",
       "      <td>7</td>\n",
       "      <td>10000</td>\n",
       "      <td>1000.0</td>\n",
       "      <td>1000.0</td>\n",
       "      <td>0.0</td>\n",
       "      <td>3000.0</td>\n",
       "      <td>2024-10-01</td>\n",
       "    </tr>\n",
       "    <tr>\n",
       "      <th>137497</th>\n",
       "      <td>CUS_0xffd_2024_03_01</td>\n",
       "      <td>CUS_0xffd</td>\n",
       "      <td>2024-03-01</td>\n",
       "      <td>10</td>\n",
       "      <td>8</td>\n",
       "      <td>10000</td>\n",
       "      <td>1000.0</td>\n",
       "      <td>1000.0</td>\n",
       "      <td>0.0</td>\n",
       "      <td>2000.0</td>\n",
       "      <td>2024-11-01</td>\n",
       "    </tr>\n",
       "    <tr>\n",
       "      <th>137498</th>\n",
       "      <td>CUS_0xffd_2024_03_01</td>\n",
       "      <td>CUS_0xffd</td>\n",
       "      <td>2024-03-01</td>\n",
       "      <td>10</td>\n",
       "      <td>9</td>\n",
       "      <td>10000</td>\n",
       "      <td>1000.0</td>\n",
       "      <td>1000.0</td>\n",
       "      <td>0.0</td>\n",
       "      <td>1000.0</td>\n",
       "      <td>2024-12-01</td>\n",
       "    </tr>\n",
       "    <tr>\n",
       "      <th>137499</th>\n",
       "      <td>CUS_0xffd_2024_03_01</td>\n",
       "      <td>CUS_0xffd</td>\n",
       "      <td>2024-03-01</td>\n",
       "      <td>10</td>\n",
       "      <td>10</td>\n",
       "      <td>10000</td>\n",
       "      <td>1000.0</td>\n",
       "      <td>1000.0</td>\n",
       "      <td>0.0</td>\n",
       "      <td>0.0</td>\n",
       "      <td>2025-01-01</td>\n",
       "    </tr>\n",
       "  </tbody>\n",
       "</table>\n",
       "<p>137500 rows × 11 columns</p>\n",
       "</div>"
      ],
      "text/plain": [
       "                      loan_id Customer_ID loan_start_date  tenure  \\\n",
       "0       CUS_0x1000_2023_05_01  CUS_0x1000      2023-05-01      10   \n",
       "1       CUS_0x1000_2023_05_01  CUS_0x1000      2023-05-01      10   \n",
       "2       CUS_0x1000_2023_05_01  CUS_0x1000      2023-05-01      10   \n",
       "3       CUS_0x1000_2023_05_01  CUS_0x1000      2023-05-01      10   \n",
       "4       CUS_0x1000_2023_05_01  CUS_0x1000      2023-05-01      10   \n",
       "...                       ...         ...             ...     ...   \n",
       "137495   CUS_0xffd_2024_03_01   CUS_0xffd      2024-03-01      10   \n",
       "137496   CUS_0xffd_2024_03_01   CUS_0xffd      2024-03-01      10   \n",
       "137497   CUS_0xffd_2024_03_01   CUS_0xffd      2024-03-01      10   \n",
       "137498   CUS_0xffd_2024_03_01   CUS_0xffd      2024-03-01      10   \n",
       "137499   CUS_0xffd_2024_03_01   CUS_0xffd      2024-03-01      10   \n",
       "\n",
       "        installment_num  loan_amt  due_amt  paid_amt  overdue_amt  balance  \\\n",
       "0                     0     10000      0.0       0.0          0.0  10000.0   \n",
       "1                     1     10000   1000.0    1000.0          0.0   9000.0   \n",
       "2                     2     10000   1000.0    1000.0          0.0   8000.0   \n",
       "3                     3     10000   1000.0       0.0       1000.0   8000.0   \n",
       "4                     4     10000   1000.0    2000.0          0.0   6000.0   \n",
       "...                 ...       ...      ...       ...          ...      ...   \n",
       "137495                6     10000   1000.0    1000.0          0.0   4000.0   \n",
       "137496                7     10000   1000.0    1000.0          0.0   3000.0   \n",
       "137497                8     10000   1000.0    1000.0          0.0   2000.0   \n",
       "137498                9     10000   1000.0    1000.0          0.0   1000.0   \n",
       "137499               10     10000   1000.0    1000.0          0.0      0.0   \n",
       "\n",
       "       snapshot_date  \n",
       "0         2023-05-01  \n",
       "1         2023-06-01  \n",
       "2         2023-07-01  \n",
       "3         2023-08-01  \n",
       "4         2023-09-01  \n",
       "...              ...  \n",
       "137495    2024-09-01  \n",
       "137496    2024-10-01  \n",
       "137497    2024-11-01  \n",
       "137498    2024-12-01  \n",
       "137499    2025-01-01  \n",
       "\n",
       "[137500 rows x 11 columns]"
      ]
     },
     "execution_count": 28,
     "metadata": {},
     "output_type": "execute_result"
    }
   ],
   "source": [
    "loans_df"
   ]
  },
  {
   "cell_type": "code",
   "execution_count": 30,
   "id": "dc43aded-1d09-4e3d-8728-c5b7d617e3d1",
   "metadata": {},
   "outputs": [
    {
     "name": "stdout",
     "output_type": "stream",
     "text": [
      "Percentage of customers meeting condition: 5.14%\n"
     ]
    }
   ],
   "source": [
    "import pandas as pd\n",
    "\n",
    "# Condition 1: any overdue after installment 4\n",
    "any_overdue_after_4 = (\n",
    "    loans_df\n",
    "    .loc[loans_df[\"installment_num\"] >= 4]\n",
    "    .groupby(\"Customer_ID\")[\"overdue_amt\"]\n",
    "    .apply(lambda x: (x > 0).any())\n",
    ")\n",
    "\n",
    "# Condition 2: all zero overdue before installment 4\n",
    "no_overdue_before_4 = (\n",
    "    loans_df\n",
    "    .loc[loans_df[\"installment_num\"] < 4]\n",
    "    .groupby(\"Customer_ID\")[\"overdue_amt\"]\n",
    "    .apply(lambda x: (x == 0).all())\n",
    ")\n",
    "\n",
    "# Combine both conditions (align indices)\n",
    "flags = pd.concat([any_overdue_after_4, no_overdue_before_4], axis=1)\n",
    "flags.columns = [\"any_overdue_after_4\", \"no_overdue_before_4\"]\n",
    "\n",
    "# Select customers satisfying both\n",
    "qualified_customers = flags[\n",
    "    (flags[\"any_overdue_after_4\"]) & (flags[\"no_overdue_before_4\"])\n",
    "]\n",
    "\n",
    "# Compute percentage\n",
    "total_customers = loans_df[\"Customer_ID\"].nunique()\n",
    "qualified_percentage = (len(qualified_customers) / total_customers) * 100\n",
    "\n",
    "print(f\"Percentage of customers meeting condition: {qualified_percentage:.2f}%\")\n",
    "\n",
    "# Optional: get qualifying customer IDs\n",
    "qualified_ids = qualified_customers.index.tolist()"
   ]
  },
  {
   "cell_type": "code",
   "execution_count": 31,
   "id": "313363c4-11dc-4859-9d04-b0da16ae8931",
   "metadata": {},
   "outputs": [
    {
     "name": "stdout",
     "output_type": "stream",
     "text": [
      "Percentage of customers meeting condition: 17.82%\n"
     ]
    }
   ],
   "source": [
    "import pandas as pd\n",
    "\n",
    "# Condition 1: any overdue after installment 4\n",
    "any_overdue_after_4 = (\n",
    "    loans_df.loc[loans_df[\"installment_num\"] >= 4]\n",
    "    .groupby(\"Customer_ID\")[\"overdue_amt\"]\n",
    "    .apply(lambda x: (x > 0).any())\n",
    ")\n",
    "\n",
    "# Condition 2: all zero overdue before installment 4\n",
    "no_overdue_before_4 = (\n",
    "    loans_df.loc[loans_df[\"installment_num\"] < 4]\n",
    "    .groupby(\"Customer_ID\")[\"overdue_amt\"]\n",
    "    .apply(lambda x: (x == 0).all())\n",
    ")\n",
    "\n",
    "# Combine both conditions\n",
    "flags = pd.concat([any_overdue_after_4, no_overdue_before_4], axis=1).fillna(False)\n",
    "flags.columns = [\"any_overdue_after_4\", \"no_overdue_before_4\"]\n",
    "\n",
    "# Select customers satisfying both\n",
    "qualified_customers = flags[\n",
    "    (flags[\"any_overdue_after_4\"]) & (flags[\"no_overdue_before_4\"])\n",
    "]\n",
    "\n",
    "# ✅ Compute denominator: customers who had *any* overdue_amt > 0 anywhere\n",
    "customers_with_any_overdue = (\n",
    "    loans_df.groupby(\"Customer_ID\")[\"overdue_amt\"]\n",
    "    .apply(lambda x: (x > 0).any())\n",
    ")\n",
    "num_customers_with_overdue = customers_with_any_overdue.sum()\n",
    "\n",
    "# Compute new percentage\n",
    "qualified_percentage = (len(qualified_customers) / num_customers_with_overdue) * 100\n",
    "\n",
    "print(f\"Percentage of customers meeting condition: {qualified_percentage:.2f}%\")\n",
    "\n",
    "# Optional: list of qualifying IDs\n",
    "qualified_ids = qualified_customers.index.tolist()"
   ]
  },
  {
   "cell_type": "code",
   "execution_count": 35,
   "id": "1f2220c1-7638-47ac-b77c-ff249b01c9d8",
   "metadata": {},
   "outputs": [
    {
     "name": "stdout",
     "output_type": "stream",
     "text": [
      "Percentage of customers meeting condition: 2.97%\n"
     ]
    }
   ],
   "source": [
    "import pandas as pd\n",
    "\n",
    "# Condition 1: any overdue after installment 4\n",
    "any_overdue_after_4 = (\n",
    "    loans_df.loc[loans_df[\"installment_num\"] >= 5]\n",
    "    .groupby(\"Customer_ID\")[\"overdue_amt\"]\n",
    "    .apply(lambda x: (x > 0).any())\n",
    ")\n",
    "\n",
    "# Condition 2: all zero overdue before installment 4\n",
    "no_overdue_before_4 = (\n",
    "    loans_df.loc[loans_df[\"installment_num\"] < 5]\n",
    "    .groupby(\"Customer_ID\")[\"overdue_amt\"]\n",
    "    .apply(lambda x: (x == 0).all())\n",
    ")\n",
    "\n",
    "# Combine both conditions\n",
    "flags = pd.concat([any_overdue_after_4, no_overdue_before_4], axis=1).fillna(False)\n",
    "flags.columns = [\"any_overdue_after_4\", \"no_overdue_before_4\"]\n",
    "\n",
    "# Select customers satisfying both\n",
    "qualified_customers = flags[\n",
    "    (flags[\"any_overdue_after_4\"]) & (flags[\"no_overdue_before_4\"])\n",
    "]\n",
    "\n",
    "# ✅ Compute denominator: customers who had *any* overdue_amt > 0 anywhere\n",
    "customers_with_any_overdue = (\n",
    "    loans_df.groupby(\"Customer_ID\")[\"overdue_amt\"]\n",
    "    .apply(lambda x: (x > 0).any())\n",
    ")\n",
    "num_customers_with_overdue = customers_with_any_overdue.sum()\n",
    "\n",
    "# Compute new percentage\n",
    "qualified_percentage = (len(qualified_customers) / num_customers_with_overdue) * 100\n",
    "\n",
    "print(f\"Percentage of customers meeting condition: {qualified_percentage:.2f}%\")\n",
    "\n",
    "# Optional: list of qualifying IDs\n",
    "qualified_ids = qualified_customers.index.tolist()"
   ]
  },
  {
   "cell_type": "code",
   "execution_count": 38,
   "id": "fe0dc9b1-e869-443b-84fd-eb809242d73c",
   "metadata": {},
   "outputs": [
    {
     "name": "stdout",
     "output_type": "stream",
     "text": [
      "1) Customers with any overdue_amt at any period: 3602\n",
      "2) Customers with any overdue_amt when installment_num <= 6: 3495\n"
     ]
    }
   ],
   "source": [
    "import pandas as pd\n",
    "\n",
    "# (1) Customers who have any overdue_amt > 0 at any period\n",
    "customers_with_overdue_any = (\n",
    "    loans_df.groupby(\"Customer_ID\")[\"overdue_amt\"]\n",
    "    .apply(lambda x: (x > 0).any())\n",
    ")\n",
    "num_customers_with_overdue_any = customers_with_overdue_any.sum()\n",
    "\n",
    "# (2) Customers who have any overdue_amt > 0 when installment_num <= 6\n",
    "customers_with_overdue_upto6 = (\n",
    "    loans_df[loans_df[\"installment_num\"] <= 4]\n",
    "    .groupby(\"Customer_ID\")[\"overdue_amt\"]\n",
    "    .apply(lambda x: (x > 0).any())\n",
    ")\n",
    "num_customers_with_overdue_upto6 = customers_with_overdue_upto6.sum()\n",
    "\n",
    "# Print results\n",
    "print(f\"1) Customers with any overdue_amt at any period: {num_customers_with_overdue_any}\")\n",
    "print(f\"2) Customers with any overdue_amt when installment_num <= 6: {num_customers_with_overdue_upto6}\")\n"
   ]
  },
  {
   "cell_type": "code",
   "execution_count": null,
   "id": "0f48a21e-4c5b-4f99-98d1-451fc264b63a",
   "metadata": {},
   "outputs": [],
   "source": []
  },
  {
   "cell_type": "code",
   "execution_count": 18,
   "id": "9ebbf53e-2706-428a-9007-f8bac48f9e1d",
   "metadata": {},
   "outputs": [
    {
     "name": "stdout",
     "output_type": "stream",
     "text": [
      "Row count: 498\n"
     ]
    }
   ],
   "source": [
    "# Path to the specific snapshot file\n",
    "path = \"datamart/gold/label_store/2024_10_01.parquet\"\n",
    "\n",
    "# Load into Spark DataFrame\n",
    "df = spark.read.parquet(path)\n",
    "\n",
    "# Count rows\n",
    "print(\"Row count:\", df.count())\n",
    "\n",
    "# If you want to convert to pandas for inspection:\n",
    "pdf = df.toPandas()"
   ]
  },
  {
   "cell_type": "code",
   "execution_count": 5,
   "id": "ac74fb20-e796-45dd-a963-c6aea5e7ab95",
   "metadata": {},
   "outputs": [
    {
     "name": "stderr",
     "output_type": "stream",
     "text": [
      "                                                                                "
     ]
    },
    {
     "name": "stdout",
     "output_type": "stream",
     "text": [
      "Row count: 5418\n"
     ]
    }
   ],
   "source": [
    "# Path to the specific snapshot file\n",
    "path = \"datamart/gold/feature_store/2024_06_01.parquet\"\n",
    "\n",
    "# Load into Spark DataFrame\n",
    "df = spark.read.parquet(path)\n",
    "\n",
    "# Count rows\n",
    "print(\"Row count:\", df.count())\n",
    "\n",
    "# If you want to convert to pandas for inspection:\n",
    "pdf = df.toPandas()"
   ]
  },
  {
   "cell_type": "code",
   "execution_count": 7,
   "id": "21e08584-3bf8-4557-933f-3edb6fdbd8da",
   "metadata": {
    "scrolled": true
   },
   "outputs": [
    {
     "data": {
      "text/plain": [
       "['Customer_ID',\n",
       " 'loan_start_date',\n",
       " 'Age',\n",
       " 'Age_valid',\n",
       " 'Occupation',\n",
       " 'Annual_Income',\n",
       " 'Monthly_Inhand_Salary',\n",
       " 'Num_Bank_Accounts',\n",
       " 'Num_Credit_Card',\n",
       " 'Interest_Rate',\n",
       " 'Num_of_Loan',\n",
       " 'Delay_from_due_date',\n",
       " 'Num_of_Delayed_Payment',\n",
       " 'Changed_Credit_Limit',\n",
       " 'Num_Credit_Inquiries',\n",
       " 'Credit_Mix',\n",
       " 'Outstanding_Debt',\n",
       " 'Credit_Utilization_Ratio',\n",
       " 'Credit_History_Age_Months',\n",
       " 'Payment_of_Min_Amount',\n",
       " 'Amount_invested_monthly',\n",
       " 'Payment_Behaviour',\n",
       " 'Monthly_Balance',\n",
       " 'avg_fe_1_L3M',\n",
       " 'avg_fe_2_L3M',\n",
       " 'avg_fe_3_L3M',\n",
       " 'avg_fe_4_L3M',\n",
       " 'avg_fe_5_L3M',\n",
       " 'avg_fe_6_L3M',\n",
       " 'avg_fe_7_L3M',\n",
       " 'avg_fe_8_L3M',\n",
       " 'avg_fe_9_L3M',\n",
       " 'avg_fe_10_L3M',\n",
       " 'avg_fe_11_L3M',\n",
       " 'avg_fe_12_L3M',\n",
       " 'avg_fe_13_L3M',\n",
       " 'avg_fe_14_L3M',\n",
       " 'avg_fe_15_L3M',\n",
       " 'avg_fe_16_L3M',\n",
       " 'avg_fe_17_L3M',\n",
       " 'avg_fe_18_L3M',\n",
       " 'avg_fe_19_L3M',\n",
       " 'avg_fe_20_L3M',\n",
       " 'sum_fe_1_L3M',\n",
       " 'sum_fe_2_L3M',\n",
       " 'sum_fe_3_L3M',\n",
       " 'sum_fe_4_L3M',\n",
       " 'sum_fe_5_L3M',\n",
       " 'sum_fe_6_L3M',\n",
       " 'sum_fe_7_L3M',\n",
       " 'sum_fe_8_L3M',\n",
       " 'sum_fe_9_L3M',\n",
       " 'sum_fe_10_L3M',\n",
       " 'sum_fe_11_L3M',\n",
       " 'sum_fe_12_L3M',\n",
       " 'sum_fe_13_L3M',\n",
       " 'sum_fe_14_L3M',\n",
       " 'sum_fe_15_L3M',\n",
       " 'sum_fe_16_L3M',\n",
       " 'sum_fe_17_L3M',\n",
       " 'sum_fe_18_L3M',\n",
       " 'sum_fe_19_L3M',\n",
       " 'sum_fe_20_L3M',\n",
       " 'fe_1_LM',\n",
       " 'fe_2_LM',\n",
       " 'fe_3_LM',\n",
       " 'fe_4_LM',\n",
       " 'fe_5_LM',\n",
       " 'fe_6_LM',\n",
       " 'fe_7_LM',\n",
       " 'fe_8_LM',\n",
       " 'fe_9_LM',\n",
       " 'fe_10_LM',\n",
       " 'fe_11_LM',\n",
       " 'fe_12_LM',\n",
       " 'fe_13_LM',\n",
       " 'fe_14_LM',\n",
       " 'fe_15_LM',\n",
       " 'fe_16_LM',\n",
       " 'fe_17_LM',\n",
       " 'fe_18_LM',\n",
       " 'fe_19_LM',\n",
       " 'fe_20_LM',\n",
       " 'LoanType_Auto_Loan',\n",
       " 'LoanType_Credit-Builder_Loan',\n",
       " 'LoanType_Debt_Consolidation_Loan',\n",
       " 'LoanType_Home_Equity_Loan',\n",
       " 'LoanType_Mortgage_Loan',\n",
       " 'LoanType_Not_Specified',\n",
       " 'LoanType_Payday_Loan',\n",
       " 'LoanType_Personal_Loan',\n",
       " 'LoanType_Student_Loan',\n",
       " 'LoanType_No_Loan']"
      ]
     },
     "execution_count": 7,
     "metadata": {},
     "output_type": "execute_result"
    }
   ],
   "source": [
    "pdf.columns.to_list()"
   ]
  },
  {
   "cell_type": "code",
   "execution_count": 12,
   "id": "ffd2b1c7-6db1-4366-9b95-d4146db200c9",
   "metadata": {},
   "outputs": [
    {
     "data": {
      "text/html": [
       "<div>\n",
       "<style scoped>\n",
       "    .dataframe tbody tr th:only-of-type {\n",
       "        vertical-align: middle;\n",
       "    }\n",
       "\n",
       "    .dataframe tbody tr th {\n",
       "        vertical-align: top;\n",
       "    }\n",
       "\n",
       "    .dataframe thead th {\n",
       "        text-align: right;\n",
       "    }\n",
       "</style>\n",
       "<table border=\"1\" class=\"dataframe\">\n",
       "  <thead>\n",
       "    <tr style=\"text-align: right;\">\n",
       "      <th></th>\n",
       "      <th>Customer_ID</th>\n",
       "      <th>loan_start_date</th>\n",
       "      <th>Age</th>\n",
       "      <th>Age_valid</th>\n",
       "      <th>Occupation</th>\n",
       "      <th>Annual_Income</th>\n",
       "      <th>Monthly_Inhand_Salary</th>\n",
       "      <th>Num_Bank_Accounts</th>\n",
       "      <th>Num_Credit_Card</th>\n",
       "      <th>Interest_Rate</th>\n",
       "      <th>...</th>\n",
       "      <th>LoanType_Auto_Loan</th>\n",
       "      <th>LoanType_Credit-Builder_Loan</th>\n",
       "      <th>LoanType_Debt_Consolidation_Loan</th>\n",
       "      <th>LoanType_Home_Equity_Loan</th>\n",
       "      <th>LoanType_Mortgage_Loan</th>\n",
       "      <th>LoanType_Not_Specified</th>\n",
       "      <th>LoanType_Payday_Loan</th>\n",
       "      <th>LoanType_Personal_Loan</th>\n",
       "      <th>LoanType_Student_Loan</th>\n",
       "      <th>LoanType_No_Loan</th>\n",
       "    </tr>\n",
       "  </thead>\n",
       "  <tbody>\n",
       "    <tr>\n",
       "      <th>0</th>\n",
       "      <td>CUS_0x100b</td>\n",
       "      <td>2024-03-01</td>\n",
       "      <td>NaN</td>\n",
       "      <td>NaN</td>\n",
       "      <td>None</td>\n",
       "      <td>NaN</td>\n",
       "      <td>NaN</td>\n",
       "      <td>NaN</td>\n",
       "      <td>NaN</td>\n",
       "      <td>NaN</td>\n",
       "      <td>...</td>\n",
       "      <td>0</td>\n",
       "      <td>0</td>\n",
       "      <td>0</td>\n",
       "      <td>0</td>\n",
       "      <td>0</td>\n",
       "      <td>0</td>\n",
       "      <td>0</td>\n",
       "      <td>0</td>\n",
       "      <td>0</td>\n",
       "      <td>1</td>\n",
       "    </tr>\n",
       "    <tr>\n",
       "      <th>1</th>\n",
       "      <td>CUS_0x1011</td>\n",
       "      <td>2023-11-01</td>\n",
       "      <td>NaN</td>\n",
       "      <td>NaN</td>\n",
       "      <td>None</td>\n",
       "      <td>NaN</td>\n",
       "      <td>NaN</td>\n",
       "      <td>NaN</td>\n",
       "      <td>NaN</td>\n",
       "      <td>NaN</td>\n",
       "      <td>...</td>\n",
       "      <td>0</td>\n",
       "      <td>0</td>\n",
       "      <td>0</td>\n",
       "      <td>0</td>\n",
       "      <td>0</td>\n",
       "      <td>0</td>\n",
       "      <td>0</td>\n",
       "      <td>0</td>\n",
       "      <td>0</td>\n",
       "      <td>1</td>\n",
       "    </tr>\n",
       "    <tr>\n",
       "      <th>2</th>\n",
       "      <td>CUS_0x1013</td>\n",
       "      <td>2023-12-01</td>\n",
       "      <td>NaN</td>\n",
       "      <td>NaN</td>\n",
       "      <td>None</td>\n",
       "      <td>NaN</td>\n",
       "      <td>NaN</td>\n",
       "      <td>NaN</td>\n",
       "      <td>NaN</td>\n",
       "      <td>NaN</td>\n",
       "      <td>...</td>\n",
       "      <td>0</td>\n",
       "      <td>0</td>\n",
       "      <td>0</td>\n",
       "      <td>0</td>\n",
       "      <td>0</td>\n",
       "      <td>0</td>\n",
       "      <td>0</td>\n",
       "      <td>0</td>\n",
       "      <td>0</td>\n",
       "      <td>1</td>\n",
       "    </tr>\n",
       "    <tr>\n",
       "      <th>3</th>\n",
       "      <td>CUS_0x1015</td>\n",
       "      <td>2023-08-01</td>\n",
       "      <td>NaN</td>\n",
       "      <td>NaN</td>\n",
       "      <td>None</td>\n",
       "      <td>NaN</td>\n",
       "      <td>NaN</td>\n",
       "      <td>NaN</td>\n",
       "      <td>NaN</td>\n",
       "      <td>NaN</td>\n",
       "      <td>...</td>\n",
       "      <td>0</td>\n",
       "      <td>0</td>\n",
       "      <td>0</td>\n",
       "      <td>0</td>\n",
       "      <td>0</td>\n",
       "      <td>0</td>\n",
       "      <td>0</td>\n",
       "      <td>0</td>\n",
       "      <td>0</td>\n",
       "      <td>1</td>\n",
       "    </tr>\n",
       "    <tr>\n",
       "      <th>4</th>\n",
       "      <td>CUS_0x1018</td>\n",
       "      <td>2023-11-01</td>\n",
       "      <td>NaN</td>\n",
       "      <td>NaN</td>\n",
       "      <td>None</td>\n",
       "      <td>NaN</td>\n",
       "      <td>NaN</td>\n",
       "      <td>NaN</td>\n",
       "      <td>NaN</td>\n",
       "      <td>NaN</td>\n",
       "      <td>...</td>\n",
       "      <td>0</td>\n",
       "      <td>0</td>\n",
       "      <td>0</td>\n",
       "      <td>0</td>\n",
       "      <td>0</td>\n",
       "      <td>0</td>\n",
       "      <td>0</td>\n",
       "      <td>0</td>\n",
       "      <td>0</td>\n",
       "      <td>1</td>\n",
       "    </tr>\n",
       "    <tr>\n",
       "      <th>...</th>\n",
       "      <td>...</td>\n",
       "      <td>...</td>\n",
       "      <td>...</td>\n",
       "      <td>...</td>\n",
       "      <td>...</td>\n",
       "      <td>...</td>\n",
       "      <td>...</td>\n",
       "      <td>...</td>\n",
       "      <td>...</td>\n",
       "      <td>...</td>\n",
       "      <td>...</td>\n",
       "      <td>...</td>\n",
       "      <td>...</td>\n",
       "      <td>...</td>\n",
       "      <td>...</td>\n",
       "      <td>...</td>\n",
       "      <td>...</td>\n",
       "      <td>...</td>\n",
       "      <td>...</td>\n",
       "      <td>...</td>\n",
       "      <td>...</td>\n",
       "    </tr>\n",
       "    <tr>\n",
       "      <th>5413</th>\n",
       "      <td>CUS_0xfe4</td>\n",
       "      <td>2023-09-01</td>\n",
       "      <td>NaN</td>\n",
       "      <td>NaN</td>\n",
       "      <td>None</td>\n",
       "      <td>NaN</td>\n",
       "      <td>NaN</td>\n",
       "      <td>NaN</td>\n",
       "      <td>NaN</td>\n",
       "      <td>NaN</td>\n",
       "      <td>...</td>\n",
       "      <td>0</td>\n",
       "      <td>0</td>\n",
       "      <td>0</td>\n",
       "      <td>0</td>\n",
       "      <td>0</td>\n",
       "      <td>0</td>\n",
       "      <td>0</td>\n",
       "      <td>0</td>\n",
       "      <td>0</td>\n",
       "      <td>1</td>\n",
       "    </tr>\n",
       "    <tr>\n",
       "      <th>5414</th>\n",
       "      <td>CUS_0xfea</td>\n",
       "      <td>2023-10-01</td>\n",
       "      <td>NaN</td>\n",
       "      <td>NaN</td>\n",
       "      <td>None</td>\n",
       "      <td>NaN</td>\n",
       "      <td>NaN</td>\n",
       "      <td>NaN</td>\n",
       "      <td>NaN</td>\n",
       "      <td>NaN</td>\n",
       "      <td>...</td>\n",
       "      <td>0</td>\n",
       "      <td>0</td>\n",
       "      <td>0</td>\n",
       "      <td>0</td>\n",
       "      <td>0</td>\n",
       "      <td>0</td>\n",
       "      <td>0</td>\n",
       "      <td>0</td>\n",
       "      <td>0</td>\n",
       "      <td>1</td>\n",
       "    </tr>\n",
       "    <tr>\n",
       "      <th>5415</th>\n",
       "      <td>CUS_0xff3</td>\n",
       "      <td>2024-06-01</td>\n",
       "      <td>55.0</td>\n",
       "      <td>1.0</td>\n",
       "      <td>Scientist</td>\n",
       "      <td>17032.789062</td>\n",
       "      <td>1176.398804</td>\n",
       "      <td>0.0</td>\n",
       "      <td>6.0</td>\n",
       "      <td>2.0</td>\n",
       "      <td>...</td>\n",
       "      <td>1</td>\n",
       "      <td>0</td>\n",
       "      <td>0</td>\n",
       "      <td>0</td>\n",
       "      <td>1</td>\n",
       "      <td>0</td>\n",
       "      <td>0</td>\n",
       "      <td>1</td>\n",
       "      <td>0</td>\n",
       "      <td>0</td>\n",
       "    </tr>\n",
       "    <tr>\n",
       "      <th>5416</th>\n",
       "      <td>CUS_0xffc</td>\n",
       "      <td>2024-01-01</td>\n",
       "      <td>NaN</td>\n",
       "      <td>NaN</td>\n",
       "      <td>None</td>\n",
       "      <td>NaN</td>\n",
       "      <td>NaN</td>\n",
       "      <td>NaN</td>\n",
       "      <td>NaN</td>\n",
       "      <td>NaN</td>\n",
       "      <td>...</td>\n",
       "      <td>0</td>\n",
       "      <td>0</td>\n",
       "      <td>0</td>\n",
       "      <td>0</td>\n",
       "      <td>0</td>\n",
       "      <td>0</td>\n",
       "      <td>0</td>\n",
       "      <td>0</td>\n",
       "      <td>0</td>\n",
       "      <td>1</td>\n",
       "    </tr>\n",
       "    <tr>\n",
       "      <th>5417</th>\n",
       "      <td>CUS_0xffd</td>\n",
       "      <td>2024-03-01</td>\n",
       "      <td>NaN</td>\n",
       "      <td>NaN</td>\n",
       "      <td>None</td>\n",
       "      <td>NaN</td>\n",
       "      <td>NaN</td>\n",
       "      <td>NaN</td>\n",
       "      <td>NaN</td>\n",
       "      <td>NaN</td>\n",
       "      <td>...</td>\n",
       "      <td>0</td>\n",
       "      <td>0</td>\n",
       "      <td>0</td>\n",
       "      <td>0</td>\n",
       "      <td>0</td>\n",
       "      <td>0</td>\n",
       "      <td>0</td>\n",
       "      <td>0</td>\n",
       "      <td>0</td>\n",
       "      <td>1</td>\n",
       "    </tr>\n",
       "  </tbody>\n",
       "</table>\n",
       "<p>5418 rows × 93 columns</p>\n",
       "</div>"
      ],
      "text/plain": [
       "     Customer_ID loan_start_date   Age  Age_valid Occupation  Annual_Income  \\\n",
       "0     CUS_0x100b      2024-03-01   NaN        NaN       None            NaN   \n",
       "1     CUS_0x1011      2023-11-01   NaN        NaN       None            NaN   \n",
       "2     CUS_0x1013      2023-12-01   NaN        NaN       None            NaN   \n",
       "3     CUS_0x1015      2023-08-01   NaN        NaN       None            NaN   \n",
       "4     CUS_0x1018      2023-11-01   NaN        NaN       None            NaN   \n",
       "...          ...             ...   ...        ...        ...            ...   \n",
       "5413   CUS_0xfe4      2023-09-01   NaN        NaN       None            NaN   \n",
       "5414   CUS_0xfea      2023-10-01   NaN        NaN       None            NaN   \n",
       "5415   CUS_0xff3      2024-06-01  55.0        1.0  Scientist   17032.789062   \n",
       "5416   CUS_0xffc      2024-01-01   NaN        NaN       None            NaN   \n",
       "5417   CUS_0xffd      2024-03-01   NaN        NaN       None            NaN   \n",
       "\n",
       "      Monthly_Inhand_Salary  Num_Bank_Accounts  Num_Credit_Card  \\\n",
       "0                       NaN                NaN              NaN   \n",
       "1                       NaN                NaN              NaN   \n",
       "2                       NaN                NaN              NaN   \n",
       "3                       NaN                NaN              NaN   \n",
       "4                       NaN                NaN              NaN   \n",
       "...                     ...                ...              ...   \n",
       "5413                    NaN                NaN              NaN   \n",
       "5414                    NaN                NaN              NaN   \n",
       "5415            1176.398804                0.0              6.0   \n",
       "5416                    NaN                NaN              NaN   \n",
       "5417                    NaN                NaN              NaN   \n",
       "\n",
       "      Interest_Rate  ...  LoanType_Auto_Loan  LoanType_Credit-Builder_Loan  \\\n",
       "0               NaN  ...                   0                             0   \n",
       "1               NaN  ...                   0                             0   \n",
       "2               NaN  ...                   0                             0   \n",
       "3               NaN  ...                   0                             0   \n",
       "4               NaN  ...                   0                             0   \n",
       "...             ...  ...                 ...                           ...   \n",
       "5413            NaN  ...                   0                             0   \n",
       "5414            NaN  ...                   0                             0   \n",
       "5415            2.0  ...                   1                             0   \n",
       "5416            NaN  ...                   0                             0   \n",
       "5417            NaN  ...                   0                             0   \n",
       "\n",
       "      LoanType_Debt_Consolidation_Loan  LoanType_Home_Equity_Loan  \\\n",
       "0                                    0                          0   \n",
       "1                                    0                          0   \n",
       "2                                    0                          0   \n",
       "3                                    0                          0   \n",
       "4                                    0                          0   \n",
       "...                                ...                        ...   \n",
       "5413                                 0                          0   \n",
       "5414                                 0                          0   \n",
       "5415                                 0                          0   \n",
       "5416                                 0                          0   \n",
       "5417                                 0                          0   \n",
       "\n",
       "      LoanType_Mortgage_Loan LoanType_Not_Specified  LoanType_Payday_Loan  \\\n",
       "0                          0                      0                     0   \n",
       "1                          0                      0                     0   \n",
       "2                          0                      0                     0   \n",
       "3                          0                      0                     0   \n",
       "4                          0                      0                     0   \n",
       "...                      ...                    ...                   ...   \n",
       "5413                       0                      0                     0   \n",
       "5414                       0                      0                     0   \n",
       "5415                       1                      0                     0   \n",
       "5416                       0                      0                     0   \n",
       "5417                       0                      0                     0   \n",
       "\n",
       "      LoanType_Personal_Loan  LoanType_Student_Loan LoanType_No_Loan  \n",
       "0                          0                      0                1  \n",
       "1                          0                      0                1  \n",
       "2                          0                      0                1  \n",
       "3                          0                      0                1  \n",
       "4                          0                      0                1  \n",
       "...                      ...                    ...              ...  \n",
       "5413                       0                      0                1  \n",
       "5414                       0                      0                1  \n",
       "5415                       1                      0                0  \n",
       "5416                       0                      0                1  \n",
       "5417                       0                      0                1  \n",
       "\n",
       "[5418 rows x 93 columns]"
      ]
     },
     "execution_count": 12,
     "metadata": {},
     "output_type": "execute_result"
    }
   ],
   "source": [
    "pdf"
   ]
  },
  {
   "cell_type": "code",
   "execution_count": 7,
   "id": "c854e44d-ae3c-4e78-b9b5-72dc16ee37ff",
   "metadata": {},
   "outputs": [
    {
     "data": {
      "text/plain": [
       "loan_start_date\n",
       "2024-02-01    518\n",
       "2024-04-01    513\n",
       "2024-03-01    511\n",
       "2024-06-01    498\n",
       "2023-11-01    491\n",
       "2024-05-01    491\n",
       "2023-12-01    489\n",
       "2023-10-01    487\n",
       "2024-01-01    485\n",
       "2023-08-01    481\n",
       "2023-09-01    454\n",
       "Name: count, dtype: int64"
      ]
     },
     "execution_count": 7,
     "metadata": {},
     "output_type": "execute_result"
    }
   ],
   "source": [
    "pdf['loan_start_date'].value_counts()"
   ]
  },
  {
   "cell_type": "code",
   "execution_count": 33,
   "id": "1979299b-55ee-4ef1-9ca8-1f1dc9499530",
   "metadata": {
    "scrolled": true
   },
   "outputs": [
    {
     "name": "stdout",
     "output_type": "stream",
     "text": [
      "Reading: datamart/gold/label_store/2023_04_01.parquet\n",
      "Reading: datamart/gold/label_store/2023_05_01.parquet\n",
      "Reading: datamart/gold/label_store/2023_06_01.parquet\n",
      "Reading: datamart/gold/label_store/2023_07_01.parquet\n",
      "Reading: datamart/gold/label_store/2023_08_01.parquet\n",
      "Reading: datamart/gold/label_store/2023_09_01.parquet\n",
      "Reading: datamart/gold/label_store/2023_10_01.parquet\n",
      "Reading: datamart/gold/label_store/2023_11_01.parquet\n",
      "Reading: datamart/gold/label_store/2023_12_01.parquet\n",
      "Reading: datamart/gold/label_store/2024_01_01.parquet\n",
      "Reading: datamart/gold/label_store/2024_02_01.parquet\n",
      "Reading: datamart/gold/label_store/2024_03_01.parquet\n",
      "Reading: datamart/gold/label_store/2024_04_01.parquet\n",
      "Reading: datamart/gold/label_store/2024_05_01.parquet\n",
      "Reading: datamart/gold/label_store/2024_06_01.parquet\n",
      "Reading: datamart/gold/label_store/2024_07_01.parquet\n",
      "Reading: datamart/gold/label_store/2024_08_01.parquet\n",
      "Reading: datamart/gold/label_store/2024_09_01.parquet\n",
      "Reading: datamart/gold/label_store/2024_10_01.parquet\n",
      "Reading: datamart/gold/label_store/2024_11_01.parquet\n",
      "Reading: datamart/gold/label_store/2024_12_01.parquet\n",
      "Reading: datamart/gold/label_store/2025_01_01.parquet\n",
      "Total row count: 10515\n"
     ]
    }
   ],
   "source": [
    "import os\n",
    "from pyspark.sql import SparkSession\n",
    "\n",
    "# Base directory containing all subfolders\n",
    "base_path = \"datamart/gold/label_store/\"\n",
    "\n",
    "# List all subfolders ending with \".parquet\"\n",
    "subfolders = [\n",
    "    os.path.join(base_path, f)\n",
    "    for f in os.listdir(base_path)\n",
    "    if f.endswith(\".parquet\")\n",
    "]\n",
    "\n",
    "# Read all parquet partitions into a single Spark DataFrame\n",
    "df = None\n",
    "for folder in subfolders:\n",
    "    print(f\"Reading: {folder}\")\n",
    "    temp_df = spark.read.parquet(folder)\n",
    "    df = temp_df if df is None else df.unionByName(temp_df)\n",
    "\n",
    "# Count total rows\n",
    "print(\"Total row count:\", df.count())\n",
    "\n",
    "# Convert to pandas\n",
    "pdf = df.toPandas()"
   ]
  },
  {
   "cell_type": "code",
   "execution_count": 34,
   "id": "aa9a2987-7a94-42c8-bca8-17160538d330",
   "metadata": {},
   "outputs": [
    {
     "data": {
      "text/plain": [
       "['Customer_ID', 'loan_start_date', 'label', 'label_def', 'snapshot_date']"
      ]
     },
     "execution_count": 34,
     "metadata": {},
     "output_type": "execute_result"
    }
   ],
   "source": [
    "pdf.columns.to_list()"
   ]
  },
  {
   "cell_type": "code",
   "execution_count": 26,
   "id": "41e1c8de-9530-47f8-abee-3b1113002699",
   "metadata": {},
   "outputs": [
    {
     "data": {
      "text/plain": [
       "label\n",
       "0    8020\n",
       "1    2495\n",
       "Name: count, dtype: int64"
      ]
     },
     "execution_count": 26,
     "metadata": {},
     "output_type": "execute_result"
    }
   ],
   "source": [
    "pdf['label'].value_counts()"
   ]
  },
  {
   "cell_type": "code",
   "execution_count": 7,
   "id": "5fd6f2dc-0e8d-4b30-8a8a-a12c81c690bf",
   "metadata": {},
   "outputs": [
    {
     "name": "stdout",
     "output_type": "stream",
     "text": [
      "Reading: datamart/gold/feature_store/2023_04_01.parquet\n",
      "Reading: datamart/gold/feature_store/2023_05_01.parquet\n",
      "Reading: datamart/gold/feature_store/2023_06_01.parquet\n",
      "Reading: datamart/gold/feature_store/2023_07_01.parquet\n",
      "Reading: datamart/gold/feature_store/2023_08_01.parquet\n",
      "Reading: datamart/gold/feature_store/2023_09_01.parquet\n",
      "Reading: datamart/gold/feature_store/2023_10_01.parquet\n",
      "Reading: datamart/gold/feature_store/2023_11_01.parquet\n",
      "Reading: datamart/gold/feature_store/2023_12_01.parquet\n",
      "Reading: datamart/gold/feature_store/2024_01_01.parquet\n",
      "Reading: datamart/gold/feature_store/2024_02_01.parquet\n",
      "Reading: datamart/gold/feature_store/2024_03_01.parquet\n",
      "Reading: datamart/gold/feature_store/2024_04_01.parquet\n",
      "Reading: datamart/gold/feature_store/2024_05_01.parquet\n",
      "Reading: datamart/gold/feature_store/2024_06_01.parquet\n",
      "Reading: datamart/gold/feature_store/2024_07_01.parquet\n",
      "Reading: datamart/gold/feature_store/2024_08_01.parquet\n",
      "Reading: datamart/gold/feature_store/2024_09_01.parquet\n",
      "Reading: datamart/gold/feature_store/2024_10_01.parquet\n",
      "Reading: datamart/gold/feature_store/2024_11_01.parquet\n",
      "Reading: datamart/gold/feature_store/2024_12_01.parquet\n",
      "Reading: datamart/gold/feature_store/2025_01_01.parquet\n",
      "Total row count: 106729\n"
     ]
    },
    {
     "name": "stderr",
     "output_type": "stream",
     "text": [
      "                                                                                "
     ]
    }
   ],
   "source": [
    "import os\n",
    "from pyspark.sql import SparkSession\n",
    "\n",
    "# Base directory containing all subfolders\n",
    "base_path = \"datamart/gold/feature_store/\"\n",
    "\n",
    "# List all subfolders ending with \".parquet\"\n",
    "subfolders = [\n",
    "    os.path.join(base_path, f)\n",
    "    for f in os.listdir(base_path)\n",
    "    if f.endswith(\".parquet\")\n",
    "]\n",
    "\n",
    "# Read all parquet partitions into a single Spark DataFrame\n",
    "df = None\n",
    "for folder in subfolders:\n",
    "    print(f\"Reading: {folder}\")\n",
    "    temp_df = spark.read.parquet(folder)\n",
    "    df = temp_df if df is None else df.unionByName(temp_df)\n",
    "\n",
    "# Count total rows\n",
    "print(\"Total row count:\", df.count())\n",
    "\n",
    "# Convert to pandas\n",
    "pdf = df.toPandas()"
   ]
  },
  {
   "cell_type": "code",
   "execution_count": 32,
   "id": "18b3c21f-f176-48b7-b599-7cfd411db8b2",
   "metadata": {
    "scrolled": true
   },
   "outputs": [
    {
     "data": {
      "text/plain": [
       "['Customer_ID',\n",
       " 'loan_start_date',\n",
       " 'Age',\n",
       " 'Age_valid',\n",
       " 'Occupation',\n",
       " 'Annual_Income',\n",
       " 'Monthly_Inhand_Salary',\n",
       " 'Num_Bank_Accounts',\n",
       " 'Num_Credit_Card',\n",
       " 'Interest_Rate',\n",
       " 'Num_of_Loan',\n",
       " 'Delay_from_due_date',\n",
       " 'Num_of_Delayed_Payment',\n",
       " 'Changed_Credit_Limit',\n",
       " 'Num_Credit_Inquiries',\n",
       " 'Credit_Mix',\n",
       " 'Outstanding_Debt',\n",
       " 'Credit_Utilization_Ratio',\n",
       " 'Credit_History_Age_Months',\n",
       " 'Payment_of_Min_Amount',\n",
       " 'Amount_invested_monthly',\n",
       " 'Payment_Behaviour',\n",
       " 'Monthly_Balance',\n",
       " 'avg_fe_1_L3M',\n",
       " 'avg_fe_2_L3M',\n",
       " 'avg_fe_3_L3M',\n",
       " 'avg_fe_4_L3M',\n",
       " 'avg_fe_5_L3M',\n",
       " 'avg_fe_6_L3M',\n",
       " 'avg_fe_7_L3M',\n",
       " 'avg_fe_8_L3M',\n",
       " 'avg_fe_9_L3M',\n",
       " 'avg_fe_10_L3M',\n",
       " 'avg_fe_11_L3M',\n",
       " 'avg_fe_12_L3M',\n",
       " 'avg_fe_13_L3M',\n",
       " 'avg_fe_14_L3M',\n",
       " 'avg_fe_15_L3M',\n",
       " 'avg_fe_16_L3M',\n",
       " 'avg_fe_17_L3M',\n",
       " 'avg_fe_18_L3M',\n",
       " 'avg_fe_19_L3M',\n",
       " 'avg_fe_20_L3M',\n",
       " 'sum_fe_1_L3M',\n",
       " 'sum_fe_2_L3M',\n",
       " 'sum_fe_3_L3M',\n",
       " 'sum_fe_4_L3M',\n",
       " 'sum_fe_5_L3M',\n",
       " 'sum_fe_6_L3M',\n",
       " 'sum_fe_7_L3M',\n",
       " 'sum_fe_8_L3M',\n",
       " 'sum_fe_9_L3M',\n",
       " 'sum_fe_10_L3M',\n",
       " 'sum_fe_11_L3M',\n",
       " 'sum_fe_12_L3M',\n",
       " 'sum_fe_13_L3M',\n",
       " 'sum_fe_14_L3M',\n",
       " 'sum_fe_15_L3M',\n",
       " 'sum_fe_16_L3M',\n",
       " 'sum_fe_17_L3M',\n",
       " 'sum_fe_18_L3M',\n",
       " 'sum_fe_19_L3M',\n",
       " 'sum_fe_20_L3M',\n",
       " 'fe_1_LM',\n",
       " 'fe_2_LM',\n",
       " 'fe_3_LM',\n",
       " 'fe_4_LM',\n",
       " 'fe_5_LM',\n",
       " 'fe_6_LM',\n",
       " 'fe_7_LM',\n",
       " 'fe_8_LM',\n",
       " 'fe_9_LM',\n",
       " 'fe_10_LM',\n",
       " 'fe_11_LM',\n",
       " 'fe_12_LM',\n",
       " 'fe_13_LM',\n",
       " 'fe_14_LM',\n",
       " 'fe_15_LM',\n",
       " 'fe_16_LM',\n",
       " 'fe_17_LM',\n",
       " 'fe_18_LM',\n",
       " 'fe_19_LM',\n",
       " 'fe_20_LM',\n",
       " 'LoanType_Auto_Loan',\n",
       " 'LoanType_Credit-Builder_Loan',\n",
       " 'LoanType_Debt_Consolidation_Loan',\n",
       " 'LoanType_Home_Equity_Loan',\n",
       " 'LoanType_Mortgage_Loan',\n",
       " 'LoanType_Not_Specified',\n",
       " 'LoanType_Payday_Loan',\n",
       " 'LoanType_Personal_Loan',\n",
       " 'LoanType_Student_Loan',\n",
       " 'LoanType_No_Loan']"
      ]
     },
     "execution_count": 32,
     "metadata": {},
     "output_type": "execute_result"
    }
   ],
   "source": [
    "pdf.columns.to_list()"
   ]
  },
  {
   "cell_type": "code",
   "execution_count": null,
   "id": "31190f1a-c451-460d-93f5-ab0ef96851d2",
   "metadata": {},
   "outputs": [],
   "source": []
  },
  {
   "cell_type": "code",
   "execution_count": null,
   "id": "678c2dd2-c2f5-4af7-8775-685e29b7ae33",
   "metadata": {},
   "outputs": [],
   "source": []
  },
  {
   "cell_type": "code",
   "execution_count": null,
   "id": "62129030-53fd-4e3f-8273-75df1904b2a9",
   "metadata": {},
   "outputs": [],
   "source": []
  },
  {
   "cell_type": "code",
   "execution_count": null,
   "id": "10ce647f-3b36-4398-bc92-7b5b843b8b5a",
   "metadata": {},
   "outputs": [],
   "source": []
  },
  {
   "cell_type": "markdown",
   "id": "55f2b722-6be4-4eeb-9c86-a9edf7f45da5",
   "metadata": {
    "jp-MarkdownHeadingCollapsed": true
   },
   "source": [
    "### Fun with YAML"
   ]
  },
  {
   "cell_type": "code",
   "execution_count": 5,
   "id": "a2621bcb-647e-45fa-8d2b-16a99b112b21",
   "metadata": {},
   "outputs": [],
   "source": [
    "import yaml\n",
    "with open(\"config/silver_config.yaml\", \"r\") as f:\n",
    "    config = yaml.safe_load(f)"
   ]
  },
  {
   "cell_type": "code",
   "execution_count": 25,
   "id": "8cfe4398-5c7a-4024-a6c4-0b930000ff58",
   "metadata": {},
   "outputs": [
    {
     "data": {
      "text/plain": [
       "{'path': 'features_attributes',\n",
       " 'types': {'Customer_ID': 'string',\n",
       "  'Name': 'string',\n",
       "  'Age': 'int',\n",
       "  'SSN': 'string',\n",
       "  'Occupation': 'string',\n",
       "  'snapshot_date': 'date'},\n",
       " 'drop_nulls': ['Customer_ID']}"
      ]
     },
     "execution_count": 25,
     "metadata": {},
     "output_type": "execute_result"
    }
   ],
   "source": [
    "config['datasets']['features_attributes']"
   ]
  },
  {
   "cell_type": "code",
   "execution_count": 10,
   "id": "abf41324-d8ce-4c5d-82ed-31fa9d5c0595",
   "metadata": {},
   "outputs": [
    {
     "data": {
      "text/plain": [
       "dict_items([('features_attributes', {'path': 'features_attributes', 'types': {'Customer_ID': 'string', 'Name': 'string', 'Age': 'int', 'SSN': 'string', 'Occupation': 'string', 'snapshot_date': 'date'}, 'drop_nulls': ['Customer_ID']}), ('features_financials', {'path': 'features_financials', 'types': {'Customer_ID': 'string', 'Annual_Income': 'float', 'Monthly_Inhand_Salary': 'float', 'Num_Bank_Accounts': 'int', 'Num_Credit_Card': 'int', 'Interest_Rate': 'int', 'Num_of_Loan': 'int', 'Type_of_Loan': 'string', 'Delay_from_due_date': 'int', 'Num_of_Delayed_Payment': 'int', 'Changed_Credit_Limit': 'float', 'Num_Credit_Inquiries': 'int', 'Credit_Mix': 'string', 'Outstanding_Debt': 'float', 'Credit_Utilization_Ratio': 'float', 'Credit_History_Age': 'string', 'Payment_of_Min_Amount': 'string', 'Total_EMI_per_month': 'float', 'Amount_invested_monthly': 'float', 'Payment_Behaviour': 'string', 'Monthly_Balance': 'float', 'snapshot_date': 'date'}, 'drop_nulls': ['Customer_ID']}), ('feature_clickstream', {'path': 'feature_clickstream', 'types': {'Customer_ID': 'string', 'snapshot_date': 'date', 'fe_1': 'float', 'fe_2': 'float', 'fe_3': 'float', 'fe_4': 'float', 'fe_5': 'float', 'fe_6': 'float', 'fe_7': 'float', 'fe_8': 'float', 'fe_9': 'float', 'fe_10': 'float', 'fe_11': 'float', 'fe_12': 'float', 'fe_13': 'float', 'fe_14': 'float', 'fe_15': 'float', 'fe_16': 'float', 'fe_17': 'float', 'fe_18': 'float', 'fe_19': 'float', 'fe_20': 'float'}, 'drop_nulls': ['Customer_ID']}), ('lms_loan_daily', {'path': 'lms_loan_daily', 'types': {'loan_id': 'string', 'Customer_ID': 'string', 'loan_start_date': 'date', 'tenure': 'int', 'installment_num': 'int', 'loan_amt': 'float', 'due_amt': 'float', 'paid_amt': 'float', 'overdue_amt': 'float', 'balance': 'float', 'snapshot_date': 'date'}, 'drop_nulls': ['Customer_ID']})])"
      ]
     },
     "execution_count": 10,
     "metadata": {},
     "output_type": "execute_result"
    }
   ],
   "source": [
    "config['datasets'].items()"
   ]
  },
  {
   "cell_type": "code",
   "execution_count": 12,
   "id": "4c202de0-86e4-48e7-b305-ccca214620f8",
   "metadata": {},
   "outputs": [
    {
     "name": "stdout",
     "output_type": "stream",
     "text": [
      "Table Name: features_attributes\n",
      "Dataset Config: {'path': 'features_attributes', 'types': {'Customer_ID': 'string', 'Name': 'string', 'Age': 'int', 'SSN': 'string', 'Occupation': 'string', 'snapshot_date': 'date'}, 'drop_nulls': ['Customer_ID']}\n",
      "Table Name: features_financials\n",
      "Dataset Config: {'path': 'features_financials', 'types': {'Customer_ID': 'string', 'Annual_Income': 'float', 'Monthly_Inhand_Salary': 'float', 'Num_Bank_Accounts': 'int', 'Num_Credit_Card': 'int', 'Interest_Rate': 'int', 'Num_of_Loan': 'int', 'Type_of_Loan': 'string', 'Delay_from_due_date': 'int', 'Num_of_Delayed_Payment': 'int', 'Changed_Credit_Limit': 'float', 'Num_Credit_Inquiries': 'int', 'Credit_Mix': 'string', 'Outstanding_Debt': 'float', 'Credit_Utilization_Ratio': 'float', 'Credit_History_Age': 'string', 'Payment_of_Min_Amount': 'string', 'Total_EMI_per_month': 'float', 'Amount_invested_monthly': 'float', 'Payment_Behaviour': 'string', 'Monthly_Balance': 'float', 'snapshot_date': 'date'}, 'drop_nulls': ['Customer_ID']}\n",
      "Table Name: feature_clickstream\n",
      "Dataset Config: {'path': 'feature_clickstream', 'types': {'Customer_ID': 'string', 'snapshot_date': 'date', 'fe_1': 'float', 'fe_2': 'float', 'fe_3': 'float', 'fe_4': 'float', 'fe_5': 'float', 'fe_6': 'float', 'fe_7': 'float', 'fe_8': 'float', 'fe_9': 'float', 'fe_10': 'float', 'fe_11': 'float', 'fe_12': 'float', 'fe_13': 'float', 'fe_14': 'float', 'fe_15': 'float', 'fe_16': 'float', 'fe_17': 'float', 'fe_18': 'float', 'fe_19': 'float', 'fe_20': 'float'}, 'drop_nulls': ['Customer_ID']}\n",
      "Table Name: lms_loan_daily\n",
      "Dataset Config: {'path': 'lms_loan_daily', 'types': {'loan_id': 'string', 'Customer_ID': 'string', 'loan_start_date': 'date', 'tenure': 'int', 'installment_num': 'int', 'loan_amt': 'float', 'due_amt': 'float', 'paid_amt': 'float', 'overdue_amt': 'float', 'balance': 'float', 'snapshot_date': 'date'}, 'drop_nulls': ['Customer_ID']}\n"
     ]
    }
   ],
   "source": [
    "for table_name, dataset_config in config[\"datasets\"].items():\n",
    "    print(f\"Table Name: {table_name}\")\n",
    "    print(f\"Dataset Config: {dataset_config}\")"
   ]
  },
  {
   "cell_type": "code",
   "execution_count": null,
   "id": "8677d706-99b3-45f2-bfac-d494b3df7d13",
   "metadata": {},
   "outputs": [],
   "source": []
  },
  {
   "cell_type": "code",
   "execution_count": null,
   "id": "e8c480fb-888b-42bc-8aaa-296209af6a8a",
   "metadata": {},
   "outputs": [],
   "source": []
  },
  {
   "cell_type": "code",
   "execution_count": null,
   "id": "cbd8bbd5-bb22-4ef6-a10d-74da95d0059d",
   "metadata": {},
   "outputs": [],
   "source": []
  },
  {
   "cell_type": "markdown",
   "id": "c5b669b8-45a8-4f25-8498-38eac58e4329",
   "metadata": {
    "jp-MarkdownHeadingCollapsed": true
   },
   "source": [
    "# ETL Pipeline"
   ]
  },
  {
   "cell_type": "code",
   "execution_count": 3,
   "id": "193527bc-7f0c-405d-87bc-e87c1034a2b2",
   "metadata": {
    "scrolled": true
   },
   "outputs": [
    {
     "name": "stdout",
     "output_type": "stream",
     "text": [
      "\n",
      "=== Processing snapshot_date: 2023-01-01 ===\n",
      "2025-10-25 13:53:26,347 [INFO] 🔍 Resolving config path: /app/config/bronze_config.yaml\n",
      "2025-10-25 13:53:26,359 [INFO] 🚀 Starting bronze processing for snapshot_date=2023-01-01\n",
      "2025-10-25 13:53:26,361 [INFO] Using configuration from: /app/config/bronze_config.yaml\n",
      "2025-10-25 13:53:26,361 [INFO] 📂 Processing file: data/features_attributes.csv\n",
      "2025-10-25 13:53:31,647 [INFO] 📅 features_attributes: 530 records found for 2023-01-01\n"
     ]
    },
    {
     "name": "stderr",
     "output_type": "stream",
     "text": [
      "                                                                                "
     ]
    },
    {
     "name": "stdout",
     "output_type": "stream",
     "text": [
      "2025-10-25 13:53:33,323 [INFO] ✅ Saved Bronze file: datamart/bronze/features_attributes/2023_01_01.parquet (530 rows)\n",
      "2025-10-25 13:53:33,324 [INFO] 📂 Processing file: data/features_financials.csv\n",
      "2025-10-25 13:53:33,976 [INFO] 📅 features_financials: 530 records found for 2023-01-01\n"
     ]
    },
    {
     "name": "stderr",
     "output_type": "stream",
     "text": [
      "                                                                                "
     ]
    },
    {
     "name": "stdout",
     "output_type": "stream",
     "text": [
      "2025-10-25 13:53:35,099 [INFO] ✅ Saved Bronze file: datamart/bronze/features_financials/2023_01_01.parquet (530 rows)\n",
      "2025-10-25 13:53:35,100 [INFO] 📂 Processing file: data/feature_clickstream.csv\n",
      "2025-10-25 13:53:35,941 [INFO] 📅 feature_clickstream: 8974 records found for 2023-01-01\n"
     ]
    },
    {
     "name": "stderr",
     "output_type": "stream",
     "text": [
      "                                                                                "
     ]
    },
    {
     "name": "stdout",
     "output_type": "stream",
     "text": [
      "2025-10-25 13:53:37,540 [INFO] ✅ Saved Bronze file: datamart/bronze/feature_clickstream/2023_01_01.parquet (8974 rows)\n",
      "2025-10-25 13:53:37,542 [INFO] 📂 Processing file: data/lms_loan_daily.csv\n",
      "2025-10-25 13:53:38,137 [INFO] 📅 lms_loan_daily: 530 records found for 2023-01-01\n"
     ]
    },
    {
     "name": "stderr",
     "output_type": "stream",
     "text": [
      "                                                                                "
     ]
    },
    {
     "name": "stdout",
     "output_type": "stream",
     "text": [
      "2025-10-25 13:53:39,382 [INFO] ✅ Saved Bronze file: datamart/bronze/lms_loan_daily/2023_01_01.parquet (530 rows)\n",
      "2025-10-25 13:53:39,383 [INFO] 🎉 Bronze layer processing completed successfully.\n",
      "\n",
      "=== Processing snapshot_date: 2023-02-01 ===\n",
      "2025-10-25 13:53:39,384 [INFO] 🔍 Resolving config path: /app/config/bronze_config.yaml\n",
      "2025-10-25 13:53:39,390 [INFO] 🚀 Starting bronze processing for snapshot_date=2023-02-01\n",
      "2025-10-25 13:53:39,391 [INFO] Using configuration from: /app/config/bronze_config.yaml\n",
      "2025-10-25 13:53:39,392 [INFO] 📂 Processing file: data/features_attributes.csv\n",
      "2025-10-25 13:53:39,781 [INFO] 📅 features_attributes: 501 records found for 2023-02-01\n",
      "2025-10-25 13:53:40,698 [INFO] ✅ Saved Bronze file: datamart/bronze/features_attributes/2023_02_01.parquet (501 rows)\n",
      "2025-10-25 13:53:40,699 [INFO] 📂 Processing file: data/features_financials.csv\n",
      "2025-10-25 13:53:41,248 [INFO] 📅 features_financials: 501 records found for 2023-02-01\n",
      "2025-10-25 13:53:42,245 [INFO] ✅ Saved Bronze file: datamart/bronze/features_financials/2023_02_01.parquet (501 rows)\n",
      "2025-10-25 13:53:42,246 [INFO] 📂 Processing file: data/feature_clickstream.csv\n",
      "2025-10-25 13:53:42,929 [INFO] 📅 feature_clickstream: 8974 records found for 2023-02-01\n"
     ]
    },
    {
     "name": "stderr",
     "output_type": "stream",
     "text": [
      "                                                                                "
     ]
    },
    {
     "name": "stdout",
     "output_type": "stream",
     "text": [
      "2025-10-25 13:53:44,104 [INFO] ✅ Saved Bronze file: datamart/bronze/feature_clickstream/2023_02_01.parquet (8974 rows)\n",
      "2025-10-25 13:53:44,105 [INFO] 📂 Processing file: data/lms_loan_daily.csv\n",
      "2025-10-25 13:53:44,040 [INFO] 📅 lms_loan_daily: 1031 records found for 2023-02-01\n"
     ]
    },
    {
     "name": "stderr",
     "output_type": "stream",
     "text": [
      "                                                                                "
     ]
    },
    {
     "name": "stdout",
     "output_type": "stream",
     "text": [
      "2025-10-25 13:53:45,152 [INFO] ✅ Saved Bronze file: datamart/bronze/lms_loan_daily/2023_02_01.parquet (1031 rows)\n",
      "2025-10-25 13:53:45,153 [INFO] 🎉 Bronze layer processing completed successfully.\n",
      "\n",
      "=== Processing snapshot_date: 2023-03-01 ===\n",
      "2025-10-25 13:53:45,153 [INFO] 🔍 Resolving config path: /app/config/bronze_config.yaml\n",
      "2025-10-25 13:53:45,159 [INFO] 🚀 Starting bronze processing for snapshot_date=2023-03-01\n",
      "2025-10-25 13:53:45,160 [INFO] Using configuration from: /app/config/bronze_config.yaml\n",
      "2025-10-25 13:53:45,161 [INFO] 📂 Processing file: data/features_attributes.csv\n",
      "2025-10-25 13:53:45,476 [INFO] 📅 features_attributes: 506 records found for 2023-03-01\n",
      "2025-10-25 13:53:46,242 [INFO] ✅ Saved Bronze file: datamart/bronze/features_attributes/2023_03_01.parquet (506 rows)\n",
      "2025-10-25 13:53:46,243 [INFO] 📂 Processing file: data/features_financials.csv\n",
      "2025-10-25 13:53:46,666 [INFO] 📅 features_financials: 506 records found for 2023-03-01\n",
      "2025-10-25 13:53:47,508 [INFO] ✅ Saved Bronze file: datamart/bronze/features_financials/2023_03_01.parquet (506 rows)\n",
      "2025-10-25 13:53:47,509 [INFO] 📂 Processing file: data/feature_clickstream.csv\n",
      "2025-10-25 13:53:48,246 [INFO] 📅 feature_clickstream: 8974 records found for 2023-03-01\n"
     ]
    },
    {
     "name": "stderr",
     "output_type": "stream",
     "text": [
      "                                                                                "
     ]
    },
    {
     "name": "stdout",
     "output_type": "stream",
     "text": [
      "2025-10-25 13:53:49,855 [INFO] ✅ Saved Bronze file: datamart/bronze/feature_clickstream/2023_03_01.parquet (8974 rows)\n",
      "2025-10-25 13:53:49,857 [INFO] 📂 Processing file: data/lms_loan_daily.csv\n",
      "2025-10-25 13:53:50,454 [INFO] 📅 lms_loan_daily: 1537 records found for 2023-03-01\n"
     ]
    },
    {
     "name": "stderr",
     "output_type": "stream",
     "text": [
      "                                                                                "
     ]
    },
    {
     "name": "stdout",
     "output_type": "stream",
     "text": [
      "2025-10-25 13:53:51,685 [INFO] ✅ Saved Bronze file: datamart/bronze/lms_loan_daily/2023_03_01.parquet (1537 rows)\n",
      "2025-10-25 13:53:51,687 [INFO] 🎉 Bronze layer processing completed successfully.\n",
      "\n",
      "=== Processing snapshot_date: 2023-04-01 ===\n",
      "2025-10-25 13:53:51,688 [INFO] 🔍 Resolving config path: /app/config/bronze_config.yaml\n",
      "2025-10-25 13:53:51,695 [INFO] 🚀 Starting bronze processing for snapshot_date=2023-04-01\n",
      "2025-10-25 13:53:51,696 [INFO] Using configuration from: /app/config/bronze_config.yaml\n",
      "2025-10-25 13:53:51,697 [INFO] 📂 Processing file: data/features_attributes.csv\n",
      "2025-10-25 13:53:52,033 [INFO] 📅 features_attributes: 510 records found for 2023-04-01\n",
      "2025-10-25 13:53:52,869 [INFO] ✅ Saved Bronze file: datamart/bronze/features_attributes/2023_04_01.parquet (510 rows)\n",
      "2025-10-25 13:53:52,871 [INFO] 📂 Processing file: data/features_financials.csv\n",
      "2025-10-25 13:53:53,324 [INFO] 📅 features_financials: 510 records found for 2023-04-01\n",
      "2025-10-25 13:53:54,281 [INFO] ✅ Saved Bronze file: datamart/bronze/features_financials/2023_04_01.parquet (510 rows)\n",
      "2025-10-25 13:53:54,282 [INFO] 📂 Processing file: data/feature_clickstream.csv\n",
      "2025-10-25 13:53:55,025 [INFO] 📅 feature_clickstream: 8974 records found for 2023-04-01\n"
     ]
    },
    {
     "name": "stderr",
     "output_type": "stream",
     "text": [
      "                                                                                "
     ]
    },
    {
     "name": "stdout",
     "output_type": "stream",
     "text": [
      "2025-10-25 13:53:56,469 [INFO] ✅ Saved Bronze file: datamart/bronze/feature_clickstream/2023_04_01.parquet (8974 rows)\n",
      "2025-10-25 13:53:56,470 [INFO] 📂 Processing file: data/lms_loan_daily.csv\n",
      "2025-10-25 13:53:57,051 [INFO] 📅 lms_loan_daily: 2047 records found for 2023-04-01\n"
     ]
    },
    {
     "name": "stderr",
     "output_type": "stream",
     "text": [
      "                                                                                "
     ]
    },
    {
     "name": "stdout",
     "output_type": "stream",
     "text": [
      "2025-10-25 13:53:58,472 [INFO] ✅ Saved Bronze file: datamart/bronze/lms_loan_daily/2023_04_01.parquet (2047 rows)\n",
      "2025-10-25 13:53:58,473 [INFO] 🎉 Bronze layer processing completed successfully.\n",
      "\n",
      "=== Processing snapshot_date: 2023-05-01 ===\n",
      "2025-10-25 13:53:58,475 [INFO] 🔍 Resolving config path: /app/config/bronze_config.yaml\n",
      "2025-10-25 13:53:58,481 [INFO] 🚀 Starting bronze processing for snapshot_date=2023-05-01\n",
      "2025-10-25 13:53:58,482 [INFO] Using configuration from: /app/config/bronze_config.yaml\n",
      "2025-10-25 13:53:58,483 [INFO] 📂 Processing file: data/features_attributes.csv\n",
      "2025-10-25 13:53:58,787 [INFO] 📅 features_attributes: 521 records found for 2023-05-01\n",
      "2025-10-25 13:53:59,607 [INFO] ✅ Saved Bronze file: datamart/bronze/features_attributes/2023_05_01.parquet (521 rows)\n",
      "2025-10-25 13:53:59,608 [INFO] 📂 Processing file: data/features_financials.csv\n",
      "2025-10-25 13:53:59,986 [INFO] 📅 features_financials: 521 records found for 2023-05-01\n",
      "2025-10-25 13:54:00,833 [INFO] ✅ Saved Bronze file: datamart/bronze/features_financials/2023_05_01.parquet (521 rows)\n",
      "2025-10-25 13:54:00,834 [INFO] 📂 Processing file: data/feature_clickstream.csv\n",
      "2025-10-25 13:54:01,510 [INFO] 📅 feature_clickstream: 8974 records found for 2023-05-01\n"
     ]
    },
    {
     "name": "stderr",
     "output_type": "stream",
     "text": [
      "                                                                                "
     ]
    },
    {
     "name": "stdout",
     "output_type": "stream",
     "text": [
      "2025-10-25 13:54:03,029 [INFO] ✅ Saved Bronze file: datamart/bronze/feature_clickstream/2023_05_01.parquet (8974 rows)\n",
      "2025-10-25 13:54:03,030 [INFO] 📂 Processing file: data/lms_loan_daily.csv\n",
      "2025-10-25 13:54:03,541 [INFO] 📅 lms_loan_daily: 2568 records found for 2023-05-01\n"
     ]
    },
    {
     "name": "stderr",
     "output_type": "stream",
     "text": [
      "                                                                                "
     ]
    },
    {
     "name": "stdout",
     "output_type": "stream",
     "text": [
      "2025-10-25 13:54:04,759 [INFO] ✅ Saved Bronze file: datamart/bronze/lms_loan_daily/2023_05_01.parquet (2568 rows)\n",
      "2025-10-25 13:54:04,760 [INFO] 🎉 Bronze layer processing completed successfully.\n",
      "\n",
      "=== Processing snapshot_date: 2023-06-01 ===\n",
      "2025-10-25 13:54:04,761 [INFO] 🔍 Resolving config path: /app/config/bronze_config.yaml\n",
      "2025-10-25 13:54:04,766 [INFO] 🚀 Starting bronze processing for snapshot_date=2023-06-01\n",
      "2025-10-25 13:54:04,767 [INFO] Using configuration from: /app/config/bronze_config.yaml\n",
      "2025-10-25 13:54:04,767 [INFO] 📂 Processing file: data/features_attributes.csv\n",
      "2025-10-25 13:54:05,068 [INFO] 📅 features_attributes: 517 records found for 2023-06-01\n",
      "2025-10-25 13:54:05,898 [INFO] ✅ Saved Bronze file: datamart/bronze/features_attributes/2023_06_01.parquet (517 rows)\n",
      "2025-10-25 13:54:05,899 [INFO] 📂 Processing file: data/features_financials.csv\n",
      "2025-10-25 13:54:06,274 [INFO] 📅 features_financials: 517 records found for 2023-06-01\n",
      "2025-10-25 13:54:07,092 [INFO] ✅ Saved Bronze file: datamart/bronze/features_financials/2023_06_01.parquet (517 rows)\n",
      "2025-10-25 13:54:07,093 [INFO] 📂 Processing file: data/feature_clickstream.csv\n",
      "2025-10-25 13:54:07,727 [INFO] 📅 feature_clickstream: 8974 records found for 2023-06-01\n"
     ]
    },
    {
     "name": "stderr",
     "output_type": "stream",
     "text": [
      "                                                                                "
     ]
    },
    {
     "name": "stdout",
     "output_type": "stream",
     "text": [
      "2025-10-25 13:54:09,128 [INFO] ✅ Saved Bronze file: datamart/bronze/feature_clickstream/2023_06_01.parquet (8974 rows)\n",
      "2025-10-25 13:54:09,129 [INFO] 📂 Processing file: data/lms_loan_daily.csv\n",
      "2025-10-25 13:54:09,595 [INFO] 📅 lms_loan_daily: 3085 records found for 2023-06-01\n"
     ]
    },
    {
     "name": "stderr",
     "output_type": "stream",
     "text": [
      "                                                                                "
     ]
    },
    {
     "name": "stdout",
     "output_type": "stream",
     "text": [
      "2025-10-25 13:54:10,755 [INFO] ✅ Saved Bronze file: datamart/bronze/lms_loan_daily/2023_06_01.parquet (3085 rows)\n",
      "2025-10-25 13:54:10,756 [INFO] 🎉 Bronze layer processing completed successfully.\n",
      "\n",
      "=== Processing snapshot_date: 2023-07-01 ===\n",
      "2025-10-25 13:54:10,756 [INFO] 🔍 Resolving config path: /app/config/bronze_config.yaml\n",
      "2025-10-25 13:54:10,762 [INFO] 🚀 Starting bronze processing for snapshot_date=2023-07-01\n",
      "2025-10-25 13:54:10,763 [INFO] Using configuration from: /app/config/bronze_config.yaml\n",
      "2025-10-25 13:54:10,763 [INFO] 📂 Processing file: data/features_attributes.csv\n",
      "2025-10-25 13:54:11,086 [INFO] 📅 features_attributes: 471 records found for 2023-07-01\n",
      "2025-10-25 13:54:11,932 [INFO] ✅ Saved Bronze file: datamart/bronze/features_attributes/2023_07_01.parquet (471 rows)\n",
      "2025-10-25 13:54:11,935 [INFO] 📂 Processing file: data/features_financials.csv\n",
      "2025-10-25 13:54:12,541 [INFO] 📅 features_financials: 471 records found for 2023-07-01\n",
      "2025-10-25 13:54:13,051 [INFO] ✅ Saved Bronze file: datamart/bronze/features_financials/2023_07_01.parquet (471 rows)\n",
      "2025-10-25 13:54:13,052 [INFO] 📂 Processing file: data/feature_clickstream.csv\n",
      "2025-10-25 13:54:13,084 [INFO] 📅 feature_clickstream: 8974 records found for 2023-07-01\n"
     ]
    },
    {
     "name": "stderr",
     "output_type": "stream",
     "text": [
      "                                                                                "
     ]
    },
    {
     "name": "stdout",
     "output_type": "stream",
     "text": [
      "2025-10-25 13:54:14,541 [INFO] ✅ Saved Bronze file: datamart/bronze/feature_clickstream/2023_07_01.parquet (8974 rows)\n",
      "2025-10-25 13:54:14,542 [INFO] 📂 Processing file: data/lms_loan_daily.csv\n",
      "2025-10-25 13:54:14,987 [INFO] 📅 lms_loan_daily: 3556 records found for 2023-07-01\n"
     ]
    },
    {
     "name": "stderr",
     "output_type": "stream",
     "text": [
      "                                                                                "
     ]
    },
    {
     "name": "stdout",
     "output_type": "stream",
     "text": [
      "2025-10-25 13:54:16,157 [INFO] ✅ Saved Bronze file: datamart/bronze/lms_loan_daily/2023_07_01.parquet (3556 rows)\n",
      "2025-10-25 13:54:16,158 [INFO] 🎉 Bronze layer processing completed successfully.\n",
      "\n",
      "=== Processing snapshot_date: 2023-08-01 ===\n",
      "2025-10-25 13:54:16,159 [INFO] 🔍 Resolving config path: /app/config/bronze_config.yaml\n",
      "2025-10-25 13:54:16,166 [INFO] 🚀 Starting bronze processing for snapshot_date=2023-08-01\n",
      "2025-10-25 13:54:16,167 [INFO] Using configuration from: /app/config/bronze_config.yaml\n",
      "2025-10-25 13:54:16,167 [INFO] 📂 Processing file: data/features_attributes.csv\n",
      "2025-10-25 13:54:16,452 [INFO] 📅 features_attributes: 481 records found for 2023-08-01\n",
      "2025-10-25 13:54:17,246 [INFO] ✅ Saved Bronze file: datamart/bronze/features_attributes/2023_08_01.parquet (481 rows)\n",
      "2025-10-25 13:54:17,247 [INFO] 📂 Processing file: data/features_financials.csv\n",
      "2025-10-25 13:54:17,598 [INFO] 📅 features_financials: 481 records found for 2023-08-01\n",
      "2025-10-25 13:54:18,404 [INFO] ✅ Saved Bronze file: datamart/bronze/features_financials/2023_08_01.parquet (481 rows)\n",
      "2025-10-25 13:54:18,405 [INFO] 📂 Processing file: data/feature_clickstream.csv\n",
      "2025-10-25 13:54:19,104 [INFO] 📅 feature_clickstream: 8974 records found for 2023-08-01\n"
     ]
    },
    {
     "name": "stderr",
     "output_type": "stream",
     "text": [
      "                                                                                "
     ]
    },
    {
     "name": "stdout",
     "output_type": "stream",
     "text": [
      "2025-10-25 13:54:20,582 [INFO] ✅ Saved Bronze file: datamart/bronze/feature_clickstream/2023_08_01.parquet (8974 rows)\n",
      "2025-10-25 13:54:20,583 [INFO] 📂 Processing file: data/lms_loan_daily.csv\n",
      "2025-10-25 13:54:21,088 [INFO] 📅 lms_loan_daily: 4037 records found for 2023-08-01\n",
      "2025-10-25 13:54:22,240 [INFO] ✅ Saved Bronze file: datamart/bronze/lms_loan_daily/2023_08_01.parquet (4037 rows)\n",
      "2025-10-25 13:54:22,241 [INFO] 🎉 Bronze layer processing completed successfully.\n",
      "\n",
      "=== Processing snapshot_date: 2023-09-01 ===\n",
      "2025-10-25 13:54:22,242 [INFO] 🔍 Resolving config path: /app/config/bronze_config.yaml\n",
      "2025-10-25 13:54:22,254 [INFO] 🚀 Starting bronze processing for snapshot_date=2023-09-01\n",
      "2025-10-25 13:54:22,255 [INFO] Using configuration from: /app/config/bronze_config.yaml\n",
      "2025-10-25 13:54:22,255 [INFO] 📂 Processing file: data/features_attributes.csv\n",
      "2025-10-25 13:54:22,552 [INFO] 📅 features_attributes: 454 records found for 2023-09-01\n",
      "2025-10-25 13:54:23,340 [INFO] ✅ Saved Bronze file: datamart/bronze/features_attributes/2023_09_01.parquet (454 rows)\n",
      "2025-10-25 13:54:23,341 [INFO] 📂 Processing file: data/features_financials.csv\n",
      "2025-10-25 13:54:23,678 [INFO] 📅 features_financials: 454 records found for 2023-09-01\n",
      "2025-10-25 13:54:24,547 [INFO] ✅ Saved Bronze file: datamart/bronze/features_financials/2023_09_01.parquet (454 rows)\n",
      "2025-10-25 13:54:24,549 [INFO] 📂 Processing file: data/feature_clickstream.csv\n",
      "2025-10-25 13:54:25,142 [INFO] 📅 feature_clickstream: 8974 records found for 2023-09-01\n"
     ]
    },
    {
     "name": "stderr",
     "output_type": "stream",
     "text": [
      "                                                                                "
     ]
    },
    {
     "name": "stdout",
     "output_type": "stream",
     "text": [
      "2025-10-25 13:54:26,744 [INFO] ✅ Saved Bronze file: datamart/bronze/feature_clickstream/2023_09_01.parquet (8974 rows)\n",
      "2025-10-25 13:54:26,745 [INFO] 📂 Processing file: data/lms_loan_daily.csv\n",
      "2025-10-25 13:54:27,287 [INFO] 📅 lms_loan_daily: 4491 records found for 2023-09-01\n"
     ]
    },
    {
     "name": "stderr",
     "output_type": "stream",
     "text": [
      "                                                                                "
     ]
    },
    {
     "name": "stdout",
     "output_type": "stream",
     "text": [
      "2025-10-25 13:54:28,643 [INFO] ✅ Saved Bronze file: datamart/bronze/lms_loan_daily/2023_09_01.parquet (4491 rows)\n",
      "2025-10-25 13:54:28,644 [INFO] 🎉 Bronze layer processing completed successfully.\n",
      "\n",
      "=== Processing snapshot_date: 2023-10-01 ===\n",
      "2025-10-25 13:54:28,645 [INFO] 🔍 Resolving config path: /app/config/bronze_config.yaml\n",
      "2025-10-25 13:54:28,651 [INFO] 🚀 Starting bronze processing for snapshot_date=2023-10-01\n",
      "2025-10-25 13:54:28,652 [INFO] Using configuration from: /app/config/bronze_config.yaml\n",
      "2025-10-25 13:54:28,653 [INFO] 📂 Processing file: data/features_attributes.csv\n",
      "2025-10-25 13:54:29,023 [INFO] 📅 features_attributes: 487 records found for 2023-10-01\n",
      "2025-10-25 13:54:29,967 [INFO] ✅ Saved Bronze file: datamart/bronze/features_attributes/2023_10_01.parquet (487 rows)\n",
      "2025-10-25 13:54:29,968 [INFO] 📂 Processing file: data/features_financials.csv\n",
      "2025-10-25 13:54:30,434 [INFO] 📅 features_financials: 487 records found for 2023-10-01\n",
      "2025-10-25 13:54:31,467 [INFO] ✅ Saved Bronze file: datamart/bronze/features_financials/2023_10_01.parquet (487 rows)\n",
      "2025-10-25 13:54:31,469 [INFO] 📂 Processing file: data/feature_clickstream.csv\n",
      "2025-10-25 13:54:32,173 [INFO] 📅 feature_clickstream: 8974 records found for 2023-10-01\n"
     ]
    },
    {
     "name": "stderr",
     "output_type": "stream",
     "text": [
      "                                                                                "
     ]
    },
    {
     "name": "stdout",
     "output_type": "stream",
     "text": [
      "2025-10-25 13:54:33,990 [INFO] ✅ Saved Bronze file: datamart/bronze/feature_clickstream/2023_10_01.parquet (8974 rows)\n",
      "2025-10-25 13:54:33,991 [INFO] 📂 Processing file: data/lms_loan_daily.csv\n",
      "2025-10-25 13:54:34,449 [INFO] 📅 lms_loan_daily: 4978 records found for 2023-10-01\n"
     ]
    },
    {
     "name": "stderr",
     "output_type": "stream",
     "text": [
      "                                                                                "
     ]
    },
    {
     "name": "stdout",
     "output_type": "stream",
     "text": [
      "2025-10-25 13:54:35,784 [INFO] ✅ Saved Bronze file: datamart/bronze/lms_loan_daily/2023_10_01.parquet (4978 rows)\n",
      "2025-10-25 13:54:35,785 [INFO] 🎉 Bronze layer processing completed successfully.\n",
      "\n",
      "=== Processing snapshot_date: 2023-11-01 ===\n",
      "2025-10-25 13:54:35,786 [INFO] 🔍 Resolving config path: /app/config/bronze_config.yaml\n",
      "2025-10-25 13:54:35,793 [INFO] 🚀 Starting bronze processing for snapshot_date=2023-11-01\n",
      "2025-10-25 13:54:35,794 [INFO] Using configuration from: /app/config/bronze_config.yaml\n",
      "2025-10-25 13:54:35,795 [INFO] 📂 Processing file: data/features_attributes.csv\n",
      "2025-10-25 13:54:36,114 [INFO] 📅 features_attributes: 491 records found for 2023-11-01\n",
      "2025-10-25 13:54:36,999 [INFO] ✅ Saved Bronze file: datamart/bronze/features_attributes/2023_11_01.parquet (491 rows)\n",
      "2025-10-25 13:54:37,001 [INFO] 📂 Processing file: data/features_financials.csv\n",
      "2025-10-25 13:54:37,503 [INFO] 📅 features_financials: 491 records found for 2023-11-01\n",
      "2025-10-25 13:54:38,458 [INFO] ✅ Saved Bronze file: datamart/bronze/features_financials/2023_11_01.parquet (491 rows)\n",
      "2025-10-25 13:54:38,461 [INFO] 📂 Processing file: data/feature_clickstream.csv\n",
      "2025-10-25 13:54:39,089 [INFO] 📅 feature_clickstream: 8974 records found for 2023-11-01\n"
     ]
    },
    {
     "name": "stderr",
     "output_type": "stream",
     "text": [
      "                                                                                "
     ]
    },
    {
     "name": "stdout",
     "output_type": "stream",
     "text": [
      "2025-10-25 13:54:40,507 [INFO] ✅ Saved Bronze file: datamart/bronze/feature_clickstream/2023_11_01.parquet (8974 rows)\n",
      "2025-10-25 13:54:40,508 [INFO] 📂 Processing file: data/lms_loan_daily.csv\n",
      "2025-10-25 13:54:40,951 [INFO] 📅 lms_loan_daily: 5469 records found for 2023-11-01\n"
     ]
    },
    {
     "name": "stderr",
     "output_type": "stream",
     "text": [
      "                                                                                "
     ]
    },
    {
     "name": "stdout",
     "output_type": "stream",
     "text": [
      "2025-10-25 13:54:42,068 [INFO] ✅ Saved Bronze file: datamart/bronze/lms_loan_daily/2023_11_01.parquet (5469 rows)\n",
      "2025-10-25 13:54:42,069 [INFO] 🎉 Bronze layer processing completed successfully.\n",
      "\n",
      "=== Processing snapshot_date: 2023-12-01 ===\n",
      "2025-10-25 13:54:42,069 [INFO] 🔍 Resolving config path: /app/config/bronze_config.yaml\n",
      "2025-10-25 13:54:42,075 [INFO] 🚀 Starting bronze processing for snapshot_date=2023-12-01\n",
      "2025-10-25 13:54:42,076 [INFO] Using configuration from: /app/config/bronze_config.yaml\n",
      "2025-10-25 13:54:42,076 [INFO] 📂 Processing file: data/features_attributes.csv\n",
      "2025-10-25 13:54:41,940 [INFO] 📅 features_attributes: 489 records found for 2023-12-01\n",
      "2025-10-25 13:54:42,086 [INFO] ✅ Saved Bronze file: datamart/bronze/features_attributes/2023_12_01.parquet (489 rows)\n",
      "2025-10-25 13:54:42,087 [INFO] 📂 Processing file: data/features_financials.csv\n",
      "2025-10-25 13:54:42,403 [INFO] 📅 features_financials: 489 records found for 2023-12-01\n",
      "2025-10-25 13:54:43,220 [INFO] ✅ Saved Bronze file: datamart/bronze/features_financials/2023_12_01.parquet (489 rows)\n",
      "2025-10-25 13:54:43,221 [INFO] 📂 Processing file: data/feature_clickstream.csv\n",
      "2025-10-25 13:54:43,922 [INFO] 📅 feature_clickstream: 8974 records found for 2023-12-01\n"
     ]
    },
    {
     "name": "stderr",
     "output_type": "stream",
     "text": [
      "                                                                                "
     ]
    },
    {
     "name": "stdout",
     "output_type": "stream",
     "text": [
      "2025-10-25 13:54:45,843 [INFO] ✅ Saved Bronze file: datamart/bronze/feature_clickstream/2023_12_01.parquet (8974 rows)\n",
      "2025-10-25 13:54:45,844 [INFO] 📂 Processing file: data/lms_loan_daily.csv\n",
      "2025-10-25 13:54:46,361 [INFO] 📅 lms_loan_daily: 5428 records found for 2023-12-01\n"
     ]
    },
    {
     "name": "stderr",
     "output_type": "stream",
     "text": [
      "                                                                                "
     ]
    },
    {
     "name": "stdout",
     "output_type": "stream",
     "text": [
      "2025-10-25 13:54:47,683 [INFO] ✅ Saved Bronze file: datamart/bronze/lms_loan_daily/2023_12_01.parquet (5428 rows)\n",
      "2025-10-25 13:54:47,684 [INFO] 🎉 Bronze layer processing completed successfully.\n",
      "\n",
      "=== Processing snapshot_date: 2024-01-01 ===\n",
      "2025-10-25 13:54:47,685 [INFO] 🔍 Resolving config path: /app/config/bronze_config.yaml\n",
      "2025-10-25 13:54:47,690 [INFO] 🚀 Starting bronze processing for snapshot_date=2024-01-01\n",
      "2025-10-25 13:54:47,691 [INFO] Using configuration from: /app/config/bronze_config.yaml\n",
      "2025-10-25 13:54:47,692 [INFO] 📂 Processing file: data/features_attributes.csv\n",
      "2025-10-25 13:54:48,007 [INFO] 📅 features_attributes: 485 records found for 2024-01-01\n",
      "2025-10-25 13:54:48,904 [INFO] ✅ Saved Bronze file: datamart/bronze/features_attributes/2024_01_01.parquet (485 rows)\n",
      "2025-10-25 13:54:48,905 [INFO] 📂 Processing file: data/features_financials.csv\n",
      "2025-10-25 13:54:49,247 [INFO] 📅 features_financials: 485 records found for 2024-01-01\n",
      "2025-10-25 13:54:50,275 [INFO] ✅ Saved Bronze file: datamart/bronze/features_financials/2024_01_01.parquet (485 rows)\n",
      "2025-10-25 13:54:50,275 [INFO] 📂 Processing file: data/feature_clickstream.csv\n",
      "2025-10-25 13:54:51,016 [INFO] 📅 feature_clickstream: 8974 records found for 2024-01-01\n"
     ]
    },
    {
     "name": "stderr",
     "output_type": "stream",
     "text": [
      "                                                                                "
     ]
    },
    {
     "name": "stdout",
     "output_type": "stream",
     "text": [
      "2025-10-25 13:54:52,710 [INFO] ✅ Saved Bronze file: datamart/bronze/feature_clickstream/2024_01_01.parquet (8974 rows)\n",
      "2025-10-25 13:54:52,712 [INFO] 📂 Processing file: data/lms_loan_daily.csv\n",
      "2025-10-25 13:54:53,302 [INFO] 📅 lms_loan_daily: 5412 records found for 2024-01-01\n"
     ]
    },
    {
     "name": "stderr",
     "output_type": "stream",
     "text": [
      "                                                                                "
     ]
    },
    {
     "name": "stdout",
     "output_type": "stream",
     "text": [
      "2025-10-25 13:54:54,533 [INFO] ✅ Saved Bronze file: datamart/bronze/lms_loan_daily/2024_01_01.parquet (5412 rows)\n",
      "2025-10-25 13:54:54,534 [INFO] 🎉 Bronze layer processing completed successfully.\n",
      "\n",
      "=== Processing snapshot_date: 2024-02-01 ===\n",
      "2025-10-25 13:54:54,534 [INFO] 🔍 Resolving config path: /app/config/bronze_config.yaml\n",
      "2025-10-25 13:54:54,540 [INFO] 🚀 Starting bronze processing for snapshot_date=2024-02-01\n",
      "2025-10-25 13:54:54,541 [INFO] Using configuration from: /app/config/bronze_config.yaml\n",
      "2025-10-25 13:54:54,542 [INFO] 📂 Processing file: data/features_attributes.csv\n",
      "2025-10-25 13:54:54,798 [INFO] 📅 features_attributes: 518 records found for 2024-02-01\n",
      "2025-10-25 13:54:55,550 [INFO] ✅ Saved Bronze file: datamart/bronze/features_attributes/2024_02_01.parquet (518 rows)\n",
      "2025-10-25 13:54:55,551 [INFO] 📂 Processing file: data/features_financials.csv\n",
      "2025-10-25 13:54:55,879 [INFO] 📅 features_financials: 518 records found for 2024-02-01\n",
      "2025-10-25 13:54:56,675 [INFO] ✅ Saved Bronze file: datamart/bronze/features_financials/2024_02_01.parquet (518 rows)\n",
      "2025-10-25 13:54:56,676 [INFO] 📂 Processing file: data/feature_clickstream.csv\n",
      "2025-10-25 13:54:57,310 [INFO] 📅 feature_clickstream: 8974 records found for 2024-02-01\n"
     ]
    },
    {
     "name": "stderr",
     "output_type": "stream",
     "text": [
      "                                                                                "
     ]
    },
    {
     "name": "stdout",
     "output_type": "stream",
     "text": [
      "2025-10-25 13:54:58,685 [INFO] ✅ Saved Bronze file: datamart/bronze/feature_clickstream/2024_02_01.parquet (8974 rows)\n",
      "2025-10-25 13:54:58,686 [INFO] 📂 Processing file: data/lms_loan_daily.csv\n",
      "2025-10-25 13:54:59,138 [INFO] 📅 lms_loan_daily: 5424 records found for 2024-02-01\n"
     ]
    },
    {
     "name": "stderr",
     "output_type": "stream",
     "text": [
      "                                                                                "
     ]
    },
    {
     "name": "stdout",
     "output_type": "stream",
     "text": [
      "2025-10-25 13:55:00,285 [INFO] ✅ Saved Bronze file: datamart/bronze/lms_loan_daily/2024_02_01.parquet (5424 rows)\n",
      "2025-10-25 13:55:00,285 [INFO] 🎉 Bronze layer processing completed successfully.\n",
      "\n",
      "=== Processing snapshot_date: 2024-03-01 ===\n",
      "2025-10-25 13:55:00,286 [INFO] 🔍 Resolving config path: /app/config/bronze_config.yaml\n",
      "2025-10-25 13:55:00,291 [INFO] 🚀 Starting bronze processing for snapshot_date=2024-03-01\n",
      "2025-10-25 13:55:00,292 [INFO] Using configuration from: /app/config/bronze_config.yaml\n",
      "2025-10-25 13:55:00,292 [INFO] 📂 Processing file: data/features_attributes.csv\n",
      "2025-10-25 13:55:00,524 [INFO] 📅 features_attributes: 511 records found for 2024-03-01\n",
      "2025-10-25 13:55:01,326 [INFO] ✅ Saved Bronze file: datamart/bronze/features_attributes/2024_03_01.parquet (511 rows)\n",
      "2025-10-25 13:55:01,327 [INFO] 📂 Processing file: data/features_financials.csv\n",
      "2025-10-25 13:55:01,677 [INFO] 📅 features_financials: 511 records found for 2024-03-01\n",
      "2025-10-25 13:55:02,525 [INFO] ✅ Saved Bronze file: datamart/bronze/features_financials/2024_03_01.parquet (511 rows)\n",
      "2025-10-25 13:55:02,525 [INFO] 📂 Processing file: data/feature_clickstream.csv\n",
      "2025-10-25 13:55:03,212 [INFO] 📅 feature_clickstream: 8974 records found for 2024-03-01\n"
     ]
    },
    {
     "name": "stderr",
     "output_type": "stream",
     "text": [
      "                                                                                "
     ]
    },
    {
     "name": "stdout",
     "output_type": "stream",
     "text": [
      "2025-10-25 13:55:04,721 [INFO] ✅ Saved Bronze file: datamart/bronze/feature_clickstream/2024_03_01.parquet (8974 rows)\n",
      "2025-10-25 13:55:04,721 [INFO] 📂 Processing file: data/lms_loan_daily.csv\n",
      "2025-10-25 13:55:05,164 [INFO] 📅 lms_loan_daily: 5425 records found for 2024-03-01\n",
      "2025-10-25 13:55:06,257 [INFO] ✅ Saved Bronze file: datamart/bronze/lms_loan_daily/2024_03_01.parquet (5425 rows)\n",
      "2025-10-25 13:55:06,259 [INFO] 🎉 Bronze layer processing completed successfully.\n",
      "\n",
      "=== Processing snapshot_date: 2024-04-01 ===\n",
      "2025-10-25 13:55:06,260 [INFO] 🔍 Resolving config path: /app/config/bronze_config.yaml\n",
      "2025-10-25 13:55:06,266 [INFO] 🚀 Starting bronze processing for snapshot_date=2024-04-01\n",
      "2025-10-25 13:55:06,267 [INFO] Using configuration from: /app/config/bronze_config.yaml\n",
      "2025-10-25 13:55:06,268 [INFO] 📂 Processing file: data/features_attributes.csv\n",
      "2025-10-25 13:55:06,519 [INFO] 📅 features_attributes: 513 records found for 2024-04-01\n",
      "2025-10-25 13:55:07,228 [INFO] ✅ Saved Bronze file: datamart/bronze/features_attributes/2024_04_01.parquet (513 rows)\n",
      "2025-10-25 13:55:07,229 [INFO] 📂 Processing file: data/features_financials.csv\n",
      "2025-10-25 13:55:07,572 [INFO] 📅 features_financials: 513 records found for 2024-04-01\n",
      "2025-10-25 13:55:08,390 [INFO] ✅ Saved Bronze file: datamart/bronze/features_financials/2024_04_01.parquet (513 rows)\n",
      "2025-10-25 13:55:08,391 [INFO] 📂 Processing file: data/feature_clickstream.csv\n",
      "2025-10-25 13:55:08,975 [INFO] 📅 feature_clickstream: 8974 records found for 2024-04-01\n"
     ]
    },
    {
     "name": "stderr",
     "output_type": "stream",
     "text": [
      "                                                                                "
     ]
    },
    {
     "name": "stdout",
     "output_type": "stream",
     "text": [
      "2025-10-25 13:55:10,332 [INFO] ✅ Saved Bronze file: datamart/bronze/feature_clickstream/2024_04_01.parquet (8974 rows)\n",
      "2025-10-25 13:55:10,333 [INFO] 📂 Processing file: data/lms_loan_daily.csv\n",
      "2025-10-25 13:55:10,792 [INFO] 📅 lms_loan_daily: 5417 records found for 2024-04-01\n",
      "2025-10-25 13:55:11,008 [INFO] ✅ Saved Bronze file: datamart/bronze/lms_loan_daily/2024_04_01.parquet (5417 rows)\n",
      "2025-10-25 13:55:11,009 [INFO] 🎉 Bronze layer processing completed successfully.\n",
      "\n",
      "=== Processing snapshot_date: 2024-05-01 ===\n",
      "2025-10-25 13:55:11,010 [INFO] 🔍 Resolving config path: /app/config/bronze_config.yaml\n",
      "2025-10-25 13:55:11,015 [INFO] 🚀 Starting bronze processing for snapshot_date=2024-05-01\n",
      "2025-10-25 13:55:11,015 [INFO] Using configuration from: /app/config/bronze_config.yaml\n",
      "2025-10-25 13:55:11,016 [INFO] 📂 Processing file: data/features_attributes.csv\n",
      "2025-10-25 13:55:11,293 [INFO] 📅 features_attributes: 491 records found for 2024-05-01\n",
      "2025-10-25 13:55:12,113 [INFO] ✅ Saved Bronze file: datamart/bronze/features_attributes/2024_05_01.parquet (491 rows)\n",
      "2025-10-25 13:55:12,114 [INFO] 📂 Processing file: data/features_financials.csv\n",
      "2025-10-25 13:55:12,479 [INFO] 📅 features_financials: 491 records found for 2024-05-01\n",
      "2025-10-25 13:55:13,423 [INFO] ✅ Saved Bronze file: datamart/bronze/features_financials/2024_05_01.parquet (491 rows)\n",
      "2025-10-25 13:55:13,425 [INFO] 📂 Processing file: data/feature_clickstream.csv\n",
      "2025-10-25 13:55:14,029 [INFO] 📅 feature_clickstream: 8974 records found for 2024-05-01\n"
     ]
    },
    {
     "name": "stderr",
     "output_type": "stream",
     "text": [
      "                                                                                "
     ]
    },
    {
     "name": "stdout",
     "output_type": "stream",
     "text": [
      "2025-10-25 13:55:15,380 [INFO] ✅ Saved Bronze file: datamart/bronze/feature_clickstream/2024_05_01.parquet (8974 rows)\n",
      "2025-10-25 13:55:15,381 [INFO] 📂 Processing file: data/lms_loan_daily.csv\n",
      "2025-10-25 13:55:15,828 [INFO] 📅 lms_loan_daily: 5391 records found for 2024-05-01\n",
      "2025-10-25 13:55:16,892 [INFO] ✅ Saved Bronze file: datamart/bronze/lms_loan_daily/2024_05_01.parquet (5391 rows)\n",
      "2025-10-25 13:55:16,894 [INFO] 🎉 Bronze layer processing completed successfully.\n",
      "\n",
      "=== Processing snapshot_date: 2024-06-01 ===\n",
      "2025-10-25 13:55:16,895 [INFO] 🔍 Resolving config path: /app/config/bronze_config.yaml\n",
      "2025-10-25 13:55:16,901 [INFO] 🚀 Starting bronze processing for snapshot_date=2024-06-01\n",
      "2025-10-25 13:55:16,901 [INFO] Using configuration from: /app/config/bronze_config.yaml\n",
      "2025-10-25 13:55:16,902 [INFO] 📂 Processing file: data/features_attributes.csv\n",
      "2025-10-25 13:55:17,139 [INFO] 📅 features_attributes: 498 records found for 2024-06-01\n",
      "2025-10-25 13:55:17,902 [INFO] ✅ Saved Bronze file: datamart/bronze/features_attributes/2024_06_01.parquet (498 rows)\n",
      "2025-10-25 13:55:17,903 [INFO] 📂 Processing file: data/features_financials.csv\n",
      "2025-10-25 13:55:18,220 [INFO] 📅 features_financials: 498 records found for 2024-06-01\n",
      "2025-10-25 13:55:19,107 [INFO] ✅ Saved Bronze file: datamart/bronze/features_financials/2024_06_01.parquet (498 rows)\n",
      "2025-10-25 13:55:19,108 [INFO] 📂 Processing file: data/feature_clickstream.csv\n",
      "2025-10-25 13:55:19,672 [INFO] 📅 feature_clickstream: 8974 records found for 2024-06-01\n"
     ]
    },
    {
     "name": "stderr",
     "output_type": "stream",
     "text": [
      "                                                                                "
     ]
    },
    {
     "name": "stdout",
     "output_type": "stream",
     "text": [
      "2025-10-25 13:55:21,046 [INFO] ✅ Saved Bronze file: datamart/bronze/feature_clickstream/2024_06_01.parquet (8974 rows)\n",
      "2025-10-25 13:55:21,047 [INFO] 📂 Processing file: data/lms_loan_daily.csv\n",
      "2025-10-25 13:55:21,552 [INFO] 📅 lms_loan_daily: 5418 records found for 2024-06-01\n"
     ]
    },
    {
     "name": "stderr",
     "output_type": "stream",
     "text": [
      "                                                                                "
     ]
    },
    {
     "name": "stdout",
     "output_type": "stream",
     "text": [
      "2025-10-25 13:55:22,599 [INFO] ✅ Saved Bronze file: datamart/bronze/lms_loan_daily/2024_06_01.parquet (5418 rows)\n",
      "2025-10-25 13:55:22,600 [INFO] 🎉 Bronze layer processing completed successfully.\n",
      "\n",
      "=== Processing snapshot_date: 2024-07-01 ===\n",
      "2025-10-25 13:55:22,601 [INFO] 🔍 Resolving config path: /app/config/bronze_config.yaml\n",
      "2025-10-25 13:55:22,606 [INFO] 🚀 Starting bronze processing for snapshot_date=2024-07-01\n",
      "2025-10-25 13:55:22,607 [INFO] Using configuration from: /app/config/bronze_config.yaml\n",
      "2025-10-25 13:55:22,607 [INFO] 📂 Processing file: data/features_attributes.csv\n",
      "2025-10-25 13:55:22,859 [INFO] 📅 features_attributes: 505 records found for 2024-07-01\n",
      "2025-10-25 13:55:23,592 [INFO] ✅ Saved Bronze file: datamart/bronze/features_attributes/2024_07_01.parquet (505 rows)\n",
      "2025-10-25 13:55:23,593 [INFO] 📂 Processing file: data/features_financials.csv\n",
      "2025-10-25 13:55:23,909 [INFO] 📅 features_financials: 505 records found for 2024-07-01\n",
      "2025-10-25 13:55:24,751 [INFO] ✅ Saved Bronze file: datamart/bronze/features_financials/2024_07_01.parquet (505 rows)\n",
      "2025-10-25 13:55:24,753 [INFO] 📂 Processing file: data/feature_clickstream.csv\n",
      "2025-10-25 13:55:25,269 [INFO] 📅 feature_clickstream: 8974 records found for 2024-07-01\n"
     ]
    },
    {
     "name": "stderr",
     "output_type": "stream",
     "text": [
      "                                                                                "
     ]
    },
    {
     "name": "stdout",
     "output_type": "stream",
     "text": [
      "2025-10-25 13:55:26,721 [INFO] ✅ Saved Bronze file: datamart/bronze/feature_clickstream/2024_07_01.parquet (8974 rows)\n",
      "2025-10-25 13:55:26,723 [INFO] 📂 Processing file: data/lms_loan_daily.csv\n",
      "2025-10-25 13:55:27,141 [INFO] 📅 lms_loan_daily: 5442 records found for 2024-07-01\n",
      "2025-10-25 13:55:28,168 [INFO] ✅ Saved Bronze file: datamart/bronze/lms_loan_daily/2024_07_01.parquet (5442 rows)\n",
      "2025-10-25 13:55:28,169 [INFO] 🎉 Bronze layer processing completed successfully.\n",
      "\n",
      "=== Processing snapshot_date: 2024-08-01 ===\n",
      "2025-10-25 13:55:28,170 [INFO] 🔍 Resolving config path: /app/config/bronze_config.yaml\n",
      "2025-10-25 13:55:28,176 [INFO] 🚀 Starting bronze processing for snapshot_date=2024-08-01\n",
      "2025-10-25 13:55:28,177 [INFO] Using configuration from: /app/config/bronze_config.yaml\n",
      "2025-10-25 13:55:28,178 [INFO] 📂 Processing file: data/features_attributes.csv\n",
      "2025-10-25 13:55:28,429 [INFO] 📅 features_attributes: 543 records found for 2024-08-01\n",
      "2025-10-25 13:55:29,174 [INFO] ✅ Saved Bronze file: datamart/bronze/features_attributes/2024_08_01.parquet (543 rows)\n",
      "2025-10-25 13:55:29,175 [INFO] 📂 Processing file: data/features_financials.csv\n",
      "2025-10-25 13:55:29,513 [INFO] 📅 features_financials: 543 records found for 2024-08-01\n",
      "2025-10-25 13:55:30,297 [INFO] ✅ Saved Bronze file: datamart/bronze/features_financials/2024_08_01.parquet (543 rows)\n",
      "2025-10-25 13:55:30,297 [INFO] 📂 Processing file: data/feature_clickstream.csv\n",
      "2025-10-25 13:55:30,873 [INFO] 📅 feature_clickstream: 8974 records found for 2024-08-01\n"
     ]
    },
    {
     "name": "stderr",
     "output_type": "stream",
     "text": [
      "                                                                                "
     ]
    },
    {
     "name": "stdout",
     "output_type": "stream",
     "text": [
      "2025-10-25 13:55:32,353 [INFO] ✅ Saved Bronze file: datamart/bronze/feature_clickstream/2024_08_01.parquet (8974 rows)\n",
      "2025-10-25 13:55:32,354 [INFO] 📂 Processing file: data/lms_loan_daily.csv\n",
      "2025-10-25 13:55:32,790 [INFO] 📅 lms_loan_daily: 5531 records found for 2024-08-01\n"
     ]
    },
    {
     "name": "stderr",
     "output_type": "stream",
     "text": [
      "                                                                                "
     ]
    },
    {
     "name": "stdout",
     "output_type": "stream",
     "text": [
      "2025-10-25 13:55:33,837 [INFO] ✅ Saved Bronze file: datamart/bronze/lms_loan_daily/2024_08_01.parquet (5531 rows)\n",
      "2025-10-25 13:55:33,838 [INFO] 🎉 Bronze layer processing completed successfully.\n",
      "\n",
      "=== Processing snapshot_date: 2024-09-01 ===\n",
      "2025-10-25 13:55:33,838 [INFO] 🔍 Resolving config path: /app/config/bronze_config.yaml\n",
      "2025-10-25 13:55:33,843 [INFO] 🚀 Starting bronze processing for snapshot_date=2024-09-01\n",
      "2025-10-25 13:55:33,844 [INFO] Using configuration from: /app/config/bronze_config.yaml\n",
      "2025-10-25 13:55:33,846 [INFO] 📂 Processing file: data/features_attributes.csv\n",
      "2025-10-25 13:55:34,123 [INFO] 📅 features_attributes: 493 records found for 2024-09-01\n",
      "2025-10-25 13:55:34,913 [INFO] ✅ Saved Bronze file: datamart/bronze/features_attributes/2024_09_01.parquet (493 rows)\n",
      "2025-10-25 13:55:34,914 [INFO] 📂 Processing file: data/features_financials.csv\n",
      "2025-10-25 13:55:35,321 [INFO] 📅 features_financials: 493 records found for 2024-09-01\n",
      "2025-10-25 13:55:36,104 [INFO] ✅ Saved Bronze file: datamart/bronze/features_financials/2024_09_01.parquet (493 rows)\n",
      "2025-10-25 13:55:36,105 [INFO] 📂 Processing file: data/feature_clickstream.csv\n",
      "2025-10-25 13:55:36,705 [INFO] 📅 feature_clickstream: 8974 records found for 2024-09-01\n"
     ]
    },
    {
     "name": "stderr",
     "output_type": "stream",
     "text": [
      "                                                                                "
     ]
    },
    {
     "name": "stdout",
     "output_type": "stream",
     "text": [
      "2025-10-25 13:55:38,029 [INFO] ✅ Saved Bronze file: datamart/bronze/feature_clickstream/2024_09_01.parquet (8974 rows)\n",
      "2025-10-25 13:55:38,030 [INFO] 📂 Processing file: data/lms_loan_daily.csv\n",
      "2025-10-25 13:55:38,461 [INFO] 📅 lms_loan_daily: 5537 records found for 2024-09-01\n"
     ]
    },
    {
     "name": "stderr",
     "output_type": "stream",
     "text": [
      "                                                                                "
     ]
    },
    {
     "name": "stdout",
     "output_type": "stream",
     "text": [
      "2025-10-25 13:55:39,582 [INFO] ✅ Saved Bronze file: datamart/bronze/lms_loan_daily/2024_09_01.parquet (5537 rows)\n",
      "2025-10-25 13:55:39,583 [INFO] 🎉 Bronze layer processing completed successfully.\n",
      "\n",
      "=== Processing snapshot_date: 2024-10-01 ===\n",
      "2025-10-25 13:55:39,584 [INFO] 🔍 Resolving config path: /app/config/bronze_config.yaml\n",
      "2025-10-25 13:55:39,590 [INFO] 🚀 Starting bronze processing for snapshot_date=2024-10-01\n",
      "2025-10-25 13:55:39,591 [INFO] Using configuration from: /app/config/bronze_config.yaml\n",
      "2025-10-25 13:55:39,591 [INFO] 📂 Processing file: data/features_attributes.csv\n",
      "2025-10-25 13:55:39,842 [INFO] 📅 features_attributes: 456 records found for 2024-10-01\n",
      "2025-10-25 13:55:39,599 [INFO] ✅ Saved Bronze file: datamart/bronze/features_attributes/2024_10_01.parquet (456 rows)\n",
      "2025-10-25 13:55:39,601 [INFO] 📂 Processing file: data/features_financials.csv\n",
      "2025-10-25 13:55:39,923 [INFO] 📅 features_financials: 456 records found for 2024-10-01\n",
      "2025-10-25 13:55:40,767 [INFO] ✅ Saved Bronze file: datamart/bronze/features_financials/2024_10_01.parquet (456 rows)\n",
      "2025-10-25 13:55:40,768 [INFO] 📂 Processing file: data/feature_clickstream.csv\n",
      "2025-10-25 13:55:41,439 [INFO] 📅 feature_clickstream: 8974 records found for 2024-10-01\n"
     ]
    },
    {
     "name": "stderr",
     "output_type": "stream",
     "text": [
      "                                                                                "
     ]
    },
    {
     "name": "stdout",
     "output_type": "stream",
     "text": [
      "2025-10-25 13:55:43,002 [INFO] ✅ Saved Bronze file: datamart/bronze/feature_clickstream/2024_10_01.parquet (8974 rows)\n",
      "2025-10-25 13:55:43,004 [INFO] 📂 Processing file: data/lms_loan_daily.csv\n",
      "2025-10-25 13:55:43,490 [INFO] 📅 lms_loan_daily: 5502 records found for 2024-10-01\n"
     ]
    },
    {
     "name": "stderr",
     "output_type": "stream",
     "text": [
      "                                                                                "
     ]
    },
    {
     "name": "stdout",
     "output_type": "stream",
     "text": [
      "2025-10-25 13:55:44,641 [INFO] ✅ Saved Bronze file: datamart/bronze/lms_loan_daily/2024_10_01.parquet (5502 rows)\n",
      "2025-10-25 13:55:44,642 [INFO] 🎉 Bronze layer processing completed successfully.\n",
      "\n",
      "=== Processing snapshot_date: 2024-11-01 ===\n",
      "2025-10-25 13:55:44,642 [INFO] 🔍 Resolving config path: /app/config/bronze_config.yaml\n",
      "2025-10-25 13:55:44,648 [INFO] 🚀 Starting bronze processing for snapshot_date=2024-11-01\n",
      "2025-10-25 13:55:44,648 [INFO] Using configuration from: /app/config/bronze_config.yaml\n",
      "2025-10-25 13:55:44,649 [INFO] 📂 Processing file: data/features_attributes.csv\n",
      "2025-10-25 13:55:44,855 [INFO] 📅 features_attributes: 488 records found for 2024-11-01\n",
      "2025-10-25 13:55:45,657 [INFO] ✅ Saved Bronze file: datamart/bronze/features_attributes/2024_11_01.parquet (488 rows)\n",
      "2025-10-25 13:55:45,658 [INFO] 📂 Processing file: data/features_financials.csv\n",
      "2025-10-25 13:55:45,951 [INFO] 📅 features_financials: 488 records found for 2024-11-01\n",
      "2025-10-25 13:55:46,745 [INFO] ✅ Saved Bronze file: datamart/bronze/features_financials/2024_11_01.parquet (488 rows)\n",
      "2025-10-25 13:55:46,745 [INFO] 📂 Processing file: data/feature_clickstream.csv\n",
      "2025-10-25 13:55:47,209 [INFO] 📅 feature_clickstream: 8974 records found for 2024-11-01\n"
     ]
    },
    {
     "name": "stderr",
     "output_type": "stream",
     "text": [
      "                                                                                "
     ]
    },
    {
     "name": "stdout",
     "output_type": "stream",
     "text": [
      "2025-10-25 13:55:48,552 [INFO] ✅ Saved Bronze file: datamart/bronze/feature_clickstream/2024_11_01.parquet (8974 rows)\n",
      "2025-10-25 13:55:48,553 [INFO] 📂 Processing file: data/lms_loan_daily.csv\n",
      "2025-10-25 13:55:48,980 [INFO] 📅 lms_loan_daily: 5501 records found for 2024-11-01\n"
     ]
    },
    {
     "name": "stderr",
     "output_type": "stream",
     "text": [
      "                                                                                "
     ]
    },
    {
     "name": "stdout",
     "output_type": "stream",
     "text": [
      "2025-10-25 13:55:50,431 [INFO] ✅ Saved Bronze file: datamart/bronze/lms_loan_daily/2024_11_01.parquet (5501 rows)\n",
      "2025-10-25 13:55:50,432 [INFO] 🎉 Bronze layer processing completed successfully.\n",
      "\n",
      "=== Processing snapshot_date: 2024-12-01 ===\n",
      "2025-10-25 13:55:50,432 [INFO] 🔍 Resolving config path: /app/config/bronze_config.yaml\n",
      "2025-10-25 13:55:50,439 [INFO] 🚀 Starting bronze processing for snapshot_date=2024-12-01\n",
      "2025-10-25 13:55:50,439 [INFO] Using configuration from: /app/config/bronze_config.yaml\n",
      "2025-10-25 13:55:50,440 [INFO] 📂 Processing file: data/features_attributes.csv\n",
      "2025-10-25 13:55:50,754 [INFO] 📅 features_attributes: 515 records found for 2024-12-01\n",
      "2025-10-25 13:55:51,669 [INFO] ✅ Saved Bronze file: datamart/bronze/features_attributes/2024_12_01.parquet (515 rows)\n",
      "2025-10-25 13:55:51,670 [INFO] 📂 Processing file: data/features_financials.csv\n",
      "2025-10-25 13:55:52,025 [INFO] 📅 features_financials: 515 records found for 2024-12-01\n",
      "2025-10-25 13:55:52,940 [INFO] ✅ Saved Bronze file: datamart/bronze/features_financials/2024_12_01.parquet (515 rows)\n",
      "2025-10-25 13:55:52,941 [INFO] 📂 Processing file: data/feature_clickstream.csv\n",
      "2025-10-25 13:55:53,477 [INFO] 📅 feature_clickstream: 8974 records found for 2024-12-01\n"
     ]
    },
    {
     "name": "stderr",
     "output_type": "stream",
     "text": [
      "                                                                                "
     ]
    },
    {
     "name": "stdout",
     "output_type": "stream",
     "text": [
      "2025-10-25 13:55:55,015 [INFO] ✅ Saved Bronze file: datamart/bronze/feature_clickstream/2024_12_01.parquet (8974 rows)\n",
      "2025-10-25 13:55:55,016 [INFO] 📂 Processing file: data/lms_loan_daily.csv\n",
      "2025-10-25 13:55:55,491 [INFO] 📅 lms_loan_daily: 5531 records found for 2024-12-01\n"
     ]
    },
    {
     "name": "stderr",
     "output_type": "stream",
     "text": [
      "                                                                                "
     ]
    },
    {
     "name": "stdout",
     "output_type": "stream",
     "text": [
      "2025-10-25 13:55:56,694 [INFO] ✅ Saved Bronze file: datamart/bronze/lms_loan_daily/2024_12_01.parquet (5531 rows)\n",
      "2025-10-25 13:55:56,695 [INFO] 🎉 Bronze layer processing completed successfully.\n",
      "\n",
      "=== Processing snapshot_date: 2025-01-01 ===\n",
      "2025-10-25 13:55:56,696 [INFO] 🔍 Resolving config path: /app/config/bronze_config.yaml\n",
      "2025-10-25 13:55:56,702 [INFO] 🚀 Starting bronze processing for snapshot_date=2025-01-01\n",
      "2025-10-25 13:55:56,702 [INFO] Using configuration from: /app/config/bronze_config.yaml\n",
      "2025-10-25 13:55:56,703 [INFO] 📂 Processing file: data/features_attributes.csv\n",
      "2025-10-25 13:55:56,948 [INFO] 📅 features_attributes: 526 records found for 2025-01-01\n",
      "2025-10-25 13:55:57,736 [INFO] ✅ Saved Bronze file: datamart/bronze/features_attributes/2025_01_01.parquet (526 rows)\n",
      "2025-10-25 13:55:57,737 [INFO] 📂 Processing file: data/features_financials.csv\n",
      "2025-10-25 13:55:58,052 [INFO] 📅 features_financials: 526 records found for 2025-01-01\n",
      "2025-10-25 13:55:58,935 [INFO] ✅ Saved Bronze file: datamart/bronze/features_financials/2025_01_01.parquet (526 rows)\n",
      "2025-10-25 13:55:58,935 [INFO] 📂 Processing file: data/feature_clickstream.csv\n",
      "2025-10-25 13:55:59,427 [INFO] 📅 feature_clickstream: 0 records found for 2025-01-01\n",
      "2025-10-25 13:55:59,428 [WARNING] No records found for feature_clickstream on 2025-01-01. Skipping...\n",
      "2025-10-25 13:55:59,429 [INFO] 📂 Processing file: data/lms_loan_daily.csv\n",
      "2025-10-25 13:55:59,848 [INFO] 📅 lms_loan_daily: 5539 records found for 2025-01-01\n"
     ]
    },
    {
     "name": "stderr",
     "output_type": "stream",
     "text": [
      "                                                                                "
     ]
    },
    {
     "name": "stdout",
     "output_type": "stream",
     "text": [
      "2025-10-25 13:56:00,941 [INFO] ✅ Saved Bronze file: datamart/bronze/lms_loan_daily/2025_01_01.parquet (5539 rows)\n",
      "2025-10-25 13:56:00,942 [INFO] 🎉 Bronze layer processing completed successfully.\n"
     ]
    }
   ],
   "source": [
    "# -------------------------------------------------------------------------\n",
    "# Run bronze processing for each snapshot_date between 2023-01-01 and 2025-01-01\n",
    "# -------------------------------------------------------------------------\n",
    "\n",
    "start_date = datetime(2023, 1, 1)\n",
    "end_date = datetime(2025, 1, 1)\n",
    "\n",
    "current_date = start_date\n",
    "\n",
    "while current_date <= end_date:\n",
    "    snapshot_str = current_date.strftime(\"%Y-%m-%d\")\n",
    "    print(f\"\\n=== Processing snapshot_date: {snapshot_str} ===\")\n",
    "\n",
    "    try:\n",
    "        process_bronze_tables(snapshot_date=snapshot_str, spark=spark)\n",
    "    except Exception as e:\n",
    "        print(f\"⚠️ Failed to process {snapshot_str}: {e}\")\n",
    "\n",
    "    # Increment by 1 month\n",
    "    # Use relativedelta to ensure correct month transitions\n",
    "    from dateutil.relativedelta import relativedelta\n",
    "    current_date += relativedelta(months=1)"
   ]
  },
  {
   "cell_type": "code",
   "execution_count": 3,
   "id": "f45c4cb3-03bd-4451-933b-efdda92514d4",
   "metadata": {
    "scrolled": true
   },
   "outputs": [
    {
     "name": "stdout",
     "output_type": "stream",
     "text": [
      "\n",
      "=== Processing snapshot_date: 2023-01-01 ===\n",
      "2025-10-25 22:04:33,914 [INFO] 🔍 Resolving config path: /app/config/silver_config.yaml\n",
      "2025-10-25 22:04:33,927 [INFO] 🚀 Starting silver layer processing for snapshot_date=2023-01-01\n",
      "2025-10-25 22:04:33,929 [INFO] Using configuration from: /app/config/silver_config.yaml\n",
      "2025-10-25 22:04:33,930 [INFO] 📂 Processing Silver table: features_attributes...\n"
     ]
    },
    {
     "name": "stderr",
     "output_type": "stream",
     "text": [
      "                                                                                "
     ]
    },
    {
     "name": "stdout",
     "output_type": "stream",
     "text": [
      "2025-10-25 22:04:39,400 [INFO] ✅ Saved Silver file: /app/datamart/silver/features_attributes/2023_01_01.parquet\n",
      "2025-10-25 22:04:39,401 [INFO] 📂 Processing Silver table: features_financials...\n"
     ]
    },
    {
     "name": "stderr",
     "output_type": "stream",
     "text": [
      "                                                                                "
     ]
    },
    {
     "name": "stdout",
     "output_type": "stream",
     "text": [
      "2025-10-25 22:04:42,028 [INFO] ✅ Saved Silver file: /app/datamart/silver/features_financials/2023_01_01.parquet\n",
      "2025-10-25 22:04:42,029 [INFO] 📂 Processing Silver table: feature_clickstream...\n",
      "2025-10-25 22:04:43,497 [INFO] ✅ Saved Silver file: /app/datamart/silver/feature_clickstream/2023_01_01.parquet\n",
      "2025-10-25 22:04:43,497 [INFO] 📂 Processing Silver table: lms_loan_daily...\n",
      "2025-10-25 22:04:44,842 [INFO] ✅ Saved Silver file: /app/datamart/silver/lms_loan_daily/2023_01_01.parquet\n",
      "2025-10-25 22:04:44,844 [INFO] 🎉 Silver layer processing completed successfully.\n",
      "\n",
      "=== Processing snapshot_date: 2023-02-01 ===\n",
      "2025-10-25 22:04:44,845 [INFO] 🔍 Resolving config path: /app/config/silver_config.yaml\n",
      "2025-10-25 22:04:44,855 [INFO] 🚀 Starting silver layer processing for snapshot_date=2023-02-01\n",
      "2025-10-25 22:04:44,856 [INFO] Using configuration from: /app/config/silver_config.yaml\n",
      "2025-10-25 22:04:44,857 [INFO] 📂 Processing Silver table: features_attributes...\n",
      "2025-10-25 22:04:46,195 [INFO] ✅ Saved Silver file: /app/datamart/silver/features_attributes/2023_02_01.parquet\n",
      "2025-10-25 22:04:46,197 [INFO] 📂 Processing Silver table: features_financials...\n",
      "2025-10-25 22:04:48,355 [INFO] ✅ Saved Silver file: /app/datamart/silver/features_financials/2023_02_01.parquet\n",
      "2025-10-25 22:04:48,356 [INFO] 📂 Processing Silver table: feature_clickstream...\n",
      "2025-10-25 22:04:47,034 [INFO] ✅ Saved Silver file: /app/datamart/silver/feature_clickstream/2023_02_01.parquet\n",
      "2025-10-25 22:04:47,035 [INFO] 📂 Processing Silver table: lms_loan_daily...\n",
      "2025-10-25 22:04:48,401 [INFO] ✅ Saved Silver file: /app/datamart/silver/lms_loan_daily/2023_02_01.parquet\n",
      "2025-10-25 22:04:48,402 [INFO] 🎉 Silver layer processing completed successfully.\n",
      "\n",
      "=== Processing snapshot_date: 2023-03-01 ===\n",
      "2025-10-25 22:04:48,403 [INFO] 🔍 Resolving config path: /app/config/silver_config.yaml\n",
      "2025-10-25 22:04:48,412 [INFO] 🚀 Starting silver layer processing for snapshot_date=2023-03-01\n",
      "2025-10-25 22:04:48,413 [INFO] Using configuration from: /app/config/silver_config.yaml\n",
      "2025-10-25 22:04:48,413 [INFO] 📂 Processing Silver table: features_attributes...\n",
      "2025-10-25 22:04:49,642 [INFO] ✅ Saved Silver file: /app/datamart/silver/features_attributes/2023_03_01.parquet\n",
      "2025-10-25 22:04:49,644 [INFO] 📂 Processing Silver table: features_financials...\n",
      "2025-10-25 22:04:51,619 [INFO] ✅ Saved Silver file: /app/datamart/silver/features_financials/2023_03_01.parquet\n",
      "2025-10-25 22:04:51,620 [INFO] 📂 Processing Silver table: feature_clickstream...\n",
      "2025-10-25 22:04:53,009 [INFO] ✅ Saved Silver file: /app/datamart/silver/feature_clickstream/2023_03_01.parquet\n",
      "2025-10-25 22:04:53,010 [INFO] 📂 Processing Silver table: lms_loan_daily...\n",
      "2025-10-25 22:04:54,203 [INFO] ✅ Saved Silver file: /app/datamart/silver/lms_loan_daily/2023_03_01.parquet\n",
      "2025-10-25 22:04:54,204 [INFO] 🎉 Silver layer processing completed successfully.\n",
      "\n",
      "=== Processing snapshot_date: 2023-04-01 ===\n",
      "2025-10-25 22:04:54,206 [INFO] 🔍 Resolving config path: /app/config/silver_config.yaml\n",
      "2025-10-25 22:04:54,214 [INFO] 🚀 Starting silver layer processing for snapshot_date=2023-04-01\n",
      "2025-10-25 22:04:54,215 [INFO] Using configuration from: /app/config/silver_config.yaml\n",
      "2025-10-25 22:04:54,216 [INFO] 📂 Processing Silver table: features_attributes...\n",
      "2025-10-25 22:04:55,416 [INFO] ✅ Saved Silver file: /app/datamart/silver/features_attributes/2023_04_01.parquet\n",
      "2025-10-25 22:04:55,418 [INFO] 📂 Processing Silver table: features_financials...\n",
      "2025-10-25 22:04:57,234 [INFO] ✅ Saved Silver file: /app/datamart/silver/features_financials/2023_04_01.parquet\n",
      "2025-10-25 22:04:57,235 [INFO] 📂 Processing Silver table: feature_clickstream...\n",
      "2025-10-25 22:04:58,431 [INFO] ✅ Saved Silver file: /app/datamart/silver/feature_clickstream/2023_04_01.parquet\n",
      "2025-10-25 22:04:58,432 [INFO] 📂 Processing Silver table: lms_loan_daily...\n",
      "2025-10-25 22:04:59,514 [INFO] ✅ Saved Silver file: /app/datamart/silver/lms_loan_daily/2023_04_01.parquet\n",
      "2025-10-25 22:04:59,515 [INFO] 🎉 Silver layer processing completed successfully.\n",
      "\n",
      "=== Processing snapshot_date: 2023-05-01 ===\n",
      "2025-10-25 22:04:59,516 [INFO] 🔍 Resolving config path: /app/config/silver_config.yaml\n",
      "2025-10-25 22:04:59,525 [INFO] 🚀 Starting silver layer processing for snapshot_date=2023-05-01\n",
      "2025-10-25 22:04:59,526 [INFO] Using configuration from: /app/config/silver_config.yaml\n",
      "2025-10-25 22:04:59,526 [INFO] 📂 Processing Silver table: features_attributes...\n",
      "2025-10-25 22:05:00,709 [INFO] ✅ Saved Silver file: /app/datamart/silver/features_attributes/2023_05_01.parquet\n",
      "2025-10-25 22:05:00,710 [INFO] 📂 Processing Silver table: features_financials...\n",
      "2025-10-25 22:05:02,216 [INFO] ✅ Saved Silver file: /app/datamart/silver/features_financials/2023_05_01.parquet\n",
      "2025-10-25 22:05:02,217 [INFO] 📂 Processing Silver table: feature_clickstream...\n",
      "2025-10-25 22:05:03,427 [INFO] ✅ Saved Silver file: /app/datamart/silver/feature_clickstream/2023_05_01.parquet\n",
      "2025-10-25 22:05:03,428 [INFO] 📂 Processing Silver table: lms_loan_daily...\n",
      "2025-10-25 22:05:04,629 [INFO] ✅ Saved Silver file: /app/datamart/silver/lms_loan_daily/2023_05_01.parquet\n",
      "2025-10-25 22:05:04,631 [INFO] 🎉 Silver layer processing completed successfully.\n",
      "\n",
      "=== Processing snapshot_date: 2023-06-01 ===\n",
      "2025-10-25 22:05:04,631 [INFO] 🔍 Resolving config path: /app/config/silver_config.yaml\n",
      "2025-10-25 22:05:04,643 [INFO] 🚀 Starting silver layer processing for snapshot_date=2023-06-01\n",
      "2025-10-25 22:05:04,644 [INFO] Using configuration from: /app/config/silver_config.yaml\n",
      "2025-10-25 22:05:04,644 [INFO] 📂 Processing Silver table: features_attributes...\n",
      "2025-10-25 22:05:05,735 [INFO] ✅ Saved Silver file: /app/datamart/silver/features_attributes/2023_06_01.parquet\n",
      "2025-10-25 22:05:05,735 [INFO] 📂 Processing Silver table: features_financials...\n"
     ]
    },
    {
     "name": "stderr",
     "output_type": "stream",
     "text": [
      "                                                                                "
     ]
    },
    {
     "name": "stdout",
     "output_type": "stream",
     "text": [
      "2025-10-25 22:05:07,391 [INFO] ✅ Saved Silver file: /app/datamart/silver/features_financials/2023_06_01.parquet\n",
      "2025-10-25 22:05:07,392 [INFO] 📂 Processing Silver table: feature_clickstream...\n",
      "2025-10-25 22:05:08,703 [INFO] ✅ Saved Silver file: /app/datamart/silver/feature_clickstream/2023_06_01.parquet\n",
      "2025-10-25 22:05:08,704 [INFO] 📂 Processing Silver table: lms_loan_daily...\n",
      "2025-10-25 22:05:09,959 [INFO] ✅ Saved Silver file: /app/datamart/silver/lms_loan_daily/2023_06_01.parquet\n",
      "2025-10-25 22:05:09,960 [INFO] 🎉 Silver layer processing completed successfully.\n",
      "\n",
      "=== Processing snapshot_date: 2023-07-01 ===\n",
      "2025-10-25 22:05:09,962 [INFO] 🔍 Resolving config path: /app/config/silver_config.yaml\n",
      "2025-10-25 22:05:09,972 [INFO] 🚀 Starting silver layer processing for snapshot_date=2023-07-01\n",
      "2025-10-25 22:05:09,972 [INFO] Using configuration from: /app/config/silver_config.yaml\n",
      "2025-10-25 22:05:09,974 [INFO] 📂 Processing Silver table: features_attributes...\n",
      "2025-10-25 22:05:11,127 [INFO] ✅ Saved Silver file: /app/datamart/silver/features_attributes/2023_07_01.parquet\n",
      "2025-10-25 22:05:11,128 [INFO] 📂 Processing Silver table: features_financials...\n",
      "2025-10-25 22:05:12,746 [INFO] ✅ Saved Silver file: /app/datamart/silver/features_financials/2023_07_01.parquet\n",
      "2025-10-25 22:05:12,747 [INFO] 📂 Processing Silver table: feature_clickstream...\n",
      "2025-10-25 22:05:14,018 [INFO] ✅ Saved Silver file: /app/datamart/silver/feature_clickstream/2023_07_01.parquet\n",
      "2025-10-25 22:05:14,019 [INFO] 📂 Processing Silver table: lms_loan_daily...\n",
      "2025-10-25 22:05:15,284 [INFO] ✅ Saved Silver file: /app/datamart/silver/lms_loan_daily/2023_07_01.parquet\n",
      "2025-10-25 22:05:15,285 [INFO] 🎉 Silver layer processing completed successfully.\n",
      "\n",
      "=== Processing snapshot_date: 2023-08-01 ===\n",
      "2025-10-25 22:05:15,286 [INFO] 🔍 Resolving config path: /app/config/silver_config.yaml\n",
      "2025-10-25 22:05:15,294 [INFO] 🚀 Starting silver layer processing for snapshot_date=2023-08-01\n",
      "2025-10-25 22:05:15,296 [INFO] Using configuration from: /app/config/silver_config.yaml\n",
      "2025-10-25 22:05:15,297 [INFO] 📂 Processing Silver table: features_attributes...\n",
      "2025-10-25 22:05:13,701 [INFO] ✅ Saved Silver file: /app/datamart/silver/features_attributes/2023_08_01.parquet\n",
      "2025-10-25 22:05:13,702 [INFO] 📂 Processing Silver table: features_financials...\n",
      "2025-10-25 22:05:15,134 [INFO] ✅ Saved Silver file: /app/datamart/silver/features_financials/2023_08_01.parquet\n",
      "2025-10-25 22:05:15,135 [INFO] 📂 Processing Silver table: feature_clickstream...\n",
      "2025-10-25 22:05:16,465 [INFO] ✅ Saved Silver file: /app/datamart/silver/feature_clickstream/2023_08_01.parquet\n",
      "2025-10-25 22:05:16,467 [INFO] 📂 Processing Silver table: lms_loan_daily...\n",
      "2025-10-25 22:05:17,621 [INFO] ✅ Saved Silver file: /app/datamart/silver/lms_loan_daily/2023_08_01.parquet\n",
      "2025-10-25 22:05:17,622 [INFO] 🎉 Silver layer processing completed successfully.\n",
      "\n",
      "=== Processing snapshot_date: 2023-09-01 ===\n",
      "2025-10-25 22:05:17,623 [INFO] 🔍 Resolving config path: /app/config/silver_config.yaml\n",
      "2025-10-25 22:05:17,633 [INFO] 🚀 Starting silver layer processing for snapshot_date=2023-09-01\n",
      "2025-10-25 22:05:17,634 [INFO] Using configuration from: /app/config/silver_config.yaml\n",
      "2025-10-25 22:05:17,634 [INFO] 📂 Processing Silver table: features_attributes...\n",
      "2025-10-25 22:05:18,709 [INFO] ✅ Saved Silver file: /app/datamart/silver/features_attributes/2023_09_01.parquet\n",
      "2025-10-25 22:05:18,710 [INFO] 📂 Processing Silver table: features_financials...\n",
      "2025-10-25 22:05:20,127 [INFO] ✅ Saved Silver file: /app/datamart/silver/features_financials/2023_09_01.parquet\n",
      "2025-10-25 22:05:20,128 [INFO] 📂 Processing Silver table: feature_clickstream...\n",
      "2025-10-25 22:05:21,266 [INFO] ✅ Saved Silver file: /app/datamart/silver/feature_clickstream/2023_09_01.parquet\n",
      "2025-10-25 22:05:21,267 [INFO] 📂 Processing Silver table: lms_loan_daily...\n",
      "2025-10-25 22:05:22,315 [INFO] ✅ Saved Silver file: /app/datamart/silver/lms_loan_daily/2023_09_01.parquet\n",
      "2025-10-25 22:05:22,316 [INFO] 🎉 Silver layer processing completed successfully.\n",
      "\n",
      "=== Processing snapshot_date: 2023-10-01 ===\n",
      "2025-10-25 22:05:22,316 [INFO] 🔍 Resolving config path: /app/config/silver_config.yaml\n",
      "2025-10-25 22:05:22,326 [INFO] 🚀 Starting silver layer processing for snapshot_date=2023-10-01\n",
      "2025-10-25 22:05:22,327 [INFO] Using configuration from: /app/config/silver_config.yaml\n",
      "2025-10-25 22:05:22,329 [INFO] 📂 Processing Silver table: features_attributes...\n",
      "2025-10-25 22:05:23,391 [INFO] ✅ Saved Silver file: /app/datamart/silver/features_attributes/2023_10_01.parquet\n",
      "2025-10-25 22:05:23,391 [INFO] 📂 Processing Silver table: features_financials...\n",
      "2025-10-25 22:05:24,781 [INFO] ✅ Saved Silver file: /app/datamart/silver/features_financials/2023_10_01.parquet\n",
      "2025-10-25 22:05:24,783 [INFO] 📂 Processing Silver table: feature_clickstream...\n",
      "2025-10-25 22:05:25,865 [INFO] ✅ Saved Silver file: /app/datamart/silver/feature_clickstream/2023_10_01.parquet\n",
      "2025-10-25 22:05:25,867 [INFO] 📂 Processing Silver table: lms_loan_daily...\n",
      "2025-10-25 22:05:26,931 [INFO] ✅ Saved Silver file: /app/datamart/silver/lms_loan_daily/2023_10_01.parquet\n",
      "2025-10-25 22:05:26,932 [INFO] 🎉 Silver layer processing completed successfully.\n",
      "\n",
      "=== Processing snapshot_date: 2023-11-01 ===\n",
      "2025-10-25 22:05:26,932 [INFO] 🔍 Resolving config path: /app/config/silver_config.yaml\n",
      "2025-10-25 22:05:26,944 [INFO] 🚀 Starting silver layer processing for snapshot_date=2023-11-01\n",
      "2025-10-25 22:05:26,946 [INFO] Using configuration from: /app/config/silver_config.yaml\n",
      "2025-10-25 22:05:26,946 [INFO] 📂 Processing Silver table: features_attributes...\n",
      "2025-10-25 22:05:28,078 [INFO] ✅ Saved Silver file: /app/datamart/silver/features_attributes/2023_11_01.parquet\n",
      "2025-10-25 22:05:28,079 [INFO] 📂 Processing Silver table: features_financials...\n",
      "2025-10-25 22:05:29,769 [INFO] ✅ Saved Silver file: /app/datamart/silver/features_financials/2023_11_01.parquet\n",
      "2025-10-25 22:05:29,770 [INFO] 📂 Processing Silver table: feature_clickstream...\n",
      "2025-10-25 22:05:31,104 [INFO] ✅ Saved Silver file: /app/datamart/silver/feature_clickstream/2023_11_01.parquet\n",
      "2025-10-25 22:05:31,105 [INFO] 📂 Processing Silver table: lms_loan_daily...\n",
      "2025-10-25 22:05:32,229 [INFO] ✅ Saved Silver file: /app/datamart/silver/lms_loan_daily/2023_11_01.parquet\n",
      "2025-10-25 22:05:32,230 [INFO] 🎉 Silver layer processing completed successfully.\n",
      "\n",
      "=== Processing snapshot_date: 2023-12-01 ===\n",
      "2025-10-25 22:05:32,231 [INFO] 🔍 Resolving config path: /app/config/silver_config.yaml\n",
      "2025-10-25 22:05:32,241 [INFO] 🚀 Starting silver layer processing for snapshot_date=2023-12-01\n",
      "2025-10-25 22:05:32,242 [INFO] Using configuration from: /app/config/silver_config.yaml\n",
      "2025-10-25 22:05:32,242 [INFO] 📂 Processing Silver table: features_attributes...\n",
      "2025-10-25 22:05:33,414 [INFO] ✅ Saved Silver file: /app/datamart/silver/features_attributes/2023_12_01.parquet\n",
      "2025-10-25 22:05:33,416 [INFO] 📂 Processing Silver table: features_financials...\n",
      "2025-10-25 22:05:35,098 [INFO] ✅ Saved Silver file: /app/datamart/silver/features_financials/2023_12_01.parquet\n",
      "2025-10-25 22:05:35,098 [INFO] 📂 Processing Silver table: feature_clickstream...\n",
      "2025-10-25 22:05:36,400 [INFO] ✅ Saved Silver file: /app/datamart/silver/feature_clickstream/2023_12_01.parquet\n",
      "2025-10-25 22:05:36,402 [INFO] 📂 Processing Silver table: lms_loan_daily...\n",
      "2025-10-25 22:05:37,592 [INFO] ✅ Saved Silver file: /app/datamart/silver/lms_loan_daily/2023_12_01.parquet\n",
      "2025-10-25 22:05:37,593 [INFO] 🎉 Silver layer processing completed successfully.\n",
      "\n",
      "=== Processing snapshot_date: 2024-01-01 ===\n",
      "2025-10-25 22:05:37,593 [INFO] 🔍 Resolving config path: /app/config/silver_config.yaml\n",
      "2025-10-25 22:05:37,606 [INFO] 🚀 Starting silver layer processing for snapshot_date=2024-01-01\n",
      "2025-10-25 22:05:37,607 [INFO] Using configuration from: /app/config/silver_config.yaml\n",
      "2025-10-25 22:05:37,608 [INFO] 📂 Processing Silver table: features_attributes...\n",
      "2025-10-25 22:05:38,610 [INFO] ✅ Saved Silver file: /app/datamart/silver/features_attributes/2024_01_01.parquet\n",
      "2025-10-25 22:05:38,611 [INFO] 📂 Processing Silver table: features_financials...\n",
      "2025-10-25 22:05:40,049 [INFO] ✅ Saved Silver file: /app/datamart/silver/features_financials/2024_01_01.parquet\n",
      "2025-10-25 22:05:40,050 [INFO] 📂 Processing Silver table: feature_clickstream...\n",
      "2025-10-25 22:05:41,120 [INFO] ✅ Saved Silver file: /app/datamart/silver/feature_clickstream/2024_01_01.parquet\n",
      "2025-10-25 22:05:41,121 [INFO] 📂 Processing Silver table: lms_loan_daily...\n",
      "2025-10-25 22:05:42,225 [INFO] ✅ Saved Silver file: /app/datamart/silver/lms_loan_daily/2024_01_01.parquet\n",
      "2025-10-25 22:05:42,226 [INFO] 🎉 Silver layer processing completed successfully.\n",
      "\n",
      "=== Processing snapshot_date: 2024-02-01 ===\n",
      "2025-10-25 22:05:42,226 [INFO] 🔍 Resolving config path: /app/config/silver_config.yaml\n",
      "2025-10-25 22:05:42,236 [INFO] 🚀 Starting silver layer processing for snapshot_date=2024-02-01\n",
      "2025-10-25 22:05:42,237 [INFO] Using configuration from: /app/config/silver_config.yaml\n",
      "2025-10-25 22:05:42,238 [INFO] 📂 Processing Silver table: features_attributes...\n",
      "2025-10-25 22:05:42,885 [INFO] ✅ Saved Silver file: /app/datamart/silver/features_attributes/2024_02_01.parquet\n",
      "2025-10-25 22:05:42,885 [INFO] 📂 Processing Silver table: features_financials...\n",
      "2025-10-25 22:05:42,460 [INFO] ✅ Saved Silver file: /app/datamart/silver/features_financials/2024_02_01.parquet\n",
      "2025-10-25 22:05:42,462 [INFO] 📂 Processing Silver table: feature_clickstream...\n",
      "2025-10-25 22:05:43,766 [INFO] ✅ Saved Silver file: /app/datamart/silver/feature_clickstream/2024_02_01.parquet\n",
      "2025-10-25 22:05:43,768 [INFO] 📂 Processing Silver table: lms_loan_daily...\n",
      "2025-10-25 22:05:44,935 [INFO] ✅ Saved Silver file: /app/datamart/silver/lms_loan_daily/2024_02_01.parquet\n",
      "2025-10-25 22:05:44,936 [INFO] 🎉 Silver layer processing completed successfully.\n",
      "\n",
      "=== Processing snapshot_date: 2024-03-01 ===\n",
      "2025-10-25 22:05:44,937 [INFO] 🔍 Resolving config path: /app/config/silver_config.yaml\n",
      "2025-10-25 22:05:44,949 [INFO] 🚀 Starting silver layer processing for snapshot_date=2024-03-01\n",
      "2025-10-25 22:05:44,951 [INFO] Using configuration from: /app/config/silver_config.yaml\n",
      "2025-10-25 22:05:44,951 [INFO] 📂 Processing Silver table: features_attributes...\n",
      "2025-10-25 22:05:46,078 [INFO] ✅ Saved Silver file: /app/datamart/silver/features_attributes/2024_03_01.parquet\n",
      "2025-10-25 22:05:46,079 [INFO] 📂 Processing Silver table: features_financials...\n",
      "2025-10-25 22:05:47,575 [INFO] ✅ Saved Silver file: /app/datamart/silver/features_financials/2024_03_01.parquet\n",
      "2025-10-25 22:05:47,576 [INFO] 📂 Processing Silver table: feature_clickstream...\n",
      "2025-10-25 22:05:48,764 [INFO] ✅ Saved Silver file: /app/datamart/silver/feature_clickstream/2024_03_01.parquet\n",
      "2025-10-25 22:05:48,764 [INFO] 📂 Processing Silver table: lms_loan_daily...\n",
      "2025-10-25 22:05:49,781 [INFO] ✅ Saved Silver file: /app/datamart/silver/lms_loan_daily/2024_03_01.parquet\n",
      "2025-10-25 22:05:49,782 [INFO] 🎉 Silver layer processing completed successfully.\n",
      "\n",
      "=== Processing snapshot_date: 2024-04-01 ===\n",
      "2025-10-25 22:05:49,783 [INFO] 🔍 Resolving config path: /app/config/silver_config.yaml\n",
      "2025-10-25 22:05:49,794 [INFO] 🚀 Starting silver layer processing for snapshot_date=2024-04-01\n",
      "2025-10-25 22:05:49,797 [INFO] Using configuration from: /app/config/silver_config.yaml\n",
      "2025-10-25 22:05:49,798 [INFO] 📂 Processing Silver table: features_attributes...\n",
      "2025-10-25 22:05:50,839 [INFO] ✅ Saved Silver file: /app/datamart/silver/features_attributes/2024_04_01.parquet\n",
      "2025-10-25 22:05:50,840 [INFO] 📂 Processing Silver table: features_financials...\n",
      "2025-10-25 22:05:52,319 [INFO] ✅ Saved Silver file: /app/datamart/silver/features_financials/2024_04_01.parquet\n",
      "2025-10-25 22:05:52,320 [INFO] 📂 Processing Silver table: feature_clickstream...\n",
      "2025-10-25 22:05:53,452 [INFO] ✅ Saved Silver file: /app/datamart/silver/feature_clickstream/2024_04_01.parquet\n",
      "2025-10-25 22:05:53,453 [INFO] 📂 Processing Silver table: lms_loan_daily...\n",
      "2025-10-25 22:05:54,562 [INFO] ✅ Saved Silver file: /app/datamart/silver/lms_loan_daily/2024_04_01.parquet\n",
      "2025-10-25 22:05:54,563 [INFO] 🎉 Silver layer processing completed successfully.\n",
      "\n",
      "=== Processing snapshot_date: 2024-05-01 ===\n",
      "2025-10-25 22:05:54,563 [INFO] 🔍 Resolving config path: /app/config/silver_config.yaml\n",
      "2025-10-25 22:05:54,574 [INFO] 🚀 Starting silver layer processing for snapshot_date=2024-05-01\n",
      "2025-10-25 22:05:54,574 [INFO] Using configuration from: /app/config/silver_config.yaml\n",
      "2025-10-25 22:05:54,575 [INFO] 📂 Processing Silver table: features_attributes...\n",
      "2025-10-25 22:05:55,583 [INFO] ✅ Saved Silver file: /app/datamart/silver/features_attributes/2024_05_01.parquet\n",
      "2025-10-25 22:05:55,584 [INFO] 📂 Processing Silver table: features_financials...\n",
      "2025-10-25 22:05:56,940 [INFO] ✅ Saved Silver file: /app/datamart/silver/features_financials/2024_05_01.parquet\n",
      "2025-10-25 22:05:56,941 [INFO] 📂 Processing Silver table: feature_clickstream...\n",
      "2025-10-25 22:05:58,032 [INFO] ✅ Saved Silver file: /app/datamart/silver/feature_clickstream/2024_05_01.parquet\n",
      "2025-10-25 22:05:58,033 [INFO] 📂 Processing Silver table: lms_loan_daily...\n",
      "2025-10-25 22:05:59,095 [INFO] ✅ Saved Silver file: /app/datamart/silver/lms_loan_daily/2024_05_01.parquet\n",
      "2025-10-25 22:05:59,096 [INFO] 🎉 Silver layer processing completed successfully.\n",
      "\n",
      "=== Processing snapshot_date: 2024-06-01 ===\n",
      "2025-10-25 22:05:59,097 [INFO] 🔍 Resolving config path: /app/config/silver_config.yaml\n",
      "2025-10-25 22:05:59,104 [INFO] 🚀 Starting silver layer processing for snapshot_date=2024-06-01\n",
      "2025-10-25 22:05:59,107 [INFO] Using configuration from: /app/config/silver_config.yaml\n",
      "2025-10-25 22:05:59,108 [INFO] 📂 Processing Silver table: features_attributes...\n",
      "2025-10-25 22:06:00,096 [INFO] ✅ Saved Silver file: /app/datamart/silver/features_attributes/2024_06_01.parquet\n",
      "2025-10-25 22:06:00,096 [INFO] 📂 Processing Silver table: features_financials...\n",
      "2025-10-25 22:06:01,442 [INFO] ✅ Saved Silver file: /app/datamart/silver/features_financials/2024_06_01.parquet\n",
      "2025-10-25 22:06:01,442 [INFO] 📂 Processing Silver table: feature_clickstream...\n",
      "2025-10-25 22:06:02,565 [INFO] ✅ Saved Silver file: /app/datamart/silver/feature_clickstream/2024_06_01.parquet\n",
      "2025-10-25 22:06:02,567 [INFO] 📂 Processing Silver table: lms_loan_daily...\n",
      "2025-10-25 22:06:03,622 [INFO] ✅ Saved Silver file: /app/datamart/silver/lms_loan_daily/2024_06_01.parquet\n",
      "2025-10-25 22:06:03,623 [INFO] 🎉 Silver layer processing completed successfully.\n",
      "\n",
      "=== Processing snapshot_date: 2024-07-01 ===\n",
      "2025-10-25 22:06:03,624 [INFO] 🔍 Resolving config path: /app/config/silver_config.yaml\n",
      "2025-10-25 22:06:03,632 [INFO] 🚀 Starting silver layer processing for snapshot_date=2024-07-01\n",
      "2025-10-25 22:06:03,635 [INFO] Using configuration from: /app/config/silver_config.yaml\n",
      "2025-10-25 22:06:03,635 [INFO] 📂 Processing Silver table: features_attributes...\n",
      "2025-10-25 22:06:04,703 [INFO] ✅ Saved Silver file: /app/datamart/silver/features_attributes/2024_07_01.parquet\n",
      "2025-10-25 22:06:04,704 [INFO] 📂 Processing Silver table: features_financials...\n",
      "2025-10-25 22:06:06,096 [INFO] ✅ Saved Silver file: /app/datamart/silver/features_financials/2024_07_01.parquet\n",
      "2025-10-25 22:06:06,097 [INFO] 📂 Processing Silver table: feature_clickstream...\n",
      "2025-10-25 22:06:07,183 [INFO] ✅ Saved Silver file: /app/datamart/silver/feature_clickstream/2024_07_01.parquet\n",
      "2025-10-25 22:06:07,184 [INFO] 📂 Processing Silver table: lms_loan_daily...\n",
      "2025-10-25 22:06:08,183 [INFO] ✅ Saved Silver file: /app/datamart/silver/lms_loan_daily/2024_07_01.parquet\n",
      "2025-10-25 22:06:08,184 [INFO] 🎉 Silver layer processing completed successfully.\n",
      "\n",
      "=== Processing snapshot_date: 2024-08-01 ===\n",
      "2025-10-25 22:06:08,185 [INFO] 🔍 Resolving config path: /app/config/silver_config.yaml\n",
      "2025-10-25 22:06:08,194 [INFO] 🚀 Starting silver layer processing for snapshot_date=2024-08-01\n",
      "2025-10-25 22:06:08,197 [INFO] Using configuration from: /app/config/silver_config.yaml\n",
      "2025-10-25 22:06:08,198 [INFO] 📂 Processing Silver table: features_attributes...\n",
      "2025-10-25 22:06:09,204 [INFO] ✅ Saved Silver file: /app/datamart/silver/features_attributes/2024_08_01.parquet\n",
      "2025-10-25 22:06:09,205 [INFO] 📂 Processing Silver table: features_financials...\n",
      "2025-10-25 22:06:10,135 [INFO] ✅ Saved Silver file: /app/datamart/silver/features_financials/2024_08_01.parquet\n",
      "2025-10-25 22:06:10,137 [INFO] 📂 Processing Silver table: feature_clickstream...\n",
      "2025-10-25 22:06:09,005 [INFO] ✅ Saved Silver file: /app/datamart/silver/feature_clickstream/2024_08_01.parquet\n",
      "2025-10-25 22:06:09,006 [INFO] 📂 Processing Silver table: lms_loan_daily...\n",
      "2025-10-25 22:06:10,017 [INFO] ✅ Saved Silver file: /app/datamart/silver/lms_loan_daily/2024_08_01.parquet\n",
      "2025-10-25 22:06:10,018 [INFO] 🎉 Silver layer processing completed successfully.\n",
      "\n",
      "=== Processing snapshot_date: 2024-09-01 ===\n",
      "2025-10-25 22:06:10,019 [INFO] 🔍 Resolving config path: /app/config/silver_config.yaml\n",
      "2025-10-25 22:06:10,039 [INFO] 🚀 Starting silver layer processing for snapshot_date=2024-09-01\n",
      "2025-10-25 22:06:10,040 [INFO] Using configuration from: /app/config/silver_config.yaml\n",
      "2025-10-25 22:06:10,041 [INFO] 📂 Processing Silver table: features_attributes...\n",
      "2025-10-25 22:06:11,158 [INFO] ✅ Saved Silver file: /app/datamart/silver/features_attributes/2024_09_01.parquet\n",
      "2025-10-25 22:06:11,160 [INFO] 📂 Processing Silver table: features_financials...\n",
      "2025-10-25 22:06:12,534 [INFO] ✅ Saved Silver file: /app/datamart/silver/features_financials/2024_09_01.parquet\n",
      "2025-10-25 22:06:12,535 [INFO] 📂 Processing Silver table: feature_clickstream...\n",
      "2025-10-25 22:06:13,783 [INFO] ✅ Saved Silver file: /app/datamart/silver/feature_clickstream/2024_09_01.parquet\n",
      "2025-10-25 22:06:13,785 [INFO] 📂 Processing Silver table: lms_loan_daily...\n",
      "2025-10-25 22:06:14,907 [INFO] ✅ Saved Silver file: /app/datamart/silver/lms_loan_daily/2024_09_01.parquet\n",
      "2025-10-25 22:06:14,908 [INFO] 🎉 Silver layer processing completed successfully.\n",
      "\n",
      "=== Processing snapshot_date: 2024-10-01 ===\n",
      "2025-10-25 22:06:14,909 [INFO] 🔍 Resolving config path: /app/config/silver_config.yaml\n",
      "2025-10-25 22:06:14,922 [INFO] 🚀 Starting silver layer processing for snapshot_date=2024-10-01\n",
      "2025-10-25 22:06:14,924 [INFO] Using configuration from: /app/config/silver_config.yaml\n",
      "2025-10-25 22:06:14,924 [INFO] 📂 Processing Silver table: features_attributes...\n",
      "2025-10-25 22:06:16,010 [INFO] ✅ Saved Silver file: /app/datamart/silver/features_attributes/2024_10_01.parquet\n",
      "2025-10-25 22:06:16,011 [INFO] 📂 Processing Silver table: features_financials...\n",
      "2025-10-25 22:06:17,507 [INFO] ✅ Saved Silver file: /app/datamart/silver/features_financials/2024_10_01.parquet\n",
      "2025-10-25 22:06:17,508 [INFO] 📂 Processing Silver table: feature_clickstream...\n",
      "2025-10-25 22:06:18,692 [INFO] ✅ Saved Silver file: /app/datamart/silver/feature_clickstream/2024_10_01.parquet\n",
      "2025-10-25 22:06:18,693 [INFO] 📂 Processing Silver table: lms_loan_daily...\n",
      "2025-10-25 22:06:19,715 [INFO] ✅ Saved Silver file: /app/datamart/silver/lms_loan_daily/2024_10_01.parquet\n",
      "2025-10-25 22:06:19,716 [INFO] 🎉 Silver layer processing completed successfully.\n",
      "\n",
      "=== Processing snapshot_date: 2024-11-01 ===\n",
      "2025-10-25 22:06:19,716 [INFO] 🔍 Resolving config path: /app/config/silver_config.yaml\n",
      "2025-10-25 22:06:19,725 [INFO] 🚀 Starting silver layer processing for snapshot_date=2024-11-01\n",
      "2025-10-25 22:06:19,728 [INFO] Using configuration from: /app/config/silver_config.yaml\n",
      "2025-10-25 22:06:19,729 [INFO] 📂 Processing Silver table: features_attributes...\n",
      "2025-10-25 22:06:20,746 [INFO] ✅ Saved Silver file: /app/datamart/silver/features_attributes/2024_11_01.parquet\n",
      "2025-10-25 22:06:20,747 [INFO] 📂 Processing Silver table: features_financials...\n",
      "2025-10-25 22:06:22,140 [INFO] ✅ Saved Silver file: /app/datamart/silver/features_financials/2024_11_01.parquet\n",
      "2025-10-25 22:06:22,142 [INFO] 📂 Processing Silver table: feature_clickstream...\n",
      "2025-10-25 22:06:23,288 [INFO] ✅ Saved Silver file: /app/datamart/silver/feature_clickstream/2024_11_01.parquet\n",
      "2025-10-25 22:06:23,289 [INFO] 📂 Processing Silver table: lms_loan_daily...\n",
      "2025-10-25 22:06:24,389 [INFO] ✅ Saved Silver file: /app/datamart/silver/lms_loan_daily/2024_11_01.parquet\n",
      "2025-10-25 22:06:24,390 [INFO] 🎉 Silver layer processing completed successfully.\n",
      "\n",
      "=== Processing snapshot_date: 2024-12-01 ===\n",
      "2025-10-25 22:06:24,391 [INFO] 🔍 Resolving config path: /app/config/silver_config.yaml\n",
      "2025-10-25 22:06:24,400 [INFO] 🚀 Starting silver layer processing for snapshot_date=2024-12-01\n",
      "2025-10-25 22:06:24,403 [INFO] Using configuration from: /app/config/silver_config.yaml\n",
      "2025-10-25 22:06:24,403 [INFO] 📂 Processing Silver table: features_attributes...\n",
      "2025-10-25 22:06:25,439 [INFO] ✅ Saved Silver file: /app/datamart/silver/features_attributes/2024_12_01.parquet\n",
      "2025-10-25 22:06:25,440 [INFO] 📂 Processing Silver table: features_financials...\n",
      "2025-10-25 22:06:26,786 [INFO] ✅ Saved Silver file: /app/datamart/silver/features_financials/2024_12_01.parquet\n",
      "2025-10-25 22:06:26,787 [INFO] 📂 Processing Silver table: feature_clickstream...\n",
      "2025-10-25 22:06:27,849 [INFO] ✅ Saved Silver file: /app/datamart/silver/feature_clickstream/2024_12_01.parquet\n",
      "2025-10-25 22:06:27,850 [INFO] 📂 Processing Silver table: lms_loan_daily...\n",
      "2025-10-25 22:06:28,874 [INFO] ✅ Saved Silver file: /app/datamart/silver/lms_loan_daily/2024_12_01.parquet\n",
      "2025-10-25 22:06:28,875 [INFO] 🎉 Silver layer processing completed successfully.\n",
      "\n",
      "=== Processing snapshot_date: 2025-01-01 ===\n",
      "2025-10-25 22:06:28,876 [INFO] 🔍 Resolving config path: /app/config/silver_config.yaml\n",
      "2025-10-25 22:06:28,885 [INFO] 🚀 Starting silver layer processing for snapshot_date=2025-01-01\n",
      "2025-10-25 22:06:28,885 [INFO] Using configuration from: /app/config/silver_config.yaml\n",
      "2025-10-25 22:06:28,886 [INFO] 📂 Processing Silver table: features_attributes...\n",
      "2025-10-25 22:06:29,955 [INFO] ✅ Saved Silver file: /app/datamart/silver/features_attributes/2025_01_01.parquet\n",
      "2025-10-25 22:06:29,956 [INFO] 📂 Processing Silver table: features_financials...\n",
      "2025-10-25 22:06:31,287 [INFO] ✅ Saved Silver file: /app/datamart/silver/features_financials/2025_01_01.parquet\n",
      "2025-10-25 22:06:31,288 [INFO] 📂 Processing Silver table: feature_clickstream...\n",
      "2025-10-25 22:06:31,290 [WARNING] ⚠️ No Bronze file found for feature_clickstream on 2025-01-01. Skipping...\n",
      "2025-10-25 22:06:31,291 [INFO] 📂 Processing Silver table: lms_loan_daily...\n",
      "2025-10-25 22:06:32,283 [INFO] ✅ Saved Silver file: /app/datamart/silver/lms_loan_daily/2025_01_01.parquet\n",
      "2025-10-25 22:06:32,284 [INFO] 🎉 Silver layer processing completed successfully.\n"
     ]
    }
   ],
   "source": [
    "# -------------------------------------------------------------------------\n",
    "# Run silver processing for each snapshot_date between 2023-01-01 and 2025-01-01\n",
    "# -------------------------------------------------------------------------\n",
    "\n",
    "start_date = datetime(2023, 1, 1)\n",
    "end_date = datetime(2025, 1, 1)\n",
    "\n",
    "current_date = start_date\n",
    "\n",
    "while current_date <= end_date:\n",
    "    snapshot_str = current_date.strftime(\"%Y-%m-%d\")\n",
    "    print(f\"\\n=== Processing snapshot_date: {snapshot_str} ===\")\n",
    "\n",
    "    try:\n",
    "        process_silver_tables(snapshot_date=snapshot_str, spark=spark)\n",
    "    except Exception as e:\n",
    "        print(f\"⚠️ Failed to process {snapshot_str}: {e}\")\n",
    "\n",
    "    # Increment by 1 month\n",
    "    # Use relativedelta to ensure correct month transitions\n",
    "    from dateutil.relativedelta import relativedelta\n",
    "    current_date += relativedelta(months=1)"
   ]
  },
  {
   "cell_type": "code",
   "execution_count": 3,
   "id": "68bfcf76-1c87-4abc-86af-8331d31b13d0",
   "metadata": {
    "scrolled": true
   },
   "outputs": [
    {
     "name": "stdout",
     "output_type": "stream",
     "text": [
      "\n",
      "=== Processing snapshot_date: 2023-01-01 ===\n",
      "2025-10-26 10:52:03,021 [INFO] 🚀 Building Gold tables for 2023-01-01\n",
      "2025-10-26 10:52:05,666 [WARNING] ⚠️ Missing clickstream months: ['2022_10_01', '2022_11_01', '2022_12_01']\n",
      "2025-10-26 10:52:05,666 [INFO] ⏭️ Skipping feature_store generation for 2023-01-01: insufficient L3M clickstream data.\n",
      "\n",
      "=== Processing snapshot_date: 2023-02-01 ===\n",
      "2025-10-26 10:52:05,672 [INFO] 🚀 Building Gold tables for 2023-02-01\n",
      "2025-10-26 10:52:06,316 [WARNING] ⚠️ Missing clickstream months: ['2022_11_01', '2022_12_01']\n",
      "2025-10-26 10:52:06,317 [INFO] ⏭️ Skipping feature_store generation for 2023-02-01: insufficient L3M clickstream data.\n",
      "\n",
      "=== Processing snapshot_date: 2023-03-01 ===\n",
      "2025-10-26 10:52:06,322 [INFO] 🚀 Building Gold tables for 2023-03-01\n",
      "2025-10-26 10:52:06,950 [WARNING] ⚠️ Missing clickstream months: ['2022_12_01']\n",
      "2025-10-26 10:52:06,951 [INFO] ⏭️ Skipping feature_store generation for 2023-03-01: insufficient L3M clickstream data.\n",
      "\n",
      "=== Processing snapshot_date: 2023-04-01 ===\n",
      "2025-10-26 10:52:06,958 [INFO] 🚀 Building Gold tables for 2023-04-01\n"
     ]
    },
    {
     "name": "stderr",
     "output_type": "stream",
     "text": [
      "                                                                                "
     ]
    },
    {
     "name": "stdout",
     "output_type": "stream",
     "text": [
      "2025-10-26 10:52:14,267 [INFO] ✅ Feature store saved: /app/datamart/gold/feature_store/2023_04_01.parquet\n",
      "2025-10-26 10:52:14,269 [INFO] ✅ Label store saved:   /app/datamart/gold/label_store/2023_04_01.parquet\n",
      "2025-10-26 10:52:14,270 [INFO] 🎉 Completed Gold ETL for 2023-04-01\n",
      "\n",
      "=== Processing snapshot_date: 2023-05-01 ===\n",
      "2025-10-26 10:52:14,274 [INFO] 🚀 Building Gold tables for 2023-05-01\n",
      "2025-10-26 10:52:18,110 [INFO] ✅ Feature store saved: /app/datamart/gold/feature_store/2023_05_01.parquet\n",
      "2025-10-26 10:52:18,111 [INFO] ✅ Label store saved:   /app/datamart/gold/label_store/2023_05_01.parquet\n",
      "2025-10-26 10:52:18,111 [INFO] 🎉 Completed Gold ETL for 2023-05-01\n",
      "\n",
      "=== Processing snapshot_date: 2023-06-01 ===\n",
      "2025-10-26 10:52:18,117 [INFO] 🚀 Building Gold tables for 2023-06-01\n",
      "2025-10-26 10:52:21,577 [INFO] ✅ Feature store saved: /app/datamart/gold/feature_store/2023_06_01.parquet\n",
      "2025-10-26 10:52:21,578 [INFO] ✅ Label store saved:   /app/datamart/gold/label_store/2023_06_01.parquet\n",
      "2025-10-26 10:52:21,579 [INFO] 🎉 Completed Gold ETL for 2023-06-01\n",
      "\n",
      "=== Processing snapshot_date: 2023-07-01 ===\n",
      "2025-10-26 10:52:21,585 [INFO] 🚀 Building Gold tables for 2023-07-01\n",
      "2025-10-26 10:52:25,348 [INFO] ✅ Feature store saved: /app/datamart/gold/feature_store/2023_07_01.parquet\n",
      "2025-10-26 10:52:25,349 [INFO] ✅ Label store saved:   /app/datamart/gold/label_store/2023_07_01.parquet\n",
      "2025-10-26 10:52:25,349 [INFO] 🎉 Completed Gold ETL for 2023-07-01\n",
      "\n",
      "=== Processing snapshot_date: 2023-08-01 ===\n",
      "2025-10-26 10:52:25,358 [INFO] 🚀 Building Gold tables for 2023-08-01\n",
      "2025-10-26 10:52:28,883 [INFO] ✅ Feature store saved: /app/datamart/gold/feature_store/2023_08_01.parquet\n",
      "2025-10-26 10:52:28,885 [INFO] ✅ Label store saved:   /app/datamart/gold/label_store/2023_08_01.parquet\n",
      "2025-10-26 10:52:28,885 [INFO] 🎉 Completed Gold ETL for 2023-08-01\n",
      "\n",
      "=== Processing snapshot_date: 2023-09-01 ===\n",
      "2025-10-26 10:52:28,891 [INFO] 🚀 Building Gold tables for 2023-09-01\n",
      "2025-10-26 10:52:32,216 [INFO] ✅ Feature store saved: /app/datamart/gold/feature_store/2023_09_01.parquet\n",
      "2025-10-26 10:52:32,217 [INFO] ✅ Label store saved:   /app/datamart/gold/label_store/2023_09_01.parquet\n",
      "2025-10-26 10:52:32,218 [INFO] 🎉 Completed Gold ETL for 2023-09-01\n",
      "\n",
      "=== Processing snapshot_date: 2023-10-01 ===\n",
      "2025-10-26 10:52:32,225 [INFO] 🚀 Building Gold tables for 2023-10-01\n",
      "2025-10-26 10:52:35,339 [INFO] ✅ Feature store saved: /app/datamart/gold/feature_store/2023_10_01.parquet\n",
      "2025-10-26 10:52:35,341 [INFO] ✅ Label store saved:   /app/datamart/gold/label_store/2023_10_01.parquet\n",
      "2025-10-26 10:52:35,341 [INFO] 🎉 Completed Gold ETL for 2023-10-01\n",
      "\n",
      "=== Processing snapshot_date: 2023-11-01 ===\n",
      "2025-10-26 10:52:35,352 [INFO] 🚀 Building Gold tables for 2023-11-01\n",
      "2025-10-26 10:52:38,635 [INFO] ✅ Feature store saved: /app/datamart/gold/feature_store/2023_11_01.parquet\n",
      "2025-10-26 10:52:38,635 [INFO] ✅ Label store saved:   /app/datamart/gold/label_store/2023_11_01.parquet\n",
      "2025-10-26 10:52:38,636 [INFO] 🎉 Completed Gold ETL for 2023-11-01\n",
      "\n",
      "=== Processing snapshot_date: 2023-12-01 ===\n",
      "2025-10-26 10:52:38,642 [INFO] 🚀 Building Gold tables for 2023-12-01\n",
      "2025-10-26 10:52:41,922 [INFO] ✅ Feature store saved: /app/datamart/gold/feature_store/2023_12_01.parquet\n",
      "2025-10-26 10:52:41,924 [INFO] ✅ Label store saved:   /app/datamart/gold/label_store/2023_12_01.parquet\n",
      "2025-10-26 10:52:41,924 [INFO] 🎉 Completed Gold ETL for 2023-12-01\n",
      "\n",
      "=== Processing snapshot_date: 2024-01-01 ===\n",
      "2025-10-26 10:52:41,930 [INFO] 🚀 Building Gold tables for 2024-01-01\n",
      "2025-10-26 10:52:45,129 [INFO] ✅ Feature store saved: /app/datamart/gold/feature_store/2024_01_01.parquet\n",
      "2025-10-26 10:52:45,130 [INFO] ✅ Label store saved:   /app/datamart/gold/label_store/2024_01_01.parquet\n",
      "2025-10-26 10:52:45,130 [INFO] 🎉 Completed Gold ETL for 2024-01-01\n",
      "\n",
      "=== Processing snapshot_date: 2024-02-01 ===\n",
      "2025-10-26 10:52:45,136 [INFO] 🚀 Building Gold tables for 2024-02-01\n",
      "2025-10-26 10:52:48,231 [INFO] ✅ Feature store saved: /app/datamart/gold/feature_store/2024_02_01.parquet\n",
      "2025-10-26 10:52:48,232 [INFO] ✅ Label store saved:   /app/datamart/gold/label_store/2024_02_01.parquet\n",
      "2025-10-26 10:52:48,233 [INFO] 🎉 Completed Gold ETL for 2024-02-01\n",
      "\n",
      "=== Processing snapshot_date: 2024-03-01 ===\n",
      "2025-10-26 10:52:48,239 [INFO] 🚀 Building Gold tables for 2024-03-01\n",
      "2025-10-26 10:52:52,047 [INFO] ✅ Feature store saved: /app/datamart/gold/feature_store/2024_03_01.parquet\n",
      "2025-10-26 10:52:52,049 [INFO] ✅ Label store saved:   /app/datamart/gold/label_store/2024_03_01.parquet\n",
      "2025-10-26 10:52:52,049 [INFO] 🎉 Completed Gold ETL for 2024-03-01\n",
      "\n",
      "=== Processing snapshot_date: 2024-04-01 ===\n",
      "2025-10-26 10:52:52,057 [INFO] 🚀 Building Gold tables for 2024-04-01\n",
      "2025-10-26 10:52:55,756 [INFO] ✅ Feature store saved: /app/datamart/gold/feature_store/2024_04_01.parquet\n",
      "2025-10-26 10:52:55,757 [INFO] ✅ Label store saved:   /app/datamart/gold/label_store/2024_04_01.parquet\n",
      "2025-10-26 10:52:55,757 [INFO] 🎉 Completed Gold ETL for 2024-04-01\n",
      "\n",
      "=== Processing snapshot_date: 2024-05-01 ===\n",
      "2025-10-26 10:52:55,764 [INFO] 🚀 Building Gold tables for 2024-05-01\n",
      "2025-10-26 10:52:59,332 [INFO] ✅ Feature store saved: /app/datamart/gold/feature_store/2024_05_01.parquet\n",
      "2025-10-26 10:52:59,333 [INFO] ✅ Label store saved:   /app/datamart/gold/label_store/2024_05_01.parquet\n",
      "2025-10-26 10:52:59,333 [INFO] 🎉 Completed Gold ETL for 2024-05-01\n",
      "\n",
      "=== Processing snapshot_date: 2024-06-01 ===\n",
      "2025-10-26 10:52:59,339 [INFO] 🚀 Building Gold tables for 2024-06-01\n",
      "2025-10-26 10:53:02,550 [INFO] ✅ Feature store saved: /app/datamart/gold/feature_store/2024_06_01.parquet\n",
      "2025-10-26 10:53:02,551 [INFO] ✅ Label store saved:   /app/datamart/gold/label_store/2024_06_01.parquet\n",
      "2025-10-26 10:53:02,552 [INFO] 🎉 Completed Gold ETL for 2024-06-01\n",
      "\n",
      "=== Processing snapshot_date: 2024-07-01 ===\n",
      "2025-10-26 10:53:02,557 [INFO] 🚀 Building Gold tables for 2024-07-01\n",
      "2025-10-26 10:53:05,702 [INFO] ✅ Feature store saved: /app/datamart/gold/feature_store/2024_07_01.parquet\n",
      "2025-10-26 10:53:05,703 [INFO] ✅ Label store saved:   /app/datamart/gold/label_store/2024_07_01.parquet\n",
      "2025-10-26 10:53:05,704 [INFO] 🎉 Completed Gold ETL for 2024-07-01\n",
      "\n",
      "=== Processing snapshot_date: 2024-08-01 ===\n",
      "2025-10-26 10:53:05,710 [INFO] 🚀 Building Gold tables for 2024-08-01\n",
      "2025-10-26 10:53:08,796 [INFO] ✅ Feature store saved: /app/datamart/gold/feature_store/2024_08_01.parquet\n",
      "2025-10-26 10:53:08,797 [INFO] ✅ Label store saved:   /app/datamart/gold/label_store/2024_08_01.parquet\n",
      "2025-10-26 10:53:08,798 [INFO] 🎉 Completed Gold ETL for 2024-08-01\n",
      "\n",
      "=== Processing snapshot_date: 2024-09-01 ===\n",
      "2025-10-26 10:53:08,804 [INFO] 🚀 Building Gold tables for 2024-09-01\n",
      "2025-10-26 10:53:11,826 [INFO] ✅ Feature store saved: /app/datamart/gold/feature_store/2024_09_01.parquet\n",
      "2025-10-26 10:53:11,827 [INFO] ✅ Label store saved:   /app/datamart/gold/label_store/2024_09_01.parquet\n",
      "2025-10-26 10:53:11,827 [INFO] 🎉 Completed Gold ETL for 2024-09-01\n",
      "\n",
      "=== Processing snapshot_date: 2024-10-01 ===\n",
      "2025-10-26 10:53:11,833 [INFO] 🚀 Building Gold tables for 2024-10-01\n",
      "2025-10-26 10:53:14,585 [INFO] ✅ Feature store saved: /app/datamart/gold/feature_store/2024_10_01.parquet\n",
      "2025-10-26 10:53:14,586 [INFO] ✅ Label store saved:   /app/datamart/gold/label_store/2024_10_01.parquet\n",
      "2025-10-26 10:53:14,586 [INFO] 🎉 Completed Gold ETL for 2024-10-01\n",
      "\n",
      "=== Processing snapshot_date: 2024-11-01 ===\n",
      "2025-10-26 10:53:14,591 [INFO] 🚀 Building Gold tables for 2024-11-01\n",
      "2025-10-26 10:53:17,526 [INFO] ✅ Feature store saved: /app/datamart/gold/feature_store/2024_11_01.parquet\n",
      "2025-10-26 10:53:17,527 [INFO] ✅ Label store saved:   /app/datamart/gold/label_store/2024_11_01.parquet\n",
      "2025-10-26 10:53:17,528 [INFO] 🎉 Completed Gold ETL for 2024-11-01\n",
      "\n",
      "=== Processing snapshot_date: 2024-12-01 ===\n",
      "2025-10-26 10:53:17,534 [INFO] 🚀 Building Gold tables for 2024-12-01\n",
      "2025-10-26 10:53:20,695 [INFO] ✅ Feature store saved: /app/datamart/gold/feature_store/2024_12_01.parquet\n",
      "2025-10-26 10:53:20,697 [INFO] ✅ Label store saved:   /app/datamart/gold/label_store/2024_12_01.parquet\n",
      "2025-10-26 10:53:20,697 [INFO] 🎉 Completed Gold ETL for 2024-12-01\n",
      "\n",
      "=== Processing snapshot_date: 2025-01-01 ===\n",
      "2025-10-26 10:53:20,704 [INFO] 🚀 Building Gold tables for 2025-01-01\n",
      "2025-10-26 10:53:23,786 [INFO] ✅ Feature store saved: /app/datamart/gold/feature_store/2025_01_01.parquet\n",
      "2025-10-26 10:53:23,787 [INFO] ✅ Label store saved:   /app/datamart/gold/label_store/2025_01_01.parquet\n",
      "2025-10-26 10:53:23,787 [INFO] 🎉 Completed Gold ETL for 2025-01-01\n"
     ]
    }
   ],
   "source": [
    "# -------------------------------------------------------------------------\n",
    "# Run gold processing for each snapshot_date between 2023-03-01 and 2025-01-01\n",
    "# -------------------------------------------------------------------------\n",
    "\n",
    "start_date = datetime(2023, 1, 1)\n",
    "end_date = datetime(2025, 1, 1)\n",
    "\n",
    "current_date = start_date\n",
    "\n",
    "while current_date <= end_date:\n",
    "    snapshot_str = current_date.strftime(\"%Y-%m-%d\")\n",
    "    print(f\"\\n=== Processing snapshot_date: {snapshot_str} ===\")\n",
    "\n",
    "    try:\n",
    "        process_gold_tables(snapshot_date=snapshot_str, spark=spark)\n",
    "    except Exception as e:\n",
    "        print(f\"⚠️ Failed to process {snapshot_str}: {e}\")\n",
    "\n",
    "    # Increment by 1 month\n",
    "    # Use relativedelta to ensure correct month transitions\n",
    "    from dateutil.relativedelta import relativedelta\n",
    "    current_date += relativedelta(months=1)"
   ]
  },
  {
   "cell_type": "markdown",
   "id": "986c0de7-5b9e-471b-99bc-18a56263b9c4",
   "metadata": {
    "jp-MarkdownHeadingCollapsed": true
   },
   "source": [
    "# Model Promotion"
   ]
  },
  {
   "cell_type": "code",
   "execution_count": 1,
   "id": "9c9ca688-2cb0-4ee4-907d-ab792400d865",
   "metadata": {},
   "outputs": [
    {
     "name": "stderr",
     "output_type": "stream",
     "text": [
      "2025-10-28 13:14:40,892 [INFO] 🚀 Initial deployment date reached (2024-06-01). Selecting best candidate for first deployment.\n",
      "2025-10-28 13:14:41,518 [INFO] 🚀 Promoted 2024-01-01 (OOT AUC=0.825) → deployed_model/\n",
      "2025-10-28 13:14:41,520 [INFO] ✅ Initial model deployed from 2024-01-01 (OOT AUC = 0.825).\n"
     ]
    }
   ],
   "source": [
    "import sys\n",
    "import os\n",
    "\n",
    "# Ensure Python can find your project modules\n",
    "sys.path.append(os.path.abspath(\".\"))  # treat current directory as project root\n",
    "\n",
    "from utils.promote_best_model import main\n",
    "\n",
    "# Set snapshot date to score\n",
    "snapshot_date = \"2024-06-01\"\n",
    "\n",
    "# Run inference\n",
    "main(snapshot_date=snapshot_date)"
   ]
  },
  {
   "cell_type": "code",
   "execution_count": null,
   "id": "410c3489-7959-40d6-99de-63f27b7aab42",
   "metadata": {},
   "outputs": [],
   "source": []
  },
  {
   "cell_type": "code",
   "execution_count": null,
   "id": "7b065dc7-46be-4368-94af-19024ca8d54c",
   "metadata": {},
   "outputs": [],
   "source": []
  },
  {
   "cell_type": "markdown",
   "id": "ca79d4c9-01a3-42ce-93b4-fa96df7c954c",
   "metadata": {
    "jp-MarkdownHeadingCollapsed": true
   },
   "source": [
    "# Model Training Pipeline"
   ]
  },
  {
   "cell_type": "code",
   "execution_count": 3,
   "id": "20c058eb-9fda-4f2d-a59e-4a30afa9f507",
   "metadata": {
    "scrolled": true
   },
   "outputs": [
    {
     "name": "stdout",
     "output_type": "stream",
     "text": [
      "2025-10-26 23:32:00,443 [INFO] 📂 Found 9 aligned feature/label pairs.\n",
      "2025-10-26 23:32:01,699 [INFO] ✅ Loaded 4421 rows (2023-04-01 → 2023-12-01)\n",
      "2025-10-26 23:32:01,710 [INFO] 📊 Split summary: train=2954, val=487, test=491, oot=489\n",
      "2025-10-26 23:32:06,547 [INFO] 🏆 Best params={'subsample': 0.6, 'reg_lambda': 1, 'reg_alpha': 0, 'n_estimators': 50, 'min_child_weight': 1, 'max_depth': 3, 'learning_rate': 0.1, 'gamma': 0.1, 'colsample_bytree': 0.8}, CV AUC=0.7837\n",
      "2025-10-26 23:32:06,731 [INFO] 📊 Metrics: {\n",
      "  \"train\": {\n",
      "    \"auc\": 0.900134769830418,\n",
      "    \"gini\": 0.8002695396608359,\n",
      "    \"ks\": 0.639266087248076,\n",
      "    \"f1\": 0.5808893093661306,\n",
      "    \"accuracy\": 0.8500338524035207,\n",
      "    \"precision\": 0.7892030848329049,\n",
      "    \"recall\": 0.4595808383233533\n",
      "  },\n",
      "  \"val\": {\n",
      "    \"auc\": 0.7881562881562882,\n",
      "    \"gini\": 0.5763125763125765,\n",
      "    \"ks\": 0.5377955377955378,\n",
      "    \"f1\": 0.34532374100719426,\n",
      "    \"accuracy\": 0.813141683778234,\n",
      "    \"precision\": 0.5,\n",
      "    \"recall\": 0.26373626373626374\n",
      "  },\n",
      "  \"test\": {\n",
      "    \"auc\": 0.7736842105263158,\n",
      "    \"gini\": 0.5473684210526315,\n",
      "    \"ks\": 0.4593883357041252,\n",
      "    \"f1\": 0.36470588235294116,\n",
      "    \"accuracy\": 0.780040733197556,\n",
      "    \"precision\": 0.5254237288135594,\n",
      "    \"recall\": 0.27927927927927926\n",
      "  },\n",
      "  \"oot\": {\n",
      "    \"auc\": 0.7620636323464427,\n",
      "    \"gini\": 0.5241272646928854,\n",
      "    \"ks\": 0.43234644277507733,\n",
      "    \"f1\": 0.3870967741935484,\n",
      "    \"accuracy\": 0.7668711656441718,\n",
      "    \"precision\": 0.5806451612903226,\n",
      "    \"recall\": 0.2903225806451613\n",
      "  }\n",
      "}\n",
      "2025-10-26 23:32:06,817 [INFO] 💾 Saved model to /app/model_store/candidate_models/2023-12-01/model.pkl\n",
      "2025-10-26 23:32:06,818 [INFO] 💾 Saved metadata to /app/model_store/candidate_models/2023-12-01/metadata.json\n",
      "2025-10-26 23:32:06,869 [INFO] 💾 Saved preprocessing artefacts to /app/model_store/candidate_models/2023-12-01/preprocessing\n",
      "2025-10-26 23:32:06,870 [INFO] 🎉 Model training completed successfully for snapshot=2023-12-01\n"
     ]
    }
   ],
   "source": [
    "import sys\n",
    "import os\n",
    "\n",
    "# Ensure Python can find your project modules\n",
    "sys.path.append(os.path.abspath(\".\"))  # current directory as project root\n",
    "\n",
    "from utils.model_train import main\n",
    "\n",
    "# Optionally, pick a snapshot_date manually for the run\n",
    "snapshot_date = \"2024-04-01\"\n",
    "\n",
    "# Call main()\n",
    "main(snapshot_date=snapshot_date, config_path=\"config/ML_config.yaml\")"
   ]
  },
  {
   "cell_type": "code",
   "execution_count": 4,
   "id": "847217b7-ab87-4492-b4e6-ef151e7f6620",
   "metadata": {
    "scrolled": true
   },
   "outputs": [
    {
     "name": "stdout",
     "output_type": "stream",
     "text": [
      "2025-10-26 23:32:07,008 [INFO] 📂 Found 10 aligned feature/label pairs.\n",
      "2025-10-26 23:32:08,246 [INFO] ✅ Loaded 4396 rows (2023-04-01 → 2024-01-01)\n",
      "2025-10-26 23:32:08,257 [INFO] 📊 Split summary: train=2931, val=491, test=489, oot=485\n",
      "2025-10-26 23:32:09,023 [INFO] 🏆 Best params={'subsample': 0.6, 'reg_lambda': 2, 'reg_alpha': 1, 'n_estimators': 50, 'min_child_weight': 5, 'max_depth': 3, 'learning_rate': 0.1, 'gamma': 0, 'colsample_bytree': 0.8}, CV AUC=0.8018\n",
      "2025-10-26 23:32:09,080 [INFO] 📊 Metrics: {\n",
      "  \"train\": {\n",
      "    \"auc\": 0.8910177894429864,\n",
      "    \"gini\": 0.7820355788859727,\n",
      "    \"ks\": 0.6243341675313842,\n",
      "    \"f1\": 0.5805207328833173,\n",
      "    \"accuracy\": 0.8515864892528148,\n",
      "    \"precision\": 0.7678571428571429,\n",
      "    \"recall\": 0.4666666666666667\n",
      "  },\n",
      "  \"val\": {\n",
      "    \"auc\": 0.7769559032716927,\n",
      "    \"gini\": 0.5539118065433855,\n",
      "    \"ks\": 0.4845898530109056,\n",
      "    \"f1\": 0.37037037037037035,\n",
      "    \"accuracy\": 0.7922606924643585,\n",
      "    \"precision\": 0.5882352941176471,\n",
      "    \"recall\": 0.2702702702702703\n",
      "  },\n",
      "  \"test\": {\n",
      "    \"auc\": 0.7592576226248342,\n",
      "    \"gini\": 0.5185152452496684,\n",
      "    \"ks\": 0.44376933274414493,\n",
      "    \"f1\": 0.422680412371134,\n",
      "    \"accuracy\": 0.7709611451942741,\n",
      "    \"precision\": 0.5857142857142857,\n",
      "    \"recall\": 0.33064516129032256\n",
      "  },\n",
      "  \"oot\": {\n",
      "    \"auc\": 0.8249588719153937,\n",
      "    \"gini\": 0.6499177438307875,\n",
      "    \"ks\": 0.5687426556991775,\n",
      "    \"f1\": 0.46511627906976744,\n",
      "    \"accuracy\": 0.8103092783505155,\n",
      "    \"precision\": 0.7017543859649122,\n",
      "    \"recall\": 0.34782608695652173\n",
      "  }\n",
      "}\n",
      "2025-10-26 23:32:09,117 [INFO] 💾 Saved model to /app/model_store/candidate_models/2024-01-01/model.pkl\n",
      "2025-10-26 23:32:09,118 [INFO] 💾 Saved metadata to /app/model_store/candidate_models/2024-01-01/metadata.json\n",
      "2025-10-26 23:32:09,158 [INFO] 💾 Saved preprocessing artefacts to /app/model_store/candidate_models/2024-01-01/preprocessing\n",
      "2025-10-26 23:32:09,160 [INFO] 🎉 Model training completed successfully for snapshot=2024-01-01\n"
     ]
    }
   ],
   "source": [
    "import sys\n",
    "import os\n",
    "\n",
    "# Ensure Python can find your project modules\n",
    "sys.path.append(os.path.abspath(\".\"))  # current directory as project root\n",
    "\n",
    "from utils.model_train import main\n",
    "\n",
    "# Optionally, pick a snapshot_date manually for the run\n",
    "snapshot_date = \"2024-05-01\"\n",
    "\n",
    "# Call main()\n",
    "main(snapshot_date=snapshot_date, config_path=\"config/ML_config.yaml\")"
   ]
  },
  {
   "cell_type": "code",
   "execution_count": 4,
   "id": "d2b0c8e7-ce6b-4511-a453-6846b41d7fcc",
   "metadata": {
    "scrolled": true
   },
   "outputs": [
    {
     "name": "stdout",
     "output_type": "stream",
     "text": [
      "2025-10-28 19:21:27,325 [INFO] 📂 Found 11 aligned feature/label pairs.\n",
      "2025-10-28 19:21:28,712 [INFO] ✅ Loaded 4393 rows (2023-04-01 → 2024-02-01)\n",
      "2025-10-28 19:21:28,725 [INFO] 📊 Split summary: train=2901, val=489, test=485, oot=518\n",
      "2025-10-28 19:21:30,544 [INFO] 🏆 Best params={'subsample': 0.6, 'reg_lambda': 1.5, 'reg_alpha': 1, 'n_estimators': 50, 'min_child_weight': 5, 'max_depth': 3, 'learning_rate': 0.1, 'gamma': 0.1, 'colsample_bytree': 0.8}, CV AUC=0.7889\n",
      "2025-10-28 19:21:30,619 [INFO] 📊 Metrics: {\n",
      "  \"train\": {\n",
      "    \"auc\": 0.8857288505146855,\n",
      "    \"gini\": 0.7714577010293711,\n",
      "    \"ks\": 0.6058738296460575,\n",
      "    \"f1\": 0.5489795918367347,\n",
      "    \"accuracy\": 0.8476387452602551,\n",
      "    \"precision\": 0.7865497076023392,\n",
      "    \"recall\": 0.4216300940438871\n",
      "  },\n",
      "  \"val\": {\n",
      "    \"auc\": 0.7696641626159966,\n",
      "    \"gini\": 0.5393283252319931,\n",
      "    \"ks\": 0.4524524966858153,\n",
      "    \"f1\": 0.4175824175824176,\n",
      "    \"accuracy\": 0.7832310838445807,\n",
      "    \"precision\": 0.6551724137931034,\n",
      "    \"recall\": 0.3064516129032258\n",
      "  },\n",
      "  \"test\": {\n",
      "    \"auc\": 0.8284371327849588,\n",
      "    \"gini\": 0.6568742655699176,\n",
      "    \"ks\": 0.5714453584018802,\n",
      "    \"f1\": 0.4550898203592814,\n",
      "    \"accuracy\": 0.8123711340206186,\n",
      "    \"precision\": 0.7307692307692307,\n",
      "    \"recall\": 0.33043478260869563\n",
      "  },\n",
      "  \"oot\": {\n",
      "    \"auc\": 0.7482397249058457,\n",
      "    \"gini\": 0.49647944981169134,\n",
      "    \"ks\": 0.40257082037006714,\n",
      "    \"f1\": 0.42328042328042326,\n",
      "    \"accuracy\": 0.7895752895752896,\n",
      "    \"precision\": 0.6153846153846154,\n",
      "    \"recall\": 0.3225806451612903\n",
      "  }\n",
      "}\n",
      "2025-10-28 19:21:30,675 [INFO] 💾 Saved model to /app/model_store/candidate_models/2024-02-01/model.pkl\n",
      "2025-10-28 19:21:30,676 [INFO] 💾 Saved metadata to /app/model_store/candidate_models/2024-02-01/metadata.json\n",
      "2025-10-28 19:21:30,710 [INFO] 💾 Saved preprocessing artefacts to /app/model_store/candidate_models/2024-02-01/preprocessing\n",
      "2025-10-28 19:21:30,711 [INFO] 🎉 Model training completed successfully for snapshot=2024-02-01\n"
     ]
    }
   ],
   "source": [
    "import sys\n",
    "import os\n",
    "\n",
    "# Ensure Python can find your project modules\n",
    "sys.path.append(os.path.abspath(\".\"))  # current directory as project root\n",
    "\n",
    "from utils.model_train import main\n",
    "\n",
    "# Optionally, pick a snapshot_date manually for the run\n",
    "snapshot_date = \"2024-06-01\"\n",
    "\n",
    "# Call main()\n",
    "main(snapshot_date=snapshot_date, config_path=\"config/ML_config.yaml\")"
   ]
  },
  {
   "cell_type": "markdown",
   "id": "874d6dab-81cf-4a07-8a43-dc02e123ab12",
   "metadata": {
    "jp-MarkdownHeadingCollapsed": true
   },
   "source": [
    "# Model Inference Pipeline"
   ]
  },
  {
   "cell_type": "code",
   "execution_count": 3,
   "id": "2970e5ca-d04b-49d6-8903-1d16350a7d0d",
   "metadata": {},
   "outputs": [
    {
     "name": "stdout",
     "output_type": "stream",
     "text": [
      "2025-10-27 19:55:51,180 [INFO] ✅ Loaded deployed model from /app/model_store/deployed_model\n",
      "2025-10-27 19:55:51,182 [INFO] Model version: credit_model_2024-01-01 | trained: 2025-10-26 23:32:09\n",
      "2025-10-27 19:55:51,293 [INFO] 📦 Loaded feature data: 498 records to score.\n",
      "2025-10-27 19:55:51,296 [INFO] Categorical imputer trained on: ['Occupation', 'Credit_Mix', 'Payment_Behaviour', 'Payment_of_Min_Amount']\n",
      "2025-10-27 19:55:51,296 [INFO] Categorical columns in current batch: ['Occupation', 'Credit_Mix', 'Payment_Behaviour', 'Payment_of_Min_Amount']\n",
      "2025-10-27 19:55:51,312 [INFO] 🔧 Preprocessed features with 117 columns.\n",
      "2025-10-27 19:55:51,356 [INFO] 💾 Saved predictions to /app/datamart/gold/model_predictions/2024_06_01.parquet\n",
      "2025-10-27 19:55:51,357 [INFO] 🎉 Inference completed successfully for snapshot=2024-06-01\n"
     ]
    },
    {
     "name": "stderr",
     "output_type": "stream",
     "text": [
      "/usr/local/lib/python3.12/site-packages/sklearn/utils/validation.py:2732: UserWarning: X has feature names, but OneHotEncoder was fitted without feature names\n",
      "  warnings.warn(\n"
     ]
    }
   ],
   "source": [
    "import sys\n",
    "import os\n",
    "\n",
    "# Ensure Python can find your project modules\n",
    "sys.path.append(os.path.abspath(\".\"))  # treat current directory as project root\n",
    "\n",
    "from utils.model_inference import main\n",
    "\n",
    "# Set snapshot date to score\n",
    "snapshot_date = \"2024-06-01\"\n",
    "\n",
    "# Run inference\n",
    "main(snapshot_date=snapshot_date)"
   ]
  },
  {
   "cell_type": "code",
   "execution_count": 4,
   "id": "a666b8ea-9312-4d60-a431-5ebdb3a62f36",
   "metadata": {},
   "outputs": [
    {
     "name": "stdout",
     "output_type": "stream",
     "text": [
      "Predictions columns: ['Customer_ID', 'prediction_score', 'model_version', 'snapshot_date']\n",
      "Labels columns: ['Customer_ID', 'loan_start_date', 'label', 'label_def', 'snapshot_date']\n",
      "Merged records: 498\n",
      "\n",
      "📊 Evaluation Metrics\n",
      "AUC       : 0.8103\n",
      "Gini      : 0.6206\n",
      "KS        : 0.5295\n",
      "F1 Score  : 0.4468\n",
      "Accuracy  : 0.7912\n",
      "Precision : 0.6667\n",
      "Recall    : 0.3360\n"
     ]
    }
   ],
   "source": [
    "import pandas as pd\n",
    "from sklearn.metrics import roc_auc_score, f1_score, accuracy_score, precision_score, recall_score\n",
    "from scipy.stats import ks_2samp\n",
    "\n",
    "# Paths\n",
    "pred_path  = \"datamart/gold/model_predictions/2024_06_01.parquet\"\n",
    "label_path = \"datamart/gold/label_store/2024_10_01.parquet\"\n",
    "\n",
    "# Load\n",
    "preds = pd.read_parquet(pred_path)\n",
    "labels = pd.read_parquet(label_path)\n",
    "\n",
    "# Sanity check columns\n",
    "print(\"Predictions columns:\", preds.columns.tolist())\n",
    "print(\"Labels columns:\", labels.columns.tolist())\n",
    "\n",
    "# Merge on common identifiers\n",
    "df_eval = preds.merge(labels, on=\"Customer_ID\", how=\"inner\")\n",
    "print(f\"Merged records: {len(df_eval)}\")\n",
    "\n",
    "# Ground truth column — adjust if needed (label / label_def etc.)\n",
    "y_true = df_eval[\"label\"]\n",
    "y_prob = df_eval[\"prediction_score\"]\n",
    "y_pred = (y_prob > 0.5).astype(int)\n",
    "\n",
    "# --- Compute metrics ---\n",
    "auc = roc_auc_score(y_true, y_prob)\n",
    "gini = 2 * auc - 1\n",
    "ks = ks_2samp(y_prob[y_true == 1], y_prob[y_true == 0]).statistic\n",
    "f1 = f1_score(y_true, y_pred)\n",
    "acc = accuracy_score(y_true, y_pred)\n",
    "prec = precision_score(y_true, y_pred, zero_division=0)\n",
    "rec = recall_score(y_true, y_pred)\n",
    "\n",
    "print(\"\\n📊 Evaluation Metrics\")\n",
    "print(f\"AUC       : {auc:.4f}\")\n",
    "print(f\"Gini      : {gini:.4f}\")\n",
    "print(f\"KS        : {ks:.4f}\")\n",
    "print(f\"F1 Score  : {f1:.4f}\")\n",
    "print(f\"Accuracy  : {acc:.4f}\")\n",
    "print(f\"Precision : {prec:.4f}\")\n",
    "print(f\"Recall    : {rec:.4f}\")"
   ]
  },
  {
   "cell_type": "code",
   "execution_count": null,
   "id": "09f8090b-e5e1-42f7-bbda-04dba967135a",
   "metadata": {},
   "outputs": [],
   "source": []
  },
  {
   "cell_type": "markdown",
   "id": "dd022f1d-fdf8-4f92-a753-5277c172d1ec",
   "metadata": {},
   "source": [
    "# Model Monitoring Pipeline"
   ]
  },
  {
   "cell_type": "code",
   "execution_count": 3,
   "id": "ba6e9a9d-593f-4c59-8a7c-2196d0c0ac50",
   "metadata": {},
   "outputs": [
    {
     "name": "stdout",
     "output_type": "stream",
     "text": [
      "2025-10-28 19:37:18,477 [INFO] 🧮 Monitoring alignment check:\n",
      "2025-10-28 19:37:18,479 [INFO]   → Label snapshot (ground truth available): 2024-10-01\n",
      "2025-10-28 19:37:18,480 [INFO]   → Prediction snapshot (inference month): 2024-06-01\n",
      "2025-10-28 19:37:18,480 [INFO]   → Evaluating model performance for predictions made in 2024-06-01 using labels from 2024-10-01\n",
      "2025-10-28 19:37:18,594 [INFO] 📊 Performance metrics:\n",
      "2025-10-28 19:37:18,595 [INFO]   auc: 0.8103\n",
      "2025-10-28 19:37:18,595 [INFO]   gini: 0.6206\n",
      "2025-10-28 19:37:18,595 [INFO]   ks: 0.5295\n",
      "2025-10-28 19:37:18,596 [INFO]   f1: 0.4468\n",
      "2025-10-28 19:37:18,597 [INFO]   accuracy: 0.7912\n",
      "2025-10-28 19:37:18,597 [INFO]   precision: 0.6667\n",
      "2025-10-28 19:37:18,599 [INFO]   recall: 0.3360\n",
      "2025-10-28 19:37:18,607 [INFO] 📘 PSI reference snapshot (from deployed model): 2024_01_01\n",
      "2025-10-28 19:37:18,609 [INFO] 🧮 PSI alignment check:\n",
      "2025-10-28 19:37:18,609 [INFO]   → Baseline (training end): 2024_01_01\n",
      "2025-10-28 19:37:18,610 [INFO]   → Current (inference month): 2024-06-01\n",
      "2025-10-28 19:37:18,611 [INFO]   → Monitoring month (label availability): 2024-10-01\n",
      "2025-10-28 19:37:18,725 [INFO] 📊 Evaluating stability between 2024_01_01 (baseline) and 2024-06-01 (current).\n",
      "2025-10-28 19:37:20,364 [INFO] 📊 Combined PSI+CSI dashboard saved to: /app/datamart/gold/model_monitoring/stability_dashboard_2024-06-01.png\n",
      "2025-10-28 19:37:20,367 [INFO] ✅ All monitored metrics within acceptable thresholds.\n",
      "2025-10-28 19:37:20,377 [INFO] 💾 Saved monitoring report to /app/datamart/gold/model_monitoring/monitoring_report_2024_06_01.json\n",
      "2025-10-28 19:37:20,379 [INFO] 📅 Report corresponds to inference run on 2024-06-01 (evaluated with labels from 2024-10-01)\n",
      "2025-10-28 19:37:20,628 [INFO] 📊 Candidate model AUC trend saved to: /app/datamart/gold/model_monitoring/candidate_auc_trend.png\n",
      "2025-10-28 19:37:20,630 [INFO] ✅ Monitoring run completed successfully\n"
     ]
    },
    {
     "name": "stderr",
     "output_type": "stream",
     "text": [
      "/app/utils/model_monitoring.py:386: UserWarning: Glyph 128200 (\\N{CHART WITH UPWARDS TREND}) missing from font(s) DejaVu Sans.\n",
      "  fig.tight_layout()\n",
      "/app/utils/model_monitoring.py:389: UserWarning: Glyph 128200 (\\N{CHART WITH UPWARDS TREND}) missing from font(s) DejaVu Sans.\n",
      "  plt.savefig(out_path, dpi=200)\n"
     ]
    }
   ],
   "source": [
    "import sys\n",
    "import os\n",
    "\n",
    "# Ensure Python can find your project modules\n",
    "sys.path.append(os.path.abspath(\".\"))  # treat current directory as project root\n",
    "\n",
    "from utils.model_monitoring import main\n",
    "\n",
    "# Set snapshot date to score\n",
    "snapshot_date = \"2024-10-01\"\n",
    "\n",
    "# Run inference\n",
    "main(snapshot_date=snapshot_date)"
   ]
  },
  {
   "cell_type": "code",
   "execution_count": null,
   "id": "b38abec1-1ec5-4019-8104-20df6d6135a8",
   "metadata": {},
   "outputs": [],
   "source": []
  },
  {
   "cell_type": "code",
   "execution_count": null,
   "id": "d6f65111-7e31-4425-9727-01a33797b58e",
   "metadata": {},
   "outputs": [],
   "source": []
  }
 ],
 "metadata": {
  "kernelspec": {
   "display_name": "Python 3 (ipykernel)",
   "language": "python",
   "name": "python3"
  },
  "language_info": {
   "codemirror_mode": {
    "name": "ipython",
    "version": 3
   },
   "file_extension": ".py",
   "mimetype": "text/x-python",
   "name": "python",
   "nbconvert_exporter": "python",
   "pygments_lexer": "ipython3",
   "version": "3.12.12"
  }
 },
 "nbformat": 4,
 "nbformat_minor": 5
}
